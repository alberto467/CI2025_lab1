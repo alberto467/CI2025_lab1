{
 "cells": [
  {
   "cell_type": "markdown",
   "id": "11fa4375",
   "metadata": {},
   "source": [
    "Copyright **`(c)`** 2025 Giovanni Squillero `<giovanni.squillero@polito.it>`  \n",
    "[`https://github.com/squillero/computational-intelligence`](https://github.com/squillero/computational-intelligence)  \n",
    "Free under certain conditions — see the [`license`](https://github.com/squillero/computational-intelligence/blob/master/LICENSE.md) for details.  "
   ]
  },
  {
   "cell_type": "code",
   "execution_count": 1,
   "id": "c0882a9f",
   "metadata": {},
   "outputs": [],
   "source": [
    "import numpy as np\n",
    "import time\n",
    "import copy\n",
    "import math\n",
    "from typing import Callable"
   ]
  },
  {
   "cell_type": "code",
   "execution_count": 2,
   "id": "3adb670e",
   "metadata": {},
   "outputs": [],
   "source": [
    "NUM_KNAPSACKS = 3\n",
    "NUM_ITEMS = 10\n",
    "NUM_DIMENSIONS = 2"
   ]
  },
  {
   "cell_type": "code",
   "execution_count": 3,
   "id": "2db51e99",
   "metadata": {},
   "outputs": [],
   "source": [
    "VALUES = np.random.randint(0, 100, size=NUM_ITEMS)\n",
    "WEIGHTS = np.random.randint(0, 100, size=(NUM_ITEMS, NUM_DIMENSIONS))\n",
    "CONSTRAINTS = np.random.randint(\n",
    "    0, 100 * NUM_ITEMS // NUM_KNAPSACKS, size=(NUM_KNAPSACKS, NUM_DIMENSIONS)\n",
    ")"
   ]
  },
  {
   "cell_type": "code",
   "execution_count": 4,
   "id": "15da2136",
   "metadata": {},
   "outputs": [
    {
     "data": {
      "text/plain": [
       "array([[ 95,   6],\n",
       "       [303, 319],\n",
       "       [290, 175]])"
      ]
     },
     "execution_count": 4,
     "metadata": {},
     "output_type": "execute_result"
    }
   ],
   "source": [
    "CONSTRAINTS"
   ]
  },
  {
   "cell_type": "markdown",
   "id": "8e0e0673",
   "metadata": {},
   "source": [
    "## TEST PROBLEMS"
   ]
  },
  {
   "cell_type": "code",
   "execution_count": 5,
   "id": "5595db9c",
   "metadata": {},
   "outputs": [],
   "source": [
    "# Problem 1:\n",
    "rng = np.random.default_rng(seed=42)\n",
    "NUM_KNAPSACKS = 3\n",
    "NUM_ITEMS = 20\n",
    "NUM_DIMENSIONS = 2\n",
    "VALUES = rng.integers(0, 100, size=NUM_ITEMS)\n",
    "WEIGHTS = rng.integers(0, 100, size=(NUM_ITEMS, NUM_DIMENSIONS))\n",
    "CONSTRAINTS = rng.integers(\n",
    "    0, 100 * NUM_ITEMS // NUM_KNAPSACKS, size=(NUM_KNAPSACKS, NUM_DIMENSIONS)\n",
    ")"
   ]
  },
  {
   "cell_type": "code",
   "execution_count": 6,
   "id": "74be74a4",
   "metadata": {},
   "outputs": [],
   "source": [
    "from dataclasses import dataclass\n",
    "\n",
    "\n",
    "@dataclass\n",
    "class Solution:\n",
    "    knapsacks: list[set[int]]\n",
    "    total_value: int\n",
    "\n",
    "    def get_items_left(self) -> set[int]:\n",
    "        items_left = set(range(NUM_ITEMS))\n",
    "        for ks in self.knapsacks:\n",
    "            items_left -= ks\n",
    "        return items_left"
   ]
  },
  {
   "cell_type": "code",
   "execution_count": 7,
   "id": "340937aa",
   "metadata": {},
   "outputs": [],
   "source": [
    "def find_first_solution(\n",
    "    knapsacks: list[set[int]] = None,\n",
    ") -> Solution:\n",
    "    if knapsacks is None:\n",
    "        knapsacks = [set() for _ in range(NUM_KNAPSACKS)]\n",
    "\n",
    "    running_totals = np.zeros((NUM_KNAPSACKS, NUM_DIMENSIONS), dtype=int)\n",
    "    total_value = 0\n",
    "\n",
    "    # We build a simple probability distribution that favors items with higher value-to-weight ratios.\n",
    "    nudged_probs = np.array(\n",
    "        [\n",
    "            1e-3 + np.log(VALUES[i] + 1) - (np.log((WEIGHTS[i] + 1)).sum())\n",
    "            for i in range(NUM_ITEMS)\n",
    "        ]\n",
    "    )\n",
    "\n",
    "    free_items = set(range(NUM_ITEMS))\n",
    "    for ks in knapsacks:\n",
    "        free_items -= ks\n",
    "\n",
    "    while len(free_items) > 0:\n",
    "        probs = nudged_probs[list(free_items)]\n",
    "        probs = probs / probs.sum()\n",
    "        item = rng.choice(list(free_items), p=probs)\n",
    "\n",
    "        # Calculate availability after adding the item to each knapsack\n",
    "        availability_after = CONSTRAINTS - (running_totals + WEIGHTS[item])\n",
    "        # print((availability_after / CONSTRAINTS).shape)\n",
    "        # Find knapsacks that can actually accommodate the item\n",
    "        available_knapsacks = np.where((availability_after >= 0).all(axis=1))[0]\n",
    "        # print(available_knapsacks)\n",
    "        # If no knapsack can accommodate the item, skip it\n",
    "        if len(available_knapsacks) == 0:\n",
    "            # This item cannot be added to any knapsack (we may be in a local optimum)\n",
    "            free_items.remove(item)\n",
    "            continue\n",
    "\n",
    "        if len(available_knapsacks) == 1:\n",
    "            knapsack_i = available_knapsacks[0]\n",
    "\n",
    "        else:\n",
    "            balance_after = (\n",
    "                CONSTRAINTS[available_knapsacks]\n",
    "                - availability_after[available_knapsacks]\n",
    "            )\n",
    "            balance_after = balance_after.max(axis=1) - balance_after.min(axis=1)\n",
    "            nudged_probs2 = 1 / (balance_after + 4)\n",
    "            nudged_probs2 = nudged_probs2 / nudged_probs2.sum()\n",
    "            # print(balance_after, balance_after.shape)\n",
    "            # Select the knapsack that will have the most balanced load between the dimensions of constraint after adding the item\n",
    "            knapsack_i = available_knapsacks[balance_after.argmin()]\n",
    "            # knapsack_i = rng.choice(available_knapsacks, p=nudged_probs2)\n",
    "\n",
    "        knapsacks[knapsack_i].add(item)\n",
    "        free_items.remove(item)\n",
    "        running_totals[knapsack_i] += WEIGHTS[item]\n",
    "        total_value += VALUES[item]\n",
    "\n",
    "    return Solution(knapsacks=knapsacks, total_value=total_value)"
   ]
  },
  {
   "cell_type": "code",
   "execution_count": 8,
   "id": "888cdbf1",
   "metadata": {},
   "outputs": [
    {
     "name": "stdout",
     "output_type": "stream",
     "text": [
      "1020\n"
     ]
    }
   ],
   "source": [
    "first_solution = find_first_solution()\n",
    "print(first_solution.total_value)"
   ]
  },
  {
   "cell_type": "code",
   "execution_count": 9,
   "id": "7339ac9a",
   "metadata": {},
   "outputs": [],
   "source": [
    "def benchmark_solution(\n",
    "    solution_factory: Callable[[], Solution], n_runs: int = 10\n",
    ") -> Solution:\n",
    "    start_time = time.time()\n",
    "\n",
    "    runs_points = np.zeros(n_runs)\n",
    "    best_knapsacks: list[set[int]] = []\n",
    "    best_value = 0\n",
    "\n",
    "    for run_i in range(n_runs):\n",
    "        solution = solution_factory()\n",
    "        total_value = solution.total_value\n",
    "\n",
    "        runs_points[run_i] = total_value\n",
    "        if total_value > best_value:\n",
    "            best_value = total_value\n",
    "            best_knapsacks = solution.knapsacks\n",
    "\n",
    "    end_time = time.time()\n",
    "    avg_time = (end_time - start_time) / n_runs\n",
    "\n",
    "    print(\"Best total value found:\", max(runs_points))\n",
    "    # print(\"Best knapsacks found:\", best_knapsacks)\n",
    "\n",
    "    print(f\"Statistics over runs (n = {n_runs}):\")\n",
    "    print(f\"  Min: {runs_points.min():.2f}\")\n",
    "    print(f\"  Max: {runs_points.max():.2f}\")\n",
    "    print(f\"  Mean: {runs_points.mean():.2f}\")\n",
    "    print(f\"  Std: {runs_points.std():.2f}\")\n",
    "    print(f\"Elapsed time: {(avg_time):.4f} seconds\")\n",
    "\n",
    "    return Solution(knapsacks=best_knapsacks, total_value=best_value)"
   ]
  },
  {
   "cell_type": "code",
   "execution_count": 10,
   "id": "4ffe5e15",
   "metadata": {},
   "outputs": [
    {
     "name": "stdout",
     "output_type": "stream",
     "text": [
      "Best total value found: 1065.0\n",
      "Statistics over runs (n = 10):\n",
      "  Min: 926.00\n",
      "  Max: 1065.00\n",
      "  Mean: 1001.70\n",
      "  Std: 45.98\n",
      "Elapsed time: 0.0011 seconds\n"
     ]
    }
   ],
   "source": [
    "benchmarked_solution = benchmark_solution(find_first_solution, n_runs=10)"
   ]
  },
  {
   "cell_type": "code",
   "execution_count": 11,
   "id": "593c19b6",
   "metadata": {},
   "outputs": [],
   "source": [
    "def tweak_solution(original: Solution) -> Solution:\n",
    "    # Shallow copy knapsacks (sets) and build an item->knapsack map for O(1) lookups\n",
    "    new_knapsacks = [set(s) for s in original.knapsacks]\n",
    "    item_to_knapsack = np.full(NUM_ITEMS, -1, dtype=int)\n",
    "    for k, ks in enumerate(new_knapsacks):\n",
    "        for it in ks:\n",
    "            item_to_knapsack[it] = k\n",
    "\n",
    "    # Compute running_totals efficiently per knapsack\n",
    "    running_totals = np.zeros((NUM_KNAPSACKS, NUM_DIMENSIONS), dtype=int)\n",
    "    for k, ks in enumerate(new_knapsacks):\n",
    "        if ks:\n",
    "            running_totals[k] = WEIGHTS[list(ks)].sum(axis=0)\n",
    "\n",
    "    total_value = int(original.total_value)\n",
    "\n",
    "    # Decide how many items to tweak\n",
    "    n_tweaks = int(rng.integers(1, max(2, NUM_ITEMS // 20)))\n",
    "\n",
    "    for _ in range(n_tweaks):\n",
    "        item = int(rng.integers(0, NUM_ITEMS))\n",
    "        current = int(item_to_knapsack[item])\n",
    "\n",
    "        # Remove from current knapsack if present (update map and totals incrementally)\n",
    "        if current != -1:\n",
    "            new_knapsacks[current].remove(item)\n",
    "            running_totals[current] -= WEIGHTS[item]\n",
    "            total_value -= int(VALUES[item])\n",
    "            item_to_knapsack[item] = -1\n",
    "\n",
    "        # Find candidate knapsacks that can accept the item (vectorized check)\n",
    "        # compute needed = running_totals + WEIGHTS[item] and compare to CONSTRAINTS\n",
    "        needed = running_totals + WEIGHTS[item]  # shape (K, D)\n",
    "        feasible = np.all(needed <= CONSTRAINTS, axis=1)\n",
    "        # exclude current (already removed) from candidates\n",
    "        feasible_indices = np.where(feasible)[0].tolist()\n",
    "        if current in feasible_indices:\n",
    "            feasible_indices.remove(current)\n",
    "\n",
    "        if feasible_indices:\n",
    "            chosen = int(rng.choice(feasible_indices))\n",
    "            new_knapsacks[chosen].add(item)\n",
    "            running_totals[chosen] += WEIGHTS[item]\n",
    "            total_value += int(VALUES[item])\n",
    "            item_to_knapsack[item] = chosen\n",
    "\n",
    "    return Solution(knapsacks=new_knapsacks, total_value=total_value)\n"
   ]
  },
  {
   "cell_type": "code",
   "execution_count": 12,
   "id": "3119adc1",
   "metadata": {},
   "outputs": [
    {
     "data": {
      "text/plain": [
       "1013"
      ]
     },
     "execution_count": 12,
     "metadata": {},
     "output_type": "execute_result"
    }
   ],
   "source": [
    "tweak_solution(benchmarked_solution).total_value"
   ]
  },
  {
   "cell_type": "code",
   "execution_count": 13,
   "id": "827e09ec",
   "metadata": {},
   "outputs": [],
   "source": [
    "def benchmark_tweak(\n",
    "    original: Solution,\n",
    "    tweak_function: Callable[[Solution], Solution],\n",
    "    n_runs: int = 10,\n",
    ") -> Solution:\n",
    "    start_time = time.time()\n",
    "\n",
    "    runs_points = np.zeros(n_runs)\n",
    "    best_solution = original\n",
    "\n",
    "    for run_i in range(n_runs):\n",
    "        solution = tweak_function(original)\n",
    "\n",
    "        runs_points[run_i] = solution.total_value\n",
    "        if solution.total_value > best_solution.total_value:\n",
    "            best_solution = solution\n",
    "\n",
    "    end_time = time.time()\n",
    "    avg_time = (end_time - start_time) / n_runs\n",
    "\n",
    "    print(\"Best total value found after tweak:\", max(runs_points))\n",
    "    # print(\"Best knapsacks found:\", best_knapsacks)\n",
    "\n",
    "    print(f\"Statistics over tweak runs (n = {n_runs}):\")\n",
    "    print(f\"  Min: {runs_points.min():.2f}\")\n",
    "    print(f\"  Max: {runs_points.max():.2f}\")\n",
    "    print(f\"  Mean: {runs_points.mean():.2f}\")\n",
    "    print(f\"  Std: {runs_points.std():.2f}\")\n",
    "    print(f\"Elapsed time: {(avg_time):.4f} seconds\")\n",
    "\n",
    "    return best_solution"
   ]
  },
  {
   "cell_type": "code",
   "execution_count": 14,
   "id": "12226119",
   "metadata": {},
   "outputs": [
    {
     "name": "stdout",
     "output_type": "stream",
     "text": [
      "Best total value found after tweak: 1053.0\n",
      "Statistics over tweak runs (n = 10):\n",
      "  Min: 980.00\n",
      "  Max: 1053.00\n",
      "  Mean: 1013.90\n",
      "  Std: 18.64\n",
      "Elapsed time: 0.0002 seconds\n"
     ]
    }
   ],
   "source": [
    "tweaked_solution = benchmark_tweak(benchmarked_solution, tweak_solution, n_runs=10)"
   ]
  },
  {
   "cell_type": "code",
   "execution_count": 15,
   "id": "c03b533b",
   "metadata": {},
   "outputs": [
    {
     "name": "stdout",
     "output_type": "stream",
     "text": [
      "Best total value found after tweak: 1065.0\n",
      "Statistics over tweak runs (n = 100):\n",
      "  Min: 968.00\n",
      "  Max: 1065.00\n",
      "  Mean: 1022.20\n",
      "  Std: 31.10\n",
      "Elapsed time: 0.0001 seconds\n"
     ]
    }
   ],
   "source": [
    "tweaked_solution = benchmark_tweak(tweaked_solution, tweak_solution, n_runs=100)"
   ]
  },
  {
   "cell_type": "code",
   "execution_count": 16,
   "id": "2733a440",
   "metadata": {},
   "outputs": [],
   "source": [
    "from tqdm import tqdm"
   ]
  },
  {
   "cell_type": "code",
   "execution_count": 17,
   "id": "451963eb",
   "metadata": {},
   "outputs": [
    {
     "name": "stderr",
     "output_type": "stream",
     "text": [
      "100%|██████████| 10/10 [00:00<00:00, 272.87it/s]"
     ]
    },
    {
     "name": "stdout",
     "output_type": "stream",
     "text": [
      "Best total value found after tweak: 1065.0\n",
      "Statistics over tweak runs (n = 100):\n",
      "  Min: 968.00\n",
      "  Max: 1065.00\n",
      "  Mean: 1018.46\n",
      "  Std: 32.58\n",
      "Elapsed time: 0.0001 seconds\n",
      "Best total value found after tweak: 1065.0\n",
      "Statistics over tweak runs (n = 100):\n",
      "  Min: 968.00\n",
      "  Max: 1065.00\n",
      "  Mean: 1019.09\n",
      "  Std: 31.83\n",
      "Elapsed time: 0.0000 seconds\n",
      "Best total value found after tweak: 1065.0\n",
      "Statistics over tweak runs (n = 100):\n",
      "  Min: 968.00\n",
      "  Max: 1065.00\n",
      "  Mean: 1025.19\n",
      "  Std: 29.18\n",
      "Elapsed time: 0.0000 seconds\n",
      "Best total value found after tweak: 1065.0\n",
      "Statistics over tweak runs (n = 100):\n",
      "  Min: 968.00\n",
      "  Max: 1065.00\n",
      "  Mean: 1019.78\n",
      "  Std: 32.42\n",
      "Elapsed time: 0.0000 seconds\n",
      "Best total value found after tweak: 1065.0\n",
      "Statistics over tweak runs (n = 100):\n",
      "  Min: 968.00\n",
      "  Max: 1065.00\n",
      "  Mean: 1025.07\n",
      "  Std: 29.65\n",
      "Elapsed time: 0.0000 seconds\n",
      "Best total value found after tweak: 1065.0\n",
      "Statistics over tweak runs (n = 100):\n",
      "  Min: 968.00\n",
      "  Max: 1065.00\n",
      "  Mean: 1024.47\n",
      "  Std: 33.22\n",
      "Elapsed time: 0.0000 seconds\n",
      "Best total value found after tweak: 1065.0\n",
      "Statistics over tweak runs (n = 100):\n",
      "  Min: 968.00\n",
      "  Max: 1065.00\n",
      "  Mean: 1022.32\n",
      "  Std: 30.54\n",
      "Elapsed time: 0.0000 seconds\n",
      "Best total value found after tweak: 1065.0\n",
      "Statistics over tweak runs (n = 100):\n",
      "  Min: 968.00\n",
      "  Max: 1065.00\n",
      "  Mean: 1023.98\n",
      "  Std: 32.96\n",
      "Elapsed time: 0.0000 seconds\n",
      "Best total value found after tweak: 1065.0\n",
      "Statistics over tweak runs (n = 100):\n",
      "  Min: 968.00\n",
      "  Max: 1065.00\n",
      "  Mean: 1022.08\n",
      "  Std: 31.85\n",
      "Elapsed time: 0.0000 seconds\n",
      "Best total value found after tweak: 1065.0\n",
      "Statistics over tweak runs (n = 100):\n",
      "  Min: 968.00\n",
      "  Max: 1065.00\n",
      "  Mean: 1023.65\n",
      "  Std: 31.51\n",
      "Elapsed time: 0.0000 seconds\n"
     ]
    },
    {
     "name": "stderr",
     "output_type": "stream",
     "text": [
      "\n"
     ]
    }
   ],
   "source": [
    "for _ in tqdm(range(10)):\n",
    "    tweaked_solution = benchmark_tweak(tweaked_solution, tweak_solution, n_runs=100)"
   ]
  },
  {
   "cell_type": "markdown",
   "id": "9a1a2779",
   "metadata": {},
   "source": [
    "## TEST PROBLEMS"
   ]
  },
  {
   "cell_type": "code",
   "execution_count": 18,
   "id": "0cd477f5",
   "metadata": {},
   "outputs": [],
   "source": [
    "# Problem 1:\n",
    "rng = np.random.default_rng(seed=42)\n",
    "NUM_KNAPSACKS = 3\n",
    "NUM_ITEMS = 20\n",
    "NUM_DIMENSIONS = 2\n",
    "VALUES = rng.integers(0, 100, size=NUM_ITEMS)\n",
    "WEIGHTS = rng.integers(0, 100, size=(NUM_ITEMS, NUM_DIMENSIONS))\n",
    "CONSTRAINTS = rng.integers(\n",
    "    0, 100 * NUM_ITEMS // NUM_KNAPSACKS, size=(NUM_KNAPSACKS, NUM_DIMENSIONS)\n",
    ")"
   ]
  },
  {
   "cell_type": "code",
   "execution_count": 19,
   "id": "7645c481",
   "metadata": {},
   "outputs": [
    {
     "name": "stdout",
     "output_type": "stream",
     "text": [
      "Best total value found: 1065.0\n",
      "Statistics over runs (n = 100):\n",
      "  Min: 843.00\n",
      "  Max: 1065.00\n",
      "  Mean: 997.33\n",
      "  Std: 54.76\n",
      "Elapsed time: 0.0010 seconds\n"
     ]
    },
    {
     "name": "stderr",
     "output_type": "stream",
     "text": [
      "  0%|          | 0/10 [00:00<?, ?it/s]"
     ]
    },
    {
     "name": "stdout",
     "output_type": "stream",
     "text": [
      "Best total value found after tweak: 1065.0\n",
      "Statistics over tweak runs (n = 100):\n",
      "  Min: 968.00\n",
      "  Max: 1065.00\n",
      "  Mean: 1022.66\n",
      "  Std: 29.35\n",
      "Elapsed time: 0.0000 seconds\n",
      "Best total value found after tweak: 1065.0\n",
      "Statistics over tweak runs (n = 100):\n",
      "  Min: 968.00\n",
      "  Max: 1065.00\n",
      "  Mean: 1022.72\n",
      "  Std: 32.61\n",
      "Elapsed time: 0.0001 seconds\n",
      "Best total value found after tweak: 1065.0\n",
      "Statistics over tweak runs (n = 100):\n",
      "  Min: 968.00\n",
      "  Max: 1065.00\n",
      "  Mean: 1023.22\n",
      "  Std: 32.54\n",
      "Elapsed time: 0.0000 seconds\n",
      "Best total value found after tweak: 1065.0\n",
      "Statistics over tweak runs (n = 100):\n",
      "  Min: 968.00\n",
      "  Max: 1065.00\n",
      "  Mean: 1017.91\n",
      "  Std: 34.86\n",
      "Elapsed time: 0.0001 seconds\n",
      "Best total value found after tweak: 1065.0\n",
      "Statistics over tweak runs (n = 100):\n",
      "  Min: 968.00\n",
      "  Max: 1065.00\n",
      "  Mean: 1024.25\n",
      "  Std: 33.03\n",
      "Elapsed time: 0.0001 seconds\n",
      "Best total value found after tweak: 1065.0\n",
      "Statistics over tweak runs (n = 100):\n",
      "  Min: 968.00\n",
      "  Max: 1065.00\n",
      "  Mean: 1025.08\n",
      "  Std: 32.68\n",
      "Elapsed time: 0.0000 seconds\n",
      "Best total value found after tweak: 1065.0\n",
      "Statistics over tweak runs (n = 100):\n",
      "  Min: 968.00\n",
      "  Max: 1065.00\n",
      "  Mean: 1025.31\n",
      "  Std: 32.24\n",
      "Elapsed time: 0.0000 seconds\n",
      "Best total value found after tweak: 1065.0\n",
      "Statistics over tweak runs (n = 100):\n",
      "  Min: 968.00\n",
      "  Max: 1065.00\n",
      "  Mean: 1017.58\n",
      "  Std: 32.56\n",
      "Elapsed time: 0.0000 seconds\n",
      "Best total value found after tweak: 1065.0\n",
      "Statistics over tweak runs (n = 100):\n",
      "  Min: 968.00\n",
      "  Max: 1065.00\n",
      "  Mean: 1021.30\n",
      "  Std: 33.41\n",
      "Elapsed time: 0.0000 seconds\n"
     ]
    },
    {
     "name": "stderr",
     "output_type": "stream",
     "text": [
      "100%|██████████| 10/10 [00:00<00:00, 200.05it/s]"
     ]
    },
    {
     "name": "stdout",
     "output_type": "stream",
     "text": [
      "Best total value found after tweak: 1065.0\n",
      "Statistics over tweak runs (n = 100):\n",
      "  Min: 968.00\n",
      "  Max: 1065.00\n",
      "  Mean: 1021.06\n",
      "  Std: 32.07\n",
      "Elapsed time: 0.0000 seconds\n",
      "1065\n"
     ]
    },
    {
     "name": "stderr",
     "output_type": "stream",
     "text": [
      "\n"
     ]
    }
   ],
   "source": [
    "first_solution = benchmark_solution(find_first_solution, n_runs=100)\n",
    "first_solution.total_value\n",
    "tweaked_solution = first_solution\n",
    "for _ in tqdm(range(10)):\n",
    "    tweaked_solution = benchmark_tweak(tweaked_solution, tweak_solution, n_runs=100)\n",
    "print(tweaked_solution.total_value)"
   ]
  },
  {
   "cell_type": "code",
   "execution_count": 20,
   "id": "9eed08a0",
   "metadata": {},
   "outputs": [],
   "source": [
    "# Problem 2:\n",
    "rng = np.random.default_rng(seed=42)\n",
    "NUM_KNAPSACKS = 10\n",
    "NUM_ITEMS = 100\n",
    "NUM_DIMENSIONS = 10\n",
    "VALUES = rng.integers(0, 1000, size=NUM_ITEMS)\n",
    "WEIGHTS = rng.integers(0, 1000, size=(NUM_ITEMS, NUM_DIMENSIONS))\n",
    "CONSTRAINTS = rng.integers(\n",
    "    1000 * 2, 1000 * NUM_ITEMS // NUM_KNAPSACKS, size=(NUM_KNAPSACKS, NUM_DIMENSIONS)\n",
    ")"
   ]
  },
  {
   "cell_type": "code",
   "execution_count": 21,
   "id": "20425eb6",
   "metadata": {},
   "outputs": [
    {
     "name": "stdout",
     "output_type": "stream",
     "text": [
      "Best total value found: 39355.0\n",
      "Statistics over runs (n = 1000):\n",
      "  Min: 27817.00\n",
      "  Max: 39355.00\n",
      "  Mean: 34308.07\n",
      "  Std: 1755.80\n",
      "Elapsed time: 0.0028 seconds\n"
     ]
    },
    {
     "name": "stderr",
     "output_type": "stream",
     "text": [
      "  3%|▎         | 7/250 [00:00<00:03, 62.09it/s]"
     ]
    },
    {
     "name": "stdout",
     "output_type": "stream",
     "text": [
      "Best total value found after tweak: 40004.0\n",
      "Statistics over tweak runs (n = 250):\n",
      "  Min: 37041.00\n",
      "  Max: 40004.00\n",
      "  Mean: 38694.06\n",
      "  Std: 498.42\n",
      "Elapsed time: 0.0001 seconds\n",
      "Best total value found after tweak: 40922.0\n",
      "Statistics over tweak runs (n = 250):\n",
      "  Min: 37479.00\n",
      "  Max: 40922.00\n",
      "  Mean: 39355.14\n",
      "  Std: 618.43\n",
      "Elapsed time: 0.0001 seconds\n",
      "Best total value found after tweak: 41872.0\n",
      "Statistics over tweak runs (n = 250):\n",
      "  Min: 38586.00\n",
      "  Max: 41872.00\n",
      "  Mean: 40355.85\n",
      "  Std: 682.64\n",
      "Elapsed time: 0.0001 seconds\n",
      "Best total value found after tweak: 42189.0\n",
      "Statistics over tweak runs (n = 250):\n",
      "  Min: 38992.00\n",
      "  Max: 42189.00\n",
      "  Mean: 40987.52\n",
      "  Std: 617.38\n",
      "Elapsed time: 0.0000 seconds\n",
      "Best total value found after tweak: 42189.0\n",
      "Statistics over tweak runs (n = 250):\n",
      "  Min: 39774.00\n",
      "  Max: 42189.00\n",
      "  Mean: 41292.75\n",
      "  Std: 582.99\n",
      "Elapsed time: 0.0001 seconds\n",
      "Best total value found after tweak: 42429.0\n",
      "Statistics over tweak runs (n = 250):\n",
      "  Min: 38705.00\n",
      "  Max: 42429.00\n",
      "  Mean: 41340.13\n",
      "  Std: 608.24\n",
      "Elapsed time: 0.0001 seconds\n",
      "Best total value found after tweak: 42867.0\n",
      "Statistics over tweak runs (n = 250):\n",
      "  Min: 39947.00\n",
      "  Max: 42867.00\n",
      "  Mean: 41910.42\n",
      "  Std: 525.66\n",
      "Elapsed time: 0.0001 seconds\n",
      "Best total value found after tweak: 43133.0\n",
      "Statistics over tweak runs (n = 250):\n",
      "  Min: 40235.00\n",
      "  Max: 43133.00\n",
      "  Mean: 42123.86\n",
      "  Std: 579.81\n",
      "Elapsed time: 0.0001 seconds\n",
      "Best total value found after tweak: 43723.0\n",
      "Statistics over tweak runs (n = 250):\n",
      "  Min: 40548.00\n",
      "  Max: 43723.00\n",
      "  Mean: 42344.08\n",
      "  Std: 592.82\n",
      "Elapsed time: 0.0001 seconds\n",
      "Best total value found after tweak: 43786.0\n",
      "Statistics over tweak runs (n = 250):\n",
      "  Min: 41022.00\n",
      "  Max: 43786.00\n",
      "  Mean: 42964.61\n",
      "  Std: 581.00\n",
      "Elapsed time: 0.0001 seconds\n",
      "Best total value found after tweak: 44350.0\n",
      "Statistics over tweak runs (n = 250):\n",
      "  Min: 41367.00\n",
      "  Max: 44350.00\n",
      "  Mean: 43025.83\n",
      "  Std: 578.59\n",
      "Elapsed time: 0.0000 seconds\n",
      "Best total value found after tweak: 45128.0\n",
      "Statistics over tweak runs (n = 250):\n",
      "  Min: 41066.00\n",
      "  Max: 45128.00\n",
      "  Mean: 43522.64\n",
      "  Std: 640.31\n",
      "Elapsed time: 0.0001 seconds\n",
      "Best total value found after tweak: 45128.0\n",
      "Statistics over tweak runs (n = 250):\n",
      "  Min: 42359.00\n",
      "  Max: 45128.00\n",
      "  Mean: 44193.64\n",
      "  Std: 619.72\n",
      "Elapsed time: 0.0000 seconds\n",
      "Best total value found after tweak: 45590.0\n",
      "Statistics over tweak runs (n = 250):\n",
      "  Min: 42590.00\n",
      "  Max: 45590.00\n",
      "  Mean: 44322.81\n",
      "  Std: 579.65\n",
      "Elapsed time: 0.0001 seconds\n"
     ]
    },
    {
     "name": "stderr",
     "output_type": "stream",
     "text": [
      "  9%|▉         | 23/250 [00:00<00:03, 71.03it/s]"
     ]
    },
    {
     "name": "stdout",
     "output_type": "stream",
     "text": [
      "Best total value found after tweak: 45590.0\n",
      "Statistics over tweak runs (n = 250):\n",
      "  Min: 43042.00\n",
      "  Max: 45590.00\n",
      "  Mean: 44701.03\n",
      "  Std: 610.63\n",
      "Elapsed time: 0.0001 seconds\n",
      "Best total value found after tweak: 45590.0\n",
      "Statistics over tweak runs (n = 250):\n",
      "  Min: 42795.00\n",
      "  Max: 45590.00\n",
      "  Mean: 44675.74\n",
      "  Std: 599.55\n",
      "Elapsed time: 0.0001 seconds\n",
      "Best total value found after tweak: 45590.0\n",
      "Statistics over tweak runs (n = 250):\n",
      "  Min: 42126.00\n",
      "  Max: 45590.00\n",
      "  Mean: 44650.50\n",
      "  Std: 629.68\n",
      "Elapsed time: 0.0001 seconds\n",
      "Best total value found after tweak: 45590.0\n",
      "Statistics over tweak runs (n = 250):\n",
      "  Min: 42792.00\n",
      "  Max: 45590.00\n",
      "  Mean: 44704.87\n",
      "  Std: 587.56\n",
      "Elapsed time: 0.0001 seconds\n",
      "Best total value found after tweak: 45590.0\n",
      "Statistics over tweak runs (n = 250):\n",
      "  Min: 43205.00\n",
      "  Max: 45590.00\n",
      "  Mean: 44753.46\n",
      "  Std: 563.35\n",
      "Elapsed time: 0.0001 seconds\n",
      "Best total value found after tweak: 45771.0\n",
      "Statistics over tweak runs (n = 250):\n",
      "  Min: 42232.00\n",
      "  Max: 45771.00\n",
      "  Mean: 44747.66\n",
      "  Std: 583.56\n",
      "Elapsed time: 0.0001 seconds\n",
      "Best total value found after tweak: 45771.0\n",
      "Statistics over tweak runs (n = 250):\n",
      "  Min: 42375.00\n",
      "  Max: 45771.00\n",
      "  Mean: 44865.42\n",
      "  Std: 615.00\n",
      "Elapsed time: 0.0000 seconds\n",
      "Best total value found after tweak: 45854.0\n",
      "Statistics over tweak runs (n = 250):\n",
      "  Min: 43092.00\n",
      "  Max: 45854.00\n",
      "  Mean: 44923.45\n",
      "  Std: 612.36\n",
      "Elapsed time: 0.0001 seconds\n",
      "Best total value found after tweak: 46304.0\n",
      "Statistics over tweak runs (n = 250):\n",
      "  Min: 43240.00\n",
      "  Max: 46304.00\n",
      "  Mean: 44984.26\n",
      "  Std: 595.21\n",
      "Elapsed time: 0.0000 seconds\n",
      "Best total value found after tweak: 46304.0\n",
      "Statistics over tweak runs (n = 250):\n",
      "  Min: 43714.00\n",
      "  Max: 46304.00\n",
      "  Mean: 45375.12\n",
      "  Std: 614.77\n",
      "Elapsed time: 0.0001 seconds\n",
      "Best total value found after tweak: 46304.0\n",
      "Statistics over tweak runs (n = 250):\n",
      "  Min: 43275.00\n",
      "  Max: 46304.00\n",
      "  Mean: 45399.95\n",
      "  Std: 599.27\n",
      "Elapsed time: 0.0001 seconds\n",
      "Best total value found after tweak: 46304.0\n",
      "Statistics over tweak runs (n = 250):\n",
      "  Min: 43197.00\n",
      "  Max: 46304.00\n",
      "  Mean: 45358.26\n",
      "  Std: 591.26\n",
      "Elapsed time: 0.0001 seconds\n",
      "Best total value found after tweak: 46304.0\n",
      "Statistics over tweak runs (n = 250):\n",
      "  Min: 43322.00\n",
      "  Max: 46304.00\n",
      "  Mean: 45443.15\n",
      "  Std: 602.74\n",
      "Elapsed time: 0.0000 seconds\n",
      "Best total value found after tweak: 46304.0\n",
      "Statistics over tweak runs (n = 250):\n",
      "  Min: 43191.00\n",
      "  Max: 46304.00\n",
      "  Mean: 45367.20\n",
      "  Std: 636.81\n",
      "Elapsed time: 0.0000 seconds\n",
      "Best total value found after tweak: 46304.0\n",
      "Statistics over tweak runs (n = 250):\n",
      "  Min: 43100.00\n",
      "  Max: 46304.00\n",
      "  Mean: 45423.02\n",
      "  Std: 633.90\n",
      "Elapsed time: 0.0001 seconds\n"
     ]
    },
    {
     "name": "stderr",
     "output_type": "stream",
     "text": [
      " 16%|█▌        | 39/250 [00:00<00:02, 72.14it/s]"
     ]
    },
    {
     "name": "stdout",
     "output_type": "stream",
     "text": [
      "Best total value found after tweak: 46309.0\n",
      "Statistics over tweak runs (n = 250):\n",
      "  Min: 43783.00\n",
      "  Max: 46309.00\n",
      "  Mean: 45446.86\n",
      "  Std: 590.22\n",
      "Elapsed time: 0.0001 seconds\n",
      "Best total value found after tweak: 46581.0\n",
      "Statistics over tweak runs (n = 250):\n",
      "  Min: 43457.00\n",
      "  Max: 46581.00\n",
      "  Mean: 45483.83\n",
      "  Std: 577.64\n",
      "Elapsed time: 0.0001 seconds\n",
      "Best total value found after tweak: 46581.0\n",
      "Statistics over tweak runs (n = 250):\n",
      "  Min: 43831.00\n",
      "  Max: 46581.00\n",
      "  Mean: 45693.40\n",
      "  Std: 621.66\n",
      "Elapsed time: 0.0001 seconds\n",
      "Best total value found after tweak: 46687.0\n",
      "Statistics over tweak runs (n = 250):\n",
      "  Min: 44011.00\n",
      "  Max: 46687.00\n",
      "  Mean: 45694.41\n",
      "  Std: 597.65\n",
      "Elapsed time: 0.0000 seconds\n",
      "Best total value found after tweak: 46687.0\n",
      "Statistics over tweak runs (n = 250):\n",
      "  Min: 44122.00\n",
      "  Max: 46687.00\n",
      "  Mean: 45842.35\n",
      "  Std: 570.74\n",
      "Elapsed time: 0.0000 seconds\n",
      "Best total value found after tweak: 46793.0\n",
      "Statistics over tweak runs (n = 250):\n",
      "  Min: 44097.00\n",
      "  Max: 46793.00\n",
      "  Mean: 45755.87\n",
      "  Std: 605.07\n",
      "Elapsed time: 0.0000 seconds\n",
      "Best total value found after tweak: 46812.0\n",
      "Statistics over tweak runs (n = 250):\n",
      "  Min: 44354.00\n",
      "  Max: 46812.00\n",
      "  Mean: 45856.68\n",
      "  Std: 579.78\n",
      "Elapsed time: 0.0000 seconds\n",
      "Best total value found after tweak: 46812.0\n",
      "Statistics over tweak runs (n = 250):\n",
      "  Min: 44152.00\n",
      "  Max: 46812.00\n",
      "  Mean: 45911.45\n",
      "  Std: 601.00\n",
      "Elapsed time: 0.0000 seconds\n",
      "Best total value found after tweak: 46812.0\n",
      "Statistics over tweak runs (n = 250):\n",
      "  Min: 44197.00\n",
      "  Max: 46812.00\n",
      "  Mean: 45865.79\n",
      "  Std: 581.96\n",
      "Elapsed time: 0.0000 seconds\n",
      "Best total value found after tweak: 46852.0\n",
      "Statistics over tweak runs (n = 250):\n",
      "  Min: 44239.00\n",
      "  Max: 46852.00\n",
      "  Mean: 45898.63\n",
      "  Std: 645.21\n",
      "Elapsed time: 0.0000 seconds\n",
      "Best total value found after tweak: 46852.0\n",
      "Statistics over tweak runs (n = 250):\n",
      "  Min: 43860.00\n",
      "  Max: 46852.00\n",
      "  Mean: 45952.76\n",
      "  Std: 603.24\n",
      "Elapsed time: 0.0001 seconds\n",
      "Best total value found after tweak: 46852.0\n",
      "Statistics over tweak runs (n = 250):\n",
      "  Min: 44162.00\n",
      "  Max: 46852.00\n",
      "  Mean: 45927.15\n",
      "  Std: 599.85\n",
      "Elapsed time: 0.0001 seconds\n",
      "Best total value found after tweak: 47052.0\n",
      "Statistics over tweak runs (n = 250):\n",
      "  Min: 44085.00\n",
      "  Max: 47052.00\n",
      "  Mean: 45850.92\n",
      "  Std: 644.80\n",
      "Elapsed time: 0.0001 seconds\n",
      "Best total value found after tweak: 47052.0\n",
      "Statistics over tweak runs (n = 250):\n",
      "  Min: 44332.00\n",
      "  Max: 47052.00\n",
      "  Mean: 46129.78\n",
      "  Std: 607.77\n",
      "Elapsed time: 0.0001 seconds\n",
      "Best total value found after tweak: 47065.0\n",
      "Statistics over tweak runs (n = 250):\n",
      "  Min: 44087.00\n",
      "  Max: 47065.00\n",
      "  Mean: 46089.46\n",
      "  Std: 663.42\n",
      "Elapsed time: 0.0001 seconds\n"
     ]
    },
    {
     "name": "stderr",
     "output_type": "stream",
     "text": [
      " 22%|██▏       | 55/250 [00:02<00:11, 16.62it/s]"
     ]
    },
    {
     "name": "stdout",
     "output_type": "stream",
     "text": [
      "Best total value found after tweak: 47065.0\n",
      "Statistics over tweak runs (n = 250):\n",
      "  Min: 44014.00\n",
      "  Max: 47065.00\n",
      "  Mean: 46060.43\n",
      "  Std: 590.22\n",
      "Elapsed time: 0.0001 seconds\n",
      "Best total value found after tweak: 47065.0\n",
      "Statistics over tweak runs (n = 250):\n",
      "  Min: 43808.00\n",
      "  Max: 47065.00\n",
      "  Mean: 46145.58\n",
      "  Std: 617.68\n",
      "Elapsed time: 0.0065 seconds\n",
      "Best total value found after tweak: 47065.0\n",
      "Statistics over tweak runs (n = 250):\n",
      "  Min: 43919.00\n",
      "  Max: 47065.00\n",
      "  Mean: 46124.37\n",
      "  Std: 629.60\n",
      "Elapsed time: 0.0001 seconds\n",
      "Best total value found after tweak: 47074.0\n",
      "Statistics over tweak runs (n = 250):\n",
      "  Min: 44428.00\n",
      "  Max: 47074.00\n",
      "  Mean: 46176.83\n",
      "  Std: 633.89\n",
      "Elapsed time: 0.0001 seconds\n",
      "Best total value found after tweak: 47074.0\n",
      "Statistics over tweak runs (n = 250):\n",
      "  Min: 44290.00\n",
      "  Max: 47074.00\n",
      "  Mean: 46123.13\n",
      "  Std: 588.89\n",
      "Elapsed time: 0.0001 seconds\n",
      "Best total value found after tweak: 47074.0\n",
      "Statistics over tweak runs (n = 250):\n",
      "  Min: 44460.00\n",
      "  Max: 47074.00\n",
      "  Mean: 46178.04\n",
      "  Std: 617.70\n",
      "Elapsed time: 0.0000 seconds\n",
      "Best total value found after tweak: 47074.0\n",
      "Statistics over tweak runs (n = 250):\n",
      "  Min: 44046.00\n",
      "  Max: 47074.00\n",
      "  Mean: 46196.67\n",
      "  Std: 600.37\n",
      "Elapsed time: 0.0000 seconds\n",
      "Best total value found after tweak: 47161.0\n",
      "Statistics over tweak runs (n = 250):\n",
      "  Min: 44028.00\n",
      "  Max: 47161.00\n",
      "  Mean: 46180.66\n",
      "  Std: 622.71\n",
      "Elapsed time: 0.0000 seconds\n",
      "Best total value found after tweak: 47161.0\n",
      "Statistics over tweak runs (n = 250):\n",
      "  Min: 44143.00\n",
      "  Max: 47161.00\n",
      "  Mean: 46234.98\n",
      "  Std: 613.47\n",
      "Elapsed time: 0.0001 seconds\n",
      "Best total value found after tweak: 47161.0\n",
      "Statistics over tweak runs (n = 250):\n",
      "  Min: 44190.00\n",
      "  Max: 47161.00\n",
      "  Mean: 46163.72\n",
      "  Std: 630.14\n",
      "Elapsed time: 0.0001 seconds\n",
      "Best total value found after tweak: 47161.0\n",
      "Statistics over tweak runs (n = 250):\n",
      "  Min: 43972.00\n",
      "  Max: 47161.00\n",
      "  Mean: 46280.79\n",
      "  Std: 608.70\n",
      "Elapsed time: 0.0001 seconds\n",
      "Best total value found after tweak: 47161.0\n",
      "Statistics over tweak runs (n = 250):\n",
      "  Min: 44236.00\n",
      "  Max: 47161.00\n",
      "  Mean: 46291.24\n",
      "  Std: 611.81\n",
      "Elapsed time: 0.0001 seconds\n",
      "Best total value found after tweak: 47161.0\n",
      "Statistics over tweak runs (n = 250):\n",
      "  Min: 43932.00\n",
      "  Max: 47161.00\n",
      "  Mean: 46244.62\n",
      "  Std: 606.37\n",
      "Elapsed time: 0.0001 seconds\n",
      "Best total value found after tweak: 47161.0\n",
      "Statistics over tweak runs (n = 250):\n",
      "  Min: 44540.00\n",
      "  Max: 47161.00\n",
      "  Mean: 46202.22\n",
      "  Std: 633.82\n",
      "Elapsed time: 0.0001 seconds\n"
     ]
    },
    {
     "name": "stderr",
     "output_type": "stream",
     "text": [
      " 27%|██▋       | 68/250 [00:02<00:07, 25.49it/s]"
     ]
    },
    {
     "name": "stdout",
     "output_type": "stream",
     "text": [
      "Best total value found after tweak: 47161.0\n",
      "Statistics over tweak runs (n = 250):\n",
      "  Min: 43994.00\n",
      "  Max: 47161.00\n",
      "  Mean: 46210.84\n",
      "  Std: 624.85\n",
      "Elapsed time: 0.0001 seconds\n",
      "Best total value found after tweak: 47161.0\n",
      "Statistics over tweak runs (n = 250):\n",
      "  Min: 44718.00\n",
      "  Max: 47161.00\n",
      "  Mean: 46278.44\n",
      "  Std: 598.90\n",
      "Elapsed time: 0.0001 seconds\n",
      "Best total value found after tweak: 47161.0\n",
      "Statistics over tweak runs (n = 250):\n",
      "  Min: 44142.00\n",
      "  Max: 47161.00\n",
      "  Mean: 46187.85\n",
      "  Std: 646.30\n",
      "Elapsed time: 0.0001 seconds\n",
      "Best total value found after tweak: 47194.0\n",
      "Statistics over tweak runs (n = 250):\n",
      "  Min: 44397.00\n",
      "  Max: 47194.00\n",
      "  Mean: 46214.88\n",
      "  Std: 634.51\n",
      "Elapsed time: 0.0001 seconds\n",
      "Best total value found after tweak: 47194.0\n",
      "Statistics over tweak runs (n = 250):\n",
      "  Min: 43965.00\n",
      "  Max: 47194.00\n",
      "  Mean: 46241.80\n",
      "  Std: 601.76\n",
      "Elapsed time: 0.0000 seconds\n",
      "Best total value found after tweak: 47194.0\n",
      "Statistics over tweak runs (n = 250):\n",
      "  Min: 44277.00\n",
      "  Max: 47194.00\n",
      "  Mean: 46229.64\n",
      "  Std: 618.05\n",
      "Elapsed time: 0.0001 seconds\n",
      "Best total value found after tweak: 47194.0\n",
      "Statistics over tweak runs (n = 250):\n",
      "  Min: 43984.00\n",
      "  Max: 47194.00\n",
      "  Mean: 46276.12\n",
      "  Std: 593.08\n",
      "Elapsed time: 0.0001 seconds\n",
      "Best total value found after tweak: 47194.0\n",
      "Statistics over tweak runs (n = 250):\n",
      "  Min: 44802.00\n",
      "  Max: 47194.00\n",
      "  Mean: 46297.92\n",
      "  Std: 587.69\n",
      "Elapsed time: 0.0001 seconds\n",
      "Best total value found after tweak: 47194.0\n",
      "Statistics over tweak runs (n = 250):\n",
      "  Min: 44520.00\n",
      "  Max: 47194.00\n",
      "  Mean: 46260.72\n",
      "  Std: 611.64\n",
      "Elapsed time: 0.0001 seconds\n",
      "Best total value found after tweak: 47194.0\n",
      "Statistics over tweak runs (n = 250):\n",
      "  Min: 44222.00\n",
      "  Max: 47194.00\n",
      "  Mean: 46235.67\n",
      "  Std: 616.15\n",
      "Elapsed time: 0.0001 seconds\n",
      "Best total value found after tweak: 47436.0\n",
      "Statistics over tweak runs (n = 250):\n",
      "  Min: 44449.00\n",
      "  Max: 47436.00\n",
      "  Mean: 46202.90\n",
      "  Std: 603.83\n",
      "Elapsed time: 0.0001 seconds\n",
      "Best total value found after tweak: 47436.0\n",
      "Statistics over tweak runs (n = 250):\n",
      "  Min: 44887.00\n",
      "  Max: 47436.00\n",
      "  Mean: 46483.04\n",
      "  Std: 571.00\n",
      "Elapsed time: 0.0001 seconds\n"
     ]
    },
    {
     "name": "stderr",
     "output_type": "stream",
     "text": [
      " 32%|███▏      | 80/250 [00:02<00:05, 33.08it/s]"
     ]
    },
    {
     "name": "stdout",
     "output_type": "stream",
     "text": [
      "Best total value found after tweak: 47436.0\n",
      "Statistics over tweak runs (n = 250):\n",
      "  Min: 44543.00\n",
      "  Max: 47436.00\n",
      "  Mean: 46457.63\n",
      "  Std: 664.04\n",
      "Elapsed time: 0.0001 seconds\n",
      "Best total value found after tweak: 47436.0\n",
      "Statistics over tweak runs (n = 250):\n",
      "  Min: 44680.00\n",
      "  Max: 47436.00\n",
      "  Mean: 46504.96\n",
      "  Std: 634.33\n",
      "Elapsed time: 0.0001 seconds\n",
      "Best total value found after tweak: 47436.0\n",
      "Statistics over tweak runs (n = 250):\n",
      "  Min: 44372.00\n",
      "  Max: 47436.00\n",
      "  Mean: 46456.36\n",
      "  Std: 651.46\n",
      "Elapsed time: 0.0001 seconds\n",
      "Best total value found after tweak: 47436.0\n",
      "Statistics over tweak runs (n = 250):\n",
      "  Min: 44807.00\n",
      "  Max: 47436.00\n",
      "  Mean: 46455.32\n",
      "  Std: 597.62\n",
      "Elapsed time: 0.0001 seconds\n",
      "Best total value found after tweak: 47436.0\n",
      "Statistics over tweak runs (n = 250):\n",
      "  Min: 44217.00\n",
      "  Max: 47436.00\n",
      "  Mean: 46476.10\n",
      "  Std: 641.74\n",
      "Elapsed time: 0.0001 seconds\n",
      "Best total value found after tweak: 47436.0\n",
      "Statistics over tweak runs (n = 250):\n",
      "  Min: 44955.00\n",
      "  Max: 47436.00\n",
      "  Mean: 46461.54\n",
      "  Std: 594.99\n",
      "Elapsed time: 0.0001 seconds\n",
      "Best total value found after tweak: 47436.0\n",
      "Statistics over tweak runs (n = 250):\n",
      "  Min: 44852.00\n",
      "  Max: 47436.00\n",
      "  Mean: 46465.32\n",
      "  Std: 626.79\n",
      "Elapsed time: 0.0001 seconds\n",
      "Best total value found after tweak: 47436.0\n",
      "Statistics over tweak runs (n = 250):\n",
      "  Min: 44901.00\n",
      "  Max: 47436.00\n",
      "  Mean: 46491.16\n",
      "  Std: 613.47\n",
      "Elapsed time: 0.0001 seconds\n",
      "Best total value found after tweak: 47436.0\n",
      "Statistics over tweak runs (n = 250):\n",
      "  Min: 44306.00\n",
      "  Max: 47436.00\n",
      "  Mean: 46494.04\n",
      "  Std: 629.77\n",
      "Elapsed time: 0.0001 seconds\n",
      "Best total value found after tweak: 47436.0\n",
      "Statistics over tweak runs (n = 250):\n",
      "  Min: 44391.00\n",
      "  Max: 47436.00\n",
      "  Mean: 46490.18\n",
      "  Std: 643.05\n",
      "Elapsed time: 0.0001 seconds\n",
      "Best total value found after tweak: 47436.0\n",
      "Statistics over tweak runs (n = 250):\n",
      "  Min: 44846.00\n",
      "  Max: 47436.00\n",
      "  Mean: 46558.66\n",
      "  Std: 595.30\n",
      "Elapsed time: 0.0001 seconds\n"
     ]
    },
    {
     "name": "stderr",
     "output_type": "stream",
     "text": [
      " 37%|███▋      | 92/250 [00:03<00:03, 41.74it/s]"
     ]
    },
    {
     "name": "stdout",
     "output_type": "stream",
     "text": [
      "Best total value found after tweak: 47436.0\n",
      "Statistics over tweak runs (n = 250):\n",
      "  Min: 44603.00\n",
      "  Max: 47436.00\n",
      "  Mean: 46519.44\n",
      "  Std: 612.90\n",
      "Elapsed time: 0.0001 seconds\n",
      "Best total value found after tweak: 47436.0\n",
      "Statistics over tweak runs (n = 250):\n",
      "  Min: 44409.00\n",
      "  Max: 47436.00\n",
      "  Mean: 46548.99\n",
      "  Std: 624.48\n",
      "Elapsed time: 0.0001 seconds\n",
      "Best total value found after tweak: 47436.0\n",
      "Statistics over tweak runs (n = 250):\n",
      "  Min: 44843.00\n",
      "  Max: 47436.00\n",
      "  Mean: 46516.85\n",
      "  Std: 593.61\n",
      "Elapsed time: 0.0001 seconds\n",
      "Best total value found after tweak: 47436.0\n",
      "Statistics over tweak runs (n = 250):\n",
      "  Min: 44853.00\n",
      "  Max: 47436.00\n",
      "  Mean: 46520.30\n",
      "  Std: 579.67\n",
      "Elapsed time: 0.0001 seconds\n",
      "Best total value found after tweak: 47436.0\n",
      "Statistics over tweak runs (n = 250):\n",
      "  Min: 44853.00\n",
      "  Max: 47436.00\n",
      "  Mean: 46491.05\n",
      "  Std: 594.30\n",
      "Elapsed time: 0.0001 seconds\n",
      "Best total value found after tweak: 47436.0\n",
      "Statistics over tweak runs (n = 250):\n",
      "  Min: 44739.00\n",
      "  Max: 47436.00\n",
      "  Mean: 46507.40\n",
      "  Std: 615.02\n",
      "Elapsed time: 0.0001 seconds\n",
      "Best total value found after tweak: 47436.0\n",
      "Statistics over tweak runs (n = 250):\n",
      "  Min: 44744.00\n",
      "  Max: 47436.00\n",
      "  Mean: 46456.89\n",
      "  Std: 602.82\n",
      "Elapsed time: 0.0001 seconds\n",
      "Best total value found after tweak: 47436.0\n",
      "Statistics over tweak runs (n = 250):\n",
      "  Min: 44609.00\n",
      "  Max: 47436.00\n",
      "  Mean: 46530.96\n",
      "  Std: 630.60\n",
      "Elapsed time: 0.0001 seconds\n",
      "Best total value found after tweak: 47436.0\n",
      "Statistics over tweak runs (n = 250):\n",
      "  Min: 44517.00\n",
      "  Max: 47436.00\n",
      "  Mean: 46434.10\n",
      "  Std: 617.62\n",
      "Elapsed time: 0.0001 seconds\n",
      "Best total value found after tweak: 47436.0\n",
      "Statistics over tweak runs (n = 250):\n",
      "  Min: 44877.00\n",
      "  Max: 47436.00\n",
      "  Mean: 46535.14\n",
      "  Std: 588.23\n",
      "Elapsed time: 0.0001 seconds\n",
      "Best total value found after tweak: 47436.0\n",
      "Statistics over tweak runs (n = 250):\n",
      "  Min: 44131.00\n",
      "  Max: 47436.00\n",
      "  Mean: 46480.45\n",
      "  Std: 643.56\n",
      "Elapsed time: 0.0001 seconds\n",
      "Best total value found after tweak: 47436.0\n",
      "Statistics over tweak runs (n = 250):\n",
      "  Min: 44310.00\n",
      "  Max: 47436.00\n",
      "  Mean: 46515.44\n",
      "  Std: 586.26\n",
      "Elapsed time: 0.0001 seconds\n"
     ]
    },
    {
     "name": "stderr",
     "output_type": "stream",
     "text": [
      " 43%|████▎     | 107/250 [00:03<00:02, 54.03it/s]"
     ]
    },
    {
     "name": "stdout",
     "output_type": "stream",
     "text": [
      "Best total value found after tweak: 47436.0\n",
      "Statistics over tweak runs (n = 250):\n",
      "  Min: 44498.00\n",
      "  Max: 47436.00\n",
      "  Mean: 46476.63\n",
      "  Std: 601.39\n",
      "Elapsed time: 0.0001 seconds\n",
      "Best total value found after tweak: 47436.0\n",
      "Statistics over tweak runs (n = 250):\n",
      "  Min: 44297.00\n",
      "  Max: 47436.00\n",
      "  Mean: 46529.31\n",
      "  Std: 624.32\n",
      "Elapsed time: 0.0001 seconds\n",
      "Best total value found after tweak: 47436.0\n",
      "Statistics over tweak runs (n = 250):\n",
      "  Min: 44789.00\n",
      "  Max: 47436.00\n",
      "  Mean: 46491.56\n",
      "  Std: 596.19\n",
      "Elapsed time: 0.0001 seconds\n",
      "Best total value found after tweak: 47436.0\n",
      "Statistics over tweak runs (n = 250):\n",
      "  Min: 43808.00\n",
      "  Max: 47436.00\n",
      "  Mean: 46453.88\n",
      "  Std: 684.08\n",
      "Elapsed time: 0.0001 seconds\n",
      "Best total value found after tweak: 47436.0\n",
      "Statistics over tweak runs (n = 250):\n",
      "  Min: 44744.00\n",
      "  Max: 47436.00\n",
      "  Mean: 46437.62\n",
      "  Std: 605.60\n",
      "Elapsed time: 0.0001 seconds\n",
      "Best total value found after tweak: 47436.0\n",
      "Statistics over tweak runs (n = 250):\n",
      "  Min: 44369.00\n",
      "  Max: 47436.00\n",
      "  Mean: 46479.97\n",
      "  Std: 669.69\n",
      "Elapsed time: 0.0001 seconds\n",
      "Best total value found after tweak: 47436.0\n",
      "Statistics over tweak runs (n = 250):\n",
      "  Min: 44673.00\n",
      "  Max: 47436.00\n",
      "  Mean: 46558.36\n",
      "  Std: 588.01\n",
      "Elapsed time: 0.0001 seconds\n",
      "Best total value found after tweak: 47436.0\n",
      "Statistics over tweak runs (n = 250):\n",
      "  Min: 44888.00\n",
      "  Max: 47436.00\n",
      "  Mean: 46481.50\n",
      "  Std: 593.81\n",
      "Elapsed time: 0.0001 seconds\n",
      "Best total value found after tweak: 47436.0\n",
      "Statistics over tweak runs (n = 250):\n",
      "  Min: 44691.00\n",
      "  Max: 47436.00\n",
      "  Mean: 46513.45\n",
      "  Std: 591.87\n",
      "Elapsed time: 0.0000 seconds\n",
      "Best total value found after tweak: 47436.0\n",
      "Statistics over tweak runs (n = 250):\n",
      "  Min: 44736.00\n",
      "  Max: 47436.00\n",
      "  Mean: 46471.39\n",
      "  Std: 596.76\n",
      "Elapsed time: 0.0000 seconds\n",
      "Best total value found after tweak: 47436.0\n",
      "Statistics over tweak runs (n = 250):\n",
      "  Min: 44733.00\n",
      "  Max: 47436.00\n",
      "  Mean: 46529.10\n",
      "  Std: 634.25\n",
      "Elapsed time: 0.0001 seconds\n",
      "Best total value found after tweak: 47436.0\n",
      "Statistics over tweak runs (n = 250):\n",
      "  Min: 44171.00\n",
      "  Max: 47436.00\n",
      "  Mean: 46482.80\n",
      "  Std: 671.68\n",
      "Elapsed time: 0.0001 seconds\n",
      "Best total value found after tweak: 47436.0\n",
      "Statistics over tweak runs (n = 250):\n",
      "  Min: 44870.00\n",
      "  Max: 47436.00\n",
      "  Mean: 46508.01\n",
      "  Std: 607.67\n",
      "Elapsed time: 0.0001 seconds\n",
      "Best total value found after tweak: 47436.0\n",
      "Statistics over tweak runs (n = 250):\n",
      "  Min: 44318.00\n",
      "  Max: 47436.00\n",
      "  Mean: 46383.07\n",
      "  Std: 633.39\n",
      "Elapsed time: 0.0001 seconds\n",
      "Best total value found after tweak: 47436.0\n",
      "Statistics over tweak runs (n = 250):\n",
      "  Min: 44317.00\n",
      "  Max: 47436.00\n",
      "  Mean: 46431.26\n",
      "  Std: 633.20\n",
      "Elapsed time: 0.0001 seconds\n"
     ]
    },
    {
     "name": "stderr",
     "output_type": "stream",
     "text": [
      " 49%|████▉     | 122/250 [00:03<00:02, 59.94it/s]"
     ]
    },
    {
     "name": "stdout",
     "output_type": "stream",
     "text": [
      "Best total value found after tweak: 47436.0\n",
      "Statistics over tweak runs (n = 250):\n",
      "  Min: 44392.00\n",
      "  Max: 47436.00\n",
      "  Mean: 46461.09\n",
      "  Std: 566.85\n",
      "Elapsed time: 0.0001 seconds\n",
      "Best total value found after tweak: 47436.0\n",
      "Statistics over tweak runs (n = 250):\n",
      "  Min: 44402.00\n",
      "  Max: 47436.00\n",
      "  Mean: 46385.92\n",
      "  Std: 661.56\n",
      "Elapsed time: 0.0001 seconds\n",
      "Best total value found after tweak: 47436.0\n",
      "Statistics over tweak runs (n = 250):\n",
      "  Min: 44254.00\n",
      "  Max: 47436.00\n",
      "  Mean: 46515.88\n",
      "  Std: 640.79\n",
      "Elapsed time: 0.0001 seconds\n",
      "Best total value found after tweak: 47436.0\n",
      "Statistics over tweak runs (n = 250):\n",
      "  Min: 44810.00\n",
      "  Max: 47436.00\n",
      "  Mean: 46503.26\n",
      "  Std: 641.47\n",
      "Elapsed time: 0.0001 seconds\n",
      "Best total value found after tweak: 47436.0\n",
      "Statistics over tweak runs (n = 250):\n",
      "  Min: 44592.00\n",
      "  Max: 47436.00\n",
      "  Mean: 46474.64\n",
      "  Std: 649.09\n",
      "Elapsed time: 0.0001 seconds\n",
      "Best total value found after tweak: 47436.0\n",
      "Statistics over tweak runs (n = 250):\n",
      "  Min: 44763.00\n",
      "  Max: 47436.00\n",
      "  Mean: 46474.15\n",
      "  Std: 620.89\n",
      "Elapsed time: 0.0001 seconds\n",
      "Best total value found after tweak: 47436.0\n",
      "Statistics over tweak runs (n = 250):\n",
      "  Min: 44434.00\n",
      "  Max: 47436.00\n",
      "  Mean: 46474.77\n",
      "  Std: 624.01\n",
      "Elapsed time: 0.0001 seconds\n",
      "Best total value found after tweak: 47436.0\n",
      "Statistics over tweak runs (n = 250):\n",
      "  Min: 44645.00\n",
      "  Max: 47436.00\n",
      "  Mean: 46423.52\n",
      "  Std: 678.61\n",
      "Elapsed time: 0.0001 seconds\n",
      "Best total value found after tweak: 47436.0\n",
      "Statistics over tweak runs (n = 250):\n",
      "  Min: 44100.00\n",
      "  Max: 47436.00\n",
      "  Mean: 46427.72\n",
      "  Std: 626.97\n",
      "Elapsed time: 0.0001 seconds\n",
      "Best total value found after tweak: 47481.0\n",
      "Statistics over tweak runs (n = 250):\n",
      "  Min: 44458.00\n",
      "  Max: 47481.00\n",
      "  Mean: 46460.15\n",
      "  Std: 660.98\n",
      "Elapsed time: 0.0001 seconds\n",
      "Best total value found after tweak: 47481.0\n",
      "Statistics over tweak runs (n = 250):\n",
      "  Min: 44839.00\n",
      "  Max: 47481.00\n",
      "  Mean: 46547.60\n",
      "  Std: 632.79\n",
      "Elapsed time: 0.0001 seconds\n",
      "Best total value found after tweak: 47481.0\n",
      "Statistics over tweak runs (n = 250):\n",
      "  Min: 44807.00\n",
      "  Max: 47481.00\n",
      "  Mean: 46522.80\n",
      "  Std: 603.90\n",
      "Elapsed time: 0.0001 seconds\n",
      "Best total value found after tweak: 47481.0\n",
      "Statistics over tweak runs (n = 250):\n",
      "  Min: 44823.00\n",
      "  Max: 47481.00\n",
      "  Mean: 46573.22\n",
      "  Std: 588.78\n",
      "Elapsed time: 0.0001 seconds\n",
      "Best total value found after tweak: 47481.0\n",
      "Statistics over tweak runs (n = 250):\n",
      "  Min: 44600.00\n",
      "  Max: 47481.00\n",
      "  Mean: 46514.51\n",
      "  Std: 649.91\n",
      "Elapsed time: 0.0001 seconds\n"
     ]
    },
    {
     "name": "stderr",
     "output_type": "stream",
     "text": [
      " 52%|█████▏    | 129/250 [00:03<00:01, 61.02it/s]"
     ]
    },
    {
     "name": "stdout",
     "output_type": "stream",
     "text": [
      "Best total value found after tweak: 47481.0\n",
      "Statistics over tweak runs (n = 250):\n",
      "  Min: 44685.00\n",
      "  Max: 47481.00\n",
      "  Mean: 46507.25\n",
      "  Std: 640.77\n",
      "Elapsed time: 0.0001 seconds\n",
      "Best total value found after tweak: 47481.0\n",
      "Statistics over tweak runs (n = 250):\n",
      "  Min: 43824.00\n",
      "  Max: 47481.00\n",
      "  Mean: 46539.63\n",
      "  Std: 664.72\n",
      "Elapsed time: 0.0001 seconds\n",
      "Best total value found after tweak: 47481.0\n",
      "Statistics over tweak runs (n = 250):\n",
      "  Min: 44620.00\n",
      "  Max: 47481.00\n",
      "  Mean: 46541.10\n",
      "  Std: 562.80\n",
      "Elapsed time: 0.0001 seconds\n",
      "Best total value found after tweak: 47481.0\n",
      "Statistics over tweak runs (n = 250):\n",
      "  Min: 44619.00\n",
      "  Max: 47481.00\n",
      "  Mean: 46510.98\n",
      "  Std: 637.21\n",
      "Elapsed time: 0.0001 seconds\n",
      "Best total value found after tweak: 47481.0\n",
      "Statistics over tweak runs (n = 250):\n",
      "  Min: 45155.00\n",
      "  Max: 47481.00\n",
      "  Mean: 46567.90\n",
      "  Std: 574.84\n",
      "Elapsed time: 0.0001 seconds\n",
      "Best total value found after tweak: 47481.0\n",
      "Statistics over tweak runs (n = 250):\n",
      "  Min: 44938.00\n",
      "  Max: 47481.00\n",
      "  Mean: 46529.75\n",
      "  Std: 588.07\n",
      "Elapsed time: 0.0001 seconds\n",
      "Best total value found after tweak: 47481.0\n",
      "Statistics over tweak runs (n = 250):\n",
      "  Min: 44933.00\n",
      "  Max: 47481.00\n",
      "  Mean: 46618.24\n",
      "  Std: 608.93\n",
      "Elapsed time: 0.0001 seconds\n",
      "Best total value found after tweak: 47481.0\n",
      "Statistics over tweak runs (n = 250):\n",
      "  Min: 44196.00\n",
      "  Max: 47481.00\n",
      "  Mean: 46520.20\n",
      "  Std: 635.66\n",
      "Elapsed time: 0.0001 seconds\n",
      "Best total value found after tweak: 47481.0\n",
      "Statistics over tweak runs (n = 250):\n",
      "  Min: 44261.00\n",
      "  Max: 47481.00\n",
      "  Mean: 46551.06\n",
      "  Std: 586.75\n",
      "Elapsed time: 0.0001 seconds\n",
      "Best total value found after tweak: 47481.0\n",
      "Statistics over tweak runs (n = 250):\n",
      "  Min: 44655.00\n",
      "  Max: 47481.00\n",
      "  Mean: 46511.76\n",
      "  Std: 616.45\n",
      "Elapsed time: 0.0001 seconds\n",
      "Best total value found after tweak: 47481.0\n",
      "Statistics over tweak runs (n = 250):\n",
      "  Min: 44688.00\n",
      "  Max: 47481.00\n",
      "  Mean: 46596.08\n",
      "  Std: 622.03\n",
      "Elapsed time: 0.0001 seconds\n",
      "Best total value found after tweak: 47481.0\n",
      "Statistics over tweak runs (n = 250):\n",
      "  Min: 44833.00\n",
      "  Max: 47481.00\n",
      "  Mean: 46505.16\n",
      "  Std: 623.70\n",
      "Elapsed time: 0.0001 seconds\n",
      "Best total value found after tweak: 47563.0\n",
      "Statistics over tweak runs (n = 250):\n",
      "  Min: 44728.00\n",
      "  Max: 47563.00\n",
      "  Mean: 46580.79\n",
      "  Std: 602.95\n",
      "Elapsed time: 0.0001 seconds\n"
     ]
    },
    {
     "name": "stderr",
     "output_type": "stream",
     "text": [
      " 58%|█████▊    | 144/250 [00:03<00:01, 64.12it/s]"
     ]
    },
    {
     "name": "stdout",
     "output_type": "stream",
     "text": [
      "Best total value found after tweak: 47563.0\n",
      "Statistics over tweak runs (n = 250):\n",
      "  Min: 44800.00\n",
      "  Max: 47563.00\n",
      "  Mean: 46651.68\n",
      "  Std: 583.48\n",
      "Elapsed time: 0.0001 seconds\n",
      "Best total value found after tweak: 47563.0\n",
      "Statistics over tweak runs (n = 250):\n",
      "  Min: 44688.00\n",
      "  Max: 47563.00\n",
      "  Mean: 46609.80\n",
      "  Std: 613.40\n",
      "Elapsed time: 0.0001 seconds\n",
      "Best total value found after tweak: 47563.0\n",
      "Statistics over tweak runs (n = 250):\n",
      "  Min: 44937.00\n",
      "  Max: 47563.00\n",
      "  Mean: 46636.52\n",
      "  Std: 605.70\n",
      "Elapsed time: 0.0001 seconds\n",
      "Best total value found after tweak: 47563.0\n",
      "Statistics over tweak runs (n = 250):\n",
      "  Min: 44435.00\n",
      "  Max: 47563.00\n",
      "  Mean: 46579.69\n",
      "  Std: 657.97\n",
      "Elapsed time: 0.0000 seconds\n",
      "Best total value found after tweak: 47563.0\n",
      "Statistics over tweak runs (n = 250):\n",
      "  Min: 44477.00\n",
      "  Max: 47563.00\n",
      "  Mean: 46628.91\n",
      "  Std: 660.82\n",
      "Elapsed time: 0.0000 seconds\n",
      "Best total value found after tweak: 47563.0\n",
      "Statistics over tweak runs (n = 250):\n",
      "  Min: 44813.00\n",
      "  Max: 47563.00\n",
      "  Mean: 46695.57\n",
      "  Std: 591.38\n",
      "Elapsed time: 0.0001 seconds\n",
      "Best total value found after tweak: 47563.0\n",
      "Statistics over tweak runs (n = 250):\n",
      "  Min: 44861.00\n",
      "  Max: 47563.00\n",
      "  Mean: 46631.51\n",
      "  Std: 599.81\n",
      "Elapsed time: 0.0001 seconds\n",
      "Best total value found after tweak: 47563.0\n",
      "Statistics over tweak runs (n = 250):\n",
      "  Min: 44932.00\n",
      "  Max: 47563.00\n",
      "  Mean: 46603.42\n",
      "  Std: 598.40\n",
      "Elapsed time: 0.0001 seconds\n",
      "Best total value found after tweak: 48060.0\n",
      "Statistics over tweak runs (n = 250):\n",
      "  Min: 44040.00\n",
      "  Max: 48060.00\n",
      "  Mean: 46628.58\n",
      "  Std: 642.46\n",
      "Elapsed time: 0.0001 seconds\n",
      "Best total value found after tweak: 48060.0\n",
      "Statistics over tweak runs (n = 250):\n",
      "  Min: 45305.00\n",
      "  Max: 48060.00\n",
      "  Mean: 47042.00\n",
      "  Std: 583.24\n",
      "Elapsed time: 0.0001 seconds\n",
      "Best total value found after tweak: 48060.0\n",
      "Statistics over tweak runs (n = 250):\n",
      "  Min: 44941.00\n",
      "  Max: 48060.00\n",
      "  Mean: 47052.59\n",
      "  Std: 626.07\n",
      "Elapsed time: 0.0001 seconds\n",
      "Best total value found after tweak: 48060.0\n",
      "Statistics over tweak runs (n = 250):\n",
      "  Min: 45323.00\n",
      "  Max: 48060.00\n",
      "  Mean: 47078.74\n",
      "  Std: 625.60\n",
      "Elapsed time: 0.0000 seconds\n",
      "Best total value found after tweak: 48060.0\n",
      "Statistics over tweak runs (n = 250):\n",
      "  Min: 45050.00\n",
      "  Max: 48060.00\n",
      "  Mean: 47030.48\n",
      "  Std: 673.00\n",
      "Elapsed time: 0.0001 seconds\n",
      "Best total value found after tweak: 48060.0\n",
      "Statistics over tweak runs (n = 250):\n",
      "  Min: 45184.00\n",
      "  Max: 48060.00\n",
      "  Mean: 47052.36\n",
      "  Std: 637.89\n",
      "Elapsed time: 0.0000 seconds\n",
      "Best total value found after tweak: 48060.0\n",
      "Statistics over tweak runs (n = 250):\n",
      "  Min: 45154.00\n",
      "  Max: 48060.00\n",
      "  Mean: 47086.17\n",
      "  Std: 623.29\n",
      "Elapsed time: 0.0001 seconds\n",
      "Best total value found after tweak: 48060.0\n",
      "Statistics over tweak runs (n = 250):\n",
      "  Min: 45567.00\n",
      "  Max: 48060.00\n",
      "  Mean: 47076.12\n",
      "  Std: 651.38\n",
      "Elapsed time: 0.0001 seconds\n"
     ]
    },
    {
     "name": "stderr",
     "output_type": "stream",
     "text": [
      " 64%|██████▍   | 160/250 [00:04<00:01, 69.91it/s]"
     ]
    },
    {
     "name": "stdout",
     "output_type": "stream",
     "text": [
      "Best total value found after tweak: 48060.0\n",
      "Statistics over tweak runs (n = 250):\n",
      "  Min: 44895.00\n",
      "  Max: 48060.00\n",
      "  Mean: 47115.77\n",
      "  Std: 659.31\n",
      "Elapsed time: 0.0001 seconds\n",
      "Best total value found after tweak: 48060.0\n",
      "Statistics over tweak runs (n = 250):\n",
      "  Min: 45143.00\n",
      "  Max: 48060.00\n",
      "  Mean: 47136.52\n",
      "  Std: 639.71\n",
      "Elapsed time: 0.0001 seconds\n",
      "Best total value found after tweak: 48060.0\n",
      "Statistics over tweak runs (n = 250):\n",
      "  Min: 44744.00\n",
      "  Max: 48060.00\n",
      "  Mean: 47074.40\n",
      "  Std: 652.00\n",
      "Elapsed time: 0.0001 seconds\n",
      "Best total value found after tweak: 48060.0\n",
      "Statistics over tweak runs (n = 250):\n",
      "  Min: 45220.00\n",
      "  Max: 48060.00\n",
      "  Mean: 47062.20\n",
      "  Std: 643.69\n",
      "Elapsed time: 0.0000 seconds\n",
      "Best total value found after tweak: 48060.0\n",
      "Statistics over tweak runs (n = 250):\n",
      "  Min: 44760.00\n",
      "  Max: 48060.00\n",
      "  Mean: 47040.86\n",
      "  Std: 663.66\n",
      "Elapsed time: 0.0000 seconds\n",
      "Best total value found after tweak: 48087.0\n",
      "Statistics over tweak runs (n = 250):\n",
      "  Min: 45007.00\n",
      "  Max: 48087.00\n",
      "  Mean: 47079.51\n",
      "  Std: 631.73\n",
      "Elapsed time: 0.0000 seconds\n",
      "Best total value found after tweak: 48087.0\n",
      "Statistics over tweak runs (n = 250):\n",
      "  Min: 45463.00\n",
      "  Max: 48087.00\n",
      "  Mean: 47093.19\n",
      "  Std: 609.88\n",
      "Elapsed time: 0.0000 seconds\n",
      "Best total value found after tweak: 48087.0\n",
      "Statistics over tweak runs (n = 250):\n",
      "  Min: 45147.00\n",
      "  Max: 48087.00\n",
      "  Mean: 47064.32\n",
      "  Std: 640.43\n",
      "Elapsed time: 0.0001 seconds\n",
      "Best total value found after tweak: 48174.0\n",
      "Statistics over tweak runs (n = 250):\n",
      "  Min: 45568.00\n",
      "  Max: 48174.00\n",
      "  Mean: 47070.63\n",
      "  Std: 609.00\n",
      "Elapsed time: 0.0001 seconds\n",
      "Best total value found after tweak: 48401.0\n",
      "Statistics over tweak runs (n = 250):\n",
      "  Min: 44819.00\n",
      "  Max: 48401.00\n",
      "  Mean: 47241.20\n",
      "  Std: 654.22\n",
      "Elapsed time: 0.0001 seconds\n",
      "Best total value found after tweak: 48401.0\n",
      "Statistics over tweak runs (n = 250):\n",
      "  Min: 45770.00\n",
      "  Max: 48401.00\n",
      "  Mean: 47524.09\n",
      "  Std: 601.35\n",
      "Elapsed time: 0.0000 seconds\n",
      "Best total value found after tweak: 48401.0\n",
      "Statistics over tweak runs (n = 250):\n",
      "  Min: 45574.00\n",
      "  Max: 48401.00\n",
      "  Mean: 47437.91\n",
      "  Std: 627.70\n",
      "Elapsed time: 0.0001 seconds\n",
      "Best total value found after tweak: 48401.0\n",
      "Statistics over tweak runs (n = 250):\n",
      "  Min: 44884.00\n",
      "  Max: 48401.00\n",
      "  Mean: 47463.51\n",
      "  Std: 639.63\n",
      "Elapsed time: 0.0001 seconds\n",
      "Best total value found after tweak: 48401.0\n",
      "Statistics over tweak runs (n = 250):\n",
      "  Min: 45548.00\n",
      "  Max: 48401.00\n",
      "  Mean: 47426.15\n",
      "  Std: 637.65\n",
      "Elapsed time: 0.0001 seconds\n",
      "Best total value found after tweak: 48401.0\n",
      "Statistics over tweak runs (n = 250):\n",
      "  Min: 45128.00\n",
      "  Max: 48401.00\n",
      "  Mean: 47377.78\n",
      "  Std: 669.75\n",
      "Elapsed time: 0.0001 seconds\n"
     ]
    },
    {
     "name": "stderr",
     "output_type": "stream",
     "text": [
      " 70%|███████   | 175/250 [00:04<00:01, 65.50it/s]"
     ]
    },
    {
     "name": "stdout",
     "output_type": "stream",
     "text": [
      "Best total value found after tweak: 48401.0\n",
      "Statistics over tweak runs (n = 250):\n",
      "  Min: 45258.00\n",
      "  Max: 48401.00\n",
      "  Mean: 47381.85\n",
      "  Std: 617.71\n",
      "Elapsed time: 0.0001 seconds\n",
      "Best total value found after tweak: 48401.0\n",
      "Statistics over tweak runs (n = 250):\n",
      "  Min: 45076.00\n",
      "  Max: 48401.00\n",
      "  Mean: 47385.20\n",
      "  Std: 613.73\n",
      "Elapsed time: 0.0001 seconds\n",
      "Best total value found after tweak: 48401.0\n",
      "Statistics over tweak runs (n = 250):\n",
      "  Min: 45456.00\n",
      "  Max: 48401.00\n",
      "  Mean: 47421.94\n",
      "  Std: 607.12\n",
      "Elapsed time: 0.0001 seconds\n",
      "Best total value found after tweak: 48401.0\n",
      "Statistics over tweak runs (n = 250):\n",
      "  Min: 45323.00\n",
      "  Max: 48401.00\n",
      "  Mean: 47464.58\n",
      "  Std: 636.50\n",
      "Elapsed time: 0.0001 seconds\n",
      "Best total value found after tweak: 48401.0\n",
      "Statistics over tweak runs (n = 250):\n",
      "  Min: 45452.00\n",
      "  Max: 48401.00\n",
      "  Mean: 47404.40\n",
      "  Std: 586.33\n",
      "Elapsed time: 0.0001 seconds\n",
      "Best total value found after tweak: 48401.0\n",
      "Statistics over tweak runs (n = 250):\n",
      "  Min: 45608.00\n",
      "  Max: 48401.00\n",
      "  Mean: 47386.32\n",
      "  Std: 614.91\n",
      "Elapsed time: 0.0001 seconds\n",
      "Best total value found after tweak: 48401.0\n",
      "Statistics over tweak runs (n = 250):\n",
      "  Min: 45498.00\n",
      "  Max: 48401.00\n",
      "  Mean: 47436.01\n",
      "  Std: 631.30\n",
      "Elapsed time: 0.0001 seconds\n",
      "Best total value found after tweak: 48401.0\n",
      "Statistics over tweak runs (n = 250):\n",
      "  Min: 45683.00\n",
      "  Max: 48401.00\n",
      "  Mean: 47461.38\n",
      "  Std: 545.90\n",
      "Elapsed time: 0.0001 seconds\n",
      "Best total value found after tweak: 48401.0\n",
      "Statistics over tweak runs (n = 250):\n",
      "  Min: 45391.00\n",
      "  Max: 48401.00\n",
      "  Mean: 47401.65\n",
      "  Std: 637.10\n",
      "Elapsed time: 0.0001 seconds\n",
      "Best total value found after tweak: 48401.0\n",
      "Statistics over tweak runs (n = 250):\n",
      "  Min: 45159.00\n",
      "  Max: 48401.00\n",
      "  Mean: 47382.62\n",
      "  Std: 624.16\n",
      "Elapsed time: 0.0001 seconds\n",
      "Best total value found after tweak: 48401.0\n",
      "Statistics over tweak runs (n = 250):\n",
      "  Min: 45390.00\n",
      "  Max: 48401.00\n",
      "  Mean: 47402.25\n",
      "  Std: 624.27\n",
      "Elapsed time: 0.0001 seconds\n",
      "Best total value found after tweak: 48401.0\n",
      "Statistics over tweak runs (n = 250):\n",
      "  Min: 45496.00\n",
      "  Max: 48401.00\n",
      "  Mean: 47409.11\n",
      "  Std: 665.71\n",
      "Elapsed time: 0.0001 seconds\n"
     ]
    },
    {
     "name": "stderr",
     "output_type": "stream",
     "text": [
      " 76%|███████▌  | 189/250 [00:04<00:01, 60.01it/s]"
     ]
    },
    {
     "name": "stdout",
     "output_type": "stream",
     "text": [
      "Best total value found after tweak: 48401.0\n",
      "Statistics over tweak runs (n = 250):\n",
      "  Min: 45440.00\n",
      "  Max: 48401.00\n",
      "  Mean: 47464.55\n",
      "  Std: 627.89\n",
      "Elapsed time: 0.0001 seconds\n",
      "Best total value found after tweak: 48401.0\n",
      "Statistics over tweak runs (n = 250):\n",
      "  Min: 45505.00\n",
      "  Max: 48401.00\n",
      "  Mean: 47378.76\n",
      "  Std: 635.24\n",
      "Elapsed time: 0.0001 seconds\n",
      "Best total value found after tweak: 48401.0\n",
      "Statistics over tweak runs (n = 250):\n",
      "  Min: 45456.00\n",
      "  Max: 48401.00\n",
      "  Mean: 47439.52\n",
      "  Std: 635.66\n",
      "Elapsed time: 0.0001 seconds\n",
      "Best total value found after tweak: 48401.0\n",
      "Statistics over tweak runs (n = 250):\n",
      "  Min: 45264.00\n",
      "  Max: 48401.00\n",
      "  Mean: 47336.28\n",
      "  Std: 679.23\n",
      "Elapsed time: 0.0001 seconds\n",
      "Best total value found after tweak: 48401.0\n",
      "Statistics over tweak runs (n = 250):\n",
      "  Min: 45849.00\n",
      "  Max: 48401.00\n",
      "  Mean: 47424.04\n",
      "  Std: 585.55\n",
      "Elapsed time: 0.0001 seconds\n",
      "Best total value found after tweak: 48401.0\n",
      "Statistics over tweak runs (n = 250):\n",
      "  Min: 45510.00\n",
      "  Max: 48401.00\n",
      "  Mean: 47439.34\n",
      "  Std: 611.70\n",
      "Elapsed time: 0.0001 seconds\n",
      "Best total value found after tweak: 48401.0\n",
      "Statistics over tweak runs (n = 250):\n",
      "  Min: 45409.00\n",
      "  Max: 48401.00\n",
      "  Mean: 47427.71\n",
      "  Std: 647.47\n",
      "Elapsed time: 0.0001 seconds\n",
      "Best total value found after tweak: 48401.0\n",
      "Statistics over tweak runs (n = 250):\n",
      "  Min: 45169.00\n",
      "  Max: 48401.00\n",
      "  Mean: 47468.12\n",
      "  Std: 623.11\n",
      "Elapsed time: 0.0001 seconds\n",
      "Best total value found after tweak: 48401.0\n",
      "Statistics over tweak runs (n = 250):\n",
      "  Min: 45562.00\n",
      "  Max: 48401.00\n",
      "  Mean: 47402.78\n",
      "  Std: 701.60\n",
      "Elapsed time: 0.0001 seconds\n",
      "Best total value found after tweak: 48401.0\n",
      "Statistics over tweak runs (n = 250):\n",
      "  Min: 45701.00\n",
      "  Max: 48401.00\n",
      "  Mean: 47412.30\n",
      "  Std: 638.64\n",
      "Elapsed time: 0.0001 seconds\n",
      "Best total value found after tweak: 48401.0\n",
      "Statistics over tweak runs (n = 250):\n",
      "  Min: 45165.00\n",
      "  Max: 48401.00\n",
      "  Mean: 47439.30\n",
      "  Std: 635.05\n",
      "Elapsed time: 0.0001 seconds\n",
      "Best total value found after tweak: 48401.0\n",
      "Statistics over tweak runs (n = 250):\n",
      "  Min: 45475.00\n",
      "  Max: 48401.00\n",
      "  Mean: 47419.78\n",
      "  Std: 647.16\n",
      "Elapsed time: 0.0001 seconds\n"
     ]
    },
    {
     "name": "stderr",
     "output_type": "stream",
     "text": [
      " 82%|████████▏ | 204/250 [00:04<00:00, 63.34it/s]"
     ]
    },
    {
     "name": "stdout",
     "output_type": "stream",
     "text": [
      "Best total value found after tweak: 48401.0\n",
      "Statistics over tweak runs (n = 250):\n",
      "  Min: 45850.00\n",
      "  Max: 48401.00\n",
      "  Mean: 47414.32\n",
      "  Std: 626.31\n",
      "Elapsed time: 0.0001 seconds\n",
      "Best total value found after tweak: 48401.0\n",
      "Statistics over tweak runs (n = 250):\n",
      "  Min: 45594.00\n",
      "  Max: 48401.00\n",
      "  Mean: 47399.17\n",
      "  Std: 617.60\n",
      "Elapsed time: 0.0001 seconds\n",
      "Best total value found after tweak: 48401.0\n",
      "Statistics over tweak runs (n = 250):\n",
      "  Min: 45568.00\n",
      "  Max: 48401.00\n",
      "  Mean: 47444.26\n",
      "  Std: 592.13\n",
      "Elapsed time: 0.0001 seconds\n",
      "Best total value found after tweak: 48401.0\n",
      "Statistics over tweak runs (n = 250):\n",
      "  Min: 45637.00\n",
      "  Max: 48401.00\n",
      "  Mean: 47425.02\n",
      "  Std: 639.06\n",
      "Elapsed time: 0.0001 seconds\n",
      "Best total value found after tweak: 48401.0\n",
      "Statistics over tweak runs (n = 250):\n",
      "  Min: 44939.00\n",
      "  Max: 48401.00\n",
      "  Mean: 47373.80\n",
      "  Std: 675.12\n",
      "Elapsed time: 0.0001 seconds\n",
      "Best total value found after tweak: 48401.0\n",
      "Statistics over tweak runs (n = 250):\n",
      "  Min: 45531.00\n",
      "  Max: 48401.00\n",
      "  Mean: 47367.71\n",
      "  Std: 621.35\n",
      "Elapsed time: 0.0001 seconds\n",
      "Best total value found after tweak: 48401.0\n",
      "Statistics over tweak runs (n = 250):\n",
      "  Min: 45461.00\n",
      "  Max: 48401.00\n",
      "  Mean: 47438.36\n",
      "  Std: 623.57\n",
      "Elapsed time: 0.0001 seconds\n",
      "Best total value found after tweak: 48401.0\n",
      "Statistics over tweak runs (n = 250):\n",
      "  Min: 45335.00\n",
      "  Max: 48401.00\n",
      "  Mean: 47487.90\n",
      "  Std: 652.41\n",
      "Elapsed time: 0.0001 seconds\n",
      "Best total value found after tweak: 48401.0\n",
      "Statistics over tweak runs (n = 250):\n",
      "  Min: 45851.00\n",
      "  Max: 48401.00\n",
      "  Mean: 47463.50\n",
      "  Std: 591.14\n",
      "Elapsed time: 0.0000 seconds\n",
      "Best total value found after tweak: 48401.0\n",
      "Statistics over tweak runs (n = 250):\n",
      "  Min: 45241.00\n",
      "  Max: 48401.00\n",
      "  Mean: 47373.61\n",
      "  Std: 663.72\n",
      "Elapsed time: 0.0000 seconds\n",
      "Best total value found after tweak: 48401.0\n",
      "Statistics over tweak runs (n = 250):\n",
      "  Min: 45609.00\n",
      "  Max: 48401.00\n",
      "  Mean: 47385.16\n",
      "  Std: 606.64\n",
      "Elapsed time: 0.0000 seconds\n",
      "Best total value found after tweak: 48401.0\n",
      "Statistics over tweak runs (n = 250):\n",
      "  Min: 45684.00\n",
      "  Max: 48401.00\n",
      "  Mean: 47405.25\n",
      "  Std: 625.39\n",
      "Elapsed time: 0.0001 seconds\n",
      "Best total value found after tweak: 48401.0\n",
      "Statistics over tweak runs (n = 250):\n",
      "  Min: 45129.00\n",
      "  Max: 48401.00\n",
      "  Mean: 47440.51\n",
      "  Std: 621.94\n",
      "Elapsed time: 0.0001 seconds\n",
      "Best total value found after tweak: 48401.0\n",
      "Statistics over tweak runs (n = 250):\n",
      "  Min: 45092.00\n",
      "  Max: 48401.00\n",
      "  Mean: 47459.23\n",
      "  Std: 636.56\n",
      "Elapsed time: 0.0000 seconds\n"
     ]
    },
    {
     "name": "stderr",
     "output_type": "stream",
     "text": [
      " 84%|████████▍ | 211/250 [00:04<00:00, 61.16it/s]"
     ]
    },
    {
     "name": "stdout",
     "output_type": "stream",
     "text": [
      "Best total value found after tweak: 48401.0\n",
      "Statistics over tweak runs (n = 250):\n",
      "  Min: 45735.00\n",
      "  Max: 48401.00\n",
      "  Mean: 47272.44\n",
      "  Std: 630.26\n",
      "Elapsed time: 0.0001 seconds\n",
      "Best total value found after tweak: 48401.0\n",
      "Statistics over tweak runs (n = 250):\n",
      "  Min: 44950.00\n",
      "  Max: 48401.00\n",
      "  Mean: 47459.84\n",
      "  Std: 628.65\n",
      "Elapsed time: 0.0001 seconds\n",
      "Best total value found after tweak: 48401.0\n",
      "Statistics over tweak runs (n = 250):\n",
      "  Min: 45620.00\n",
      "  Max: 48401.00\n",
      "  Mean: 47405.59\n",
      "  Std: 604.92\n",
      "Elapsed time: 0.0001 seconds\n",
      "Best total value found after tweak: 48401.0\n",
      "Statistics over tweak runs (n = 250):\n",
      "  Min: 45627.00\n",
      "  Max: 48401.00\n",
      "  Mean: 47413.76\n",
      "  Std: 631.74\n",
      "Elapsed time: 0.0001 seconds\n",
      "Best total value found after tweak: 48401.0\n",
      "Statistics over tweak runs (n = 250):\n",
      "  Min: 45669.00\n",
      "  Max: 48401.00\n",
      "  Mean: 47455.98\n",
      "  Std: 585.34\n",
      "Elapsed time: 0.0001 seconds\n",
      "Best total value found after tweak: 48401.0\n",
      "Statistics over tweak runs (n = 250):\n",
      "  Min: 45570.00\n",
      "  Max: 48401.00\n",
      "  Mean: 47391.96\n",
      "  Std: 617.61\n",
      "Elapsed time: 0.0000 seconds\n",
      "Best total value found after tweak: 48401.0\n",
      "Statistics over tweak runs (n = 250):\n",
      "  Min: 45722.00\n",
      "  Max: 48401.00\n",
      "  Mean: 47419.18\n",
      "  Std: 584.29\n",
      "Elapsed time: 0.0000 seconds\n",
      "Best total value found after tweak: 48401.0\n",
      "Statistics over tweak runs (n = 250):\n",
      "  Min: 45475.00\n",
      "  Max: 48401.00\n",
      "  Mean: 47419.31\n",
      "  Std: 592.75\n",
      "Elapsed time: 0.0001 seconds\n",
      "Best total value found after tweak: 48401.0\n",
      "Statistics over tweak runs (n = 250):\n",
      "  Min: 45409.00\n",
      "  Max: 48401.00\n",
      "  Mean: 47459.95\n",
      "  Std: 606.57\n",
      "Elapsed time: 0.0001 seconds\n",
      "Best total value found after tweak: 48401.0\n",
      "Statistics over tweak runs (n = 250):\n",
      "  Min: 45510.00\n",
      "  Max: 48401.00\n",
      "  Mean: 47481.02\n",
      "  Std: 630.51\n",
      "Elapsed time: 0.0001 seconds\n",
      "Best total value found after tweak: 48401.0\n",
      "Statistics over tweak runs (n = 250):\n",
      "  Min: 45536.00\n",
      "  Max: 48401.00\n",
      "  Mean: 47462.58\n",
      "  Std: 620.57\n",
      "Elapsed time: 0.0001 seconds\n",
      "Best total value found after tweak: 48401.0\n",
      "Statistics over tweak runs (n = 250):\n",
      "  Min: 45483.00\n",
      "  Max: 48401.00\n",
      "  Mean: 47349.60\n",
      "  Std: 615.18\n",
      "Elapsed time: 0.0001 seconds\n",
      "Best total value found after tweak: 48401.0\n",
      "Statistics over tweak runs (n = 250):\n",
      "  Min: 45051.00\n",
      "  Max: 48401.00\n",
      "  Mean: 47481.20\n",
      "  Std: 643.70\n",
      "Elapsed time: 0.0001 seconds\n"
     ]
    },
    {
     "name": "stderr",
     "output_type": "stream",
     "text": [
      " 90%|█████████ | 226/250 [00:05<00:00, 65.65it/s]"
     ]
    },
    {
     "name": "stdout",
     "output_type": "stream",
     "text": [
      "Best total value found after tweak: 48401.0\n",
      "Statistics over tweak runs (n = 250):\n",
      "  Min: 45550.00\n",
      "  Max: 48401.00\n",
      "  Mean: 47373.37\n",
      "  Std: 641.96\n",
      "Elapsed time: 0.0001 seconds\n",
      "Best total value found after tweak: 48401.0\n",
      "Statistics over tweak runs (n = 250):\n",
      "  Min: 45480.00\n",
      "  Max: 48401.00\n",
      "  Mean: 47424.59\n",
      "  Std: 625.39\n",
      "Elapsed time: 0.0001 seconds\n",
      "Best total value found after tweak: 48401.0\n",
      "Statistics over tweak runs (n = 250):\n",
      "  Min: 45667.00\n",
      "  Max: 48401.00\n",
      "  Mean: 47391.23\n",
      "  Std: 583.48\n",
      "Elapsed time: 0.0001 seconds\n",
      "Best total value found after tweak: 48401.0\n",
      "Statistics over tweak runs (n = 250):\n",
      "  Min: 45883.00\n",
      "  Max: 48401.00\n",
      "  Mean: 47348.66\n",
      "  Std: 623.94\n",
      "Elapsed time: 0.0001 seconds\n",
      "Best total value found after tweak: 48401.0\n",
      "Statistics over tweak runs (n = 250):\n",
      "  Min: 45801.00\n",
      "  Max: 48401.00\n",
      "  Mean: 47432.24\n",
      "  Std: 533.02\n",
      "Elapsed time: 0.0001 seconds\n",
      "Best total value found after tweak: 48401.0\n",
      "Statistics over tweak runs (n = 250):\n",
      "  Min: 45635.00\n",
      "  Max: 48401.00\n",
      "  Mean: 47428.20\n",
      "  Std: 630.49\n",
      "Elapsed time: 0.0001 seconds\n",
      "Best total value found after tweak: 48401.0\n",
      "Statistics over tweak runs (n = 250):\n",
      "  Min: 44860.00\n",
      "  Max: 48401.00\n",
      "  Mean: 47403.44\n",
      "  Std: 656.00\n",
      "Elapsed time: 0.0000 seconds\n",
      "Best total value found after tweak: 48401.0\n",
      "Statistics over tweak runs (n = 250):\n",
      "  Min: 45398.00\n",
      "  Max: 48401.00\n",
      "  Mean: 47471.18\n",
      "  Std: 616.14\n",
      "Elapsed time: 0.0001 seconds\n",
      "Best total value found after tweak: 48401.0\n",
      "Statistics over tweak runs (n = 250):\n",
      "  Min: 45229.00\n",
      "  Max: 48401.00\n",
      "  Mean: 47441.24\n",
      "  Std: 612.77\n",
      "Elapsed time: 0.0001 seconds\n",
      "Best total value found after tweak: 48401.0\n",
      "Statistics over tweak runs (n = 250):\n",
      "  Min: 45525.00\n",
      "  Max: 48401.00\n",
      "  Mean: 47299.61\n",
      "  Std: 629.22\n",
      "Elapsed time: 0.0001 seconds\n",
      "Best total value found after tweak: 48401.0\n",
      "Statistics over tweak runs (n = 250):\n",
      "  Min: 45659.00\n",
      "  Max: 48401.00\n",
      "  Mean: 47386.58\n",
      "  Std: 655.36\n",
      "Elapsed time: 0.0001 seconds\n",
      "Best total value found after tweak: 48401.0\n",
      "Statistics over tweak runs (n = 250):\n",
      "  Min: 45053.00\n",
      "  Max: 48401.00\n",
      "  Mean: 47363.80\n",
      "  Std: 691.38\n",
      "Elapsed time: 0.0000 seconds\n",
      "Best total value found after tweak: 48401.0\n",
      "Statistics over tweak runs (n = 250):\n",
      "  Min: 45498.00\n",
      "  Max: 48401.00\n",
      "  Mean: 47421.78\n",
      "  Std: 642.31\n",
      "Elapsed time: 0.0001 seconds\n",
      "Best total value found after tweak: 48401.0\n",
      "Statistics over tweak runs (n = 250):\n",
      "  Min: 45824.00\n",
      "  Max: 48401.00\n",
      "  Mean: 47464.45\n",
      "  Std: 599.53\n",
      "Elapsed time: 0.0001 seconds\n",
      "Best total value found after tweak: 48401.0\n",
      "Statistics over tweak runs (n = 250):\n",
      "  Min: 45154.00\n",
      "  Max: 48401.00\n",
      "  Mean: 47375.18\n",
      "  Std: 672.66\n",
      "Elapsed time: 0.0001 seconds\n"
     ]
    },
    {
     "name": "stderr",
     "output_type": "stream",
     "text": [
      " 96%|█████████▋| 241/250 [00:05<00:00, 60.10it/s]"
     ]
    },
    {
     "name": "stdout",
     "output_type": "stream",
     "text": [
      "Best total value found after tweak: 48401.0\n",
      "Statistics over tweak runs (n = 250):\n",
      "  Min: 45755.00\n",
      "  Max: 48401.00\n",
      "  Mean: 47389.33\n",
      "  Std: 631.83\n",
      "Elapsed time: 0.0001 seconds\n",
      "Best total value found after tweak: 48401.0\n",
      "Statistics over tweak runs (n = 250):\n",
      "  Min: 45487.00\n",
      "  Max: 48401.00\n",
      "  Mean: 47467.96\n",
      "  Std: 613.46\n",
      "Elapsed time: 0.0001 seconds\n",
      "Best total value found after tweak: 48401.0\n",
      "Statistics over tweak runs (n = 250):\n",
      "  Min: 45647.00\n",
      "  Max: 48401.00\n",
      "  Mean: 47401.07\n",
      "  Std: 651.39\n",
      "Elapsed time: 0.0002 seconds\n",
      "Best total value found after tweak: 48401.0\n",
      "Statistics over tweak runs (n = 250):\n",
      "  Min: 45834.00\n",
      "  Max: 48401.00\n",
      "  Mean: 47419.83\n",
      "  Std: 595.53\n",
      "Elapsed time: 0.0001 seconds\n",
      "Best total value found after tweak: 48401.0\n",
      "Statistics over tweak runs (n = 250):\n",
      "  Min: 45396.00\n",
      "  Max: 48401.00\n",
      "  Mean: 47411.84\n",
      "  Std: 632.25\n",
      "Elapsed time: 0.0001 seconds\n",
      "Best total value found after tweak: 48401.0\n",
      "Statistics over tweak runs (n = 250):\n",
      "  Min: 45136.00\n",
      "  Max: 48401.00\n",
      "  Mean: 47396.32\n",
      "  Std: 651.44\n",
      "Elapsed time: 0.0001 seconds\n",
      "Best total value found after tweak: 48401.0\n",
      "Statistics over tweak runs (n = 250):\n",
      "  Min: 45676.00\n",
      "  Max: 48401.00\n",
      "  Mean: 47455.39\n",
      "  Std: 603.10\n",
      "Elapsed time: 0.0001 seconds\n",
      "Best total value found after tweak: 48401.0\n",
      "Statistics over tweak runs (n = 250):\n",
      "  Min: 45185.00\n",
      "  Max: 48401.00\n",
      "  Mean: 47371.15\n",
      "  Std: 637.89\n",
      "Elapsed time: 0.0001 seconds\n",
      "Best total value found after tweak: 48401.0\n",
      "Statistics over tweak runs (n = 250):\n",
      "  Min: 45642.00\n",
      "  Max: 48401.00\n",
      "  Mean: 47508.74\n",
      "  Std: 625.08\n",
      "Elapsed time: 0.0001 seconds\n",
      "Best total value found after tweak: 48401.0\n",
      "Statistics over tweak runs (n = 250):\n",
      "  Min: 45630.00\n",
      "  Max: 48401.00\n",
      "  Mean: 47465.59\n",
      "  Std: 605.66\n",
      "Elapsed time: 0.0001 seconds\n",
      "Best total value found after tweak: 48401.0\n",
      "Statistics over tweak runs (n = 250):\n",
      "  Min: 45095.00\n",
      "  Max: 48401.00\n",
      "  Mean: 47411.33\n",
      "  Std: 604.83\n",
      "Elapsed time: 0.0001 seconds\n"
     ]
    },
    {
     "name": "stderr",
     "output_type": "stream",
     "text": [
      "100%|██████████| 250/250 [00:05<00:00, 45.34it/s]"
     ]
    },
    {
     "name": "stdout",
     "output_type": "stream",
     "text": [
      "Best total value found after tweak: 48401.0\n",
      "Statistics over tweak runs (n = 250):\n",
      "  Min: 45300.00\n",
      "  Max: 48401.00\n",
      "  Mean: 47381.55\n",
      "  Std: 633.47\n",
      "Elapsed time: 0.0001 seconds\n",
      "Best total value found after tweak: 48401.0\n",
      "Statistics over tweak runs (n = 250):\n",
      "  Min: 45168.00\n",
      "  Max: 48401.00\n",
      "  Mean: 47406.69\n",
      "  Std: 608.99\n",
      "Elapsed time: 0.0001 seconds\n",
      "Best total value found after tweak: 48401.0\n",
      "Statistics over tweak runs (n = 250):\n",
      "  Min: 45534.00\n",
      "  Max: 48401.00\n",
      "  Mean: 47389.62\n",
      "  Std: 619.50\n",
      "Elapsed time: 0.0001 seconds\n",
      "Best total value found after tweak: 48401.0\n",
      "Statistics over tweak runs (n = 250):\n",
      "  Min: 45345.00\n",
      "  Max: 48401.00\n",
      "  Mean: 47435.62\n",
      "  Std: 572.56\n",
      "Elapsed time: 0.0000 seconds\n",
      "Best total value found after tweak: 48401.0\n",
      "Statistics over tweak runs (n = 250):\n",
      "  Min: 45600.00\n",
      "  Max: 48401.00\n",
      "  Mean: 47375.30\n",
      "  Std: 648.38\n",
      "Elapsed time: 0.0000 seconds\n",
      "Best total value found after tweak: 48401.0\n",
      "Statistics over tweak runs (n = 250):\n",
      "  Min: 45678.00\n",
      "  Max: 48401.00\n",
      "  Mean: 47455.69\n",
      "  Std: 596.62\n",
      "Elapsed time: 0.0001 seconds\n",
      "Best total value found after tweak: 48401.0\n",
      "Statistics over tweak runs (n = 250):\n",
      "  Min: 45525.00\n",
      "  Max: 48401.00\n",
      "  Mean: 47353.75\n",
      "  Std: 598.06\n",
      "Elapsed time: 0.0001 seconds\n",
      "48401\n"
     ]
    },
    {
     "name": "stderr",
     "output_type": "stream",
     "text": [
      "\n"
     ]
    }
   ],
   "source": [
    "first_solution = benchmark_solution(find_first_solution, n_runs=1000)\n",
    "first_solution.total_value\n",
    "tweaked_solution = first_solution\n",
    "for _ in tqdm(range(250)):\n",
    "    tweaked_solution = benchmark_tweak(tweaked_solution, tweak_solution, n_runs=250)\n",
    "print(tweaked_solution.total_value)"
   ]
  },
  {
   "cell_type": "code",
   "execution_count": 22,
   "id": "117380d6",
   "metadata": {},
   "outputs": [],
   "source": [
    "# Problem 3:\n",
    "rng = np.random.default_rng(seed=42)\n",
    "NUM_KNAPSACKS = 100\n",
    "NUM_ITEMS = 5000\n",
    "NUM_DIMENSIONS = 100\n",
    "VALUES = rng.integers(0, 1000, size=NUM_ITEMS)\n",
    "WEIGHTS = rng.integers(0, 1000, size=(NUM_ITEMS, NUM_DIMENSIONS))\n",
    "CONSTRAINTS = rng.integers(\n",
    "    1000 * 10,\n",
    "    1000 * 2 * NUM_ITEMS // NUM_KNAPSACKS,\n",
    "    size=(NUM_KNAPSACKS, NUM_DIMENSIONS),\n",
    ")"
   ]
  },
  {
   "cell_type": "code",
   "execution_count": null,
   "id": "0062c607",
   "metadata": {},
   "outputs": [
    {
     "name": "stdout",
     "output_type": "stream",
     "text": [
      "Best total value found: 1227842.0\n",
      "Statistics over runs (n = 10):\n",
      "  Min: 1188740.00\n",
      "  Max: 1227842.00\n",
      "  Mean: 1210450.80\n",
      "  Std: 11438.30\n",
      "Elapsed time: 1.1246 seconds\n"
     ]
    },
    {
     "name": "stderr",
     "output_type": "stream",
     "text": [
      "  2%|▏         | 1/50 [00:00<00:35,  1.38it/s]"
     ]
    },
    {
     "name": "stdout",
     "output_type": "stream",
     "text": [
      "Best total value found after tweak: 1248100.0\n",
      "Statistics over tweak runs (n = 250):\n",
      "  Min: 1220422.00\n",
      "  Max: 1248100.00\n",
      "  Mean: 1230273.30\n",
      "  Std: 5764.97\n",
      "Elapsed time: 0.0029 seconds\n"
     ]
    },
    {
     "name": "stderr",
     "output_type": "stream",
     "text": [
      "  4%|▍         | 2/50 [00:01<00:34,  1.39it/s]"
     ]
    },
    {
     "name": "stdout",
     "output_type": "stream",
     "text": [
      "Best total value found after tweak: 1276074.0\n",
      "Statistics over tweak runs (n = 250):\n",
      "  Min: 1245613.00\n",
      "  Max: 1276074.00\n",
      "  Mean: 1258881.38\n",
      "  Std: 7132.27\n",
      "Elapsed time: 0.0029 seconds\n"
     ]
    },
    {
     "name": "stderr",
     "output_type": "stream",
     "text": [
      "  6%|▌         | 3/50 [00:02<00:34,  1.34it/s]"
     ]
    },
    {
     "name": "stdout",
     "output_type": "stream",
     "text": [
      "Best total value found after tweak: 1305526.0\n",
      "Statistics over tweak runs (n = 250):\n",
      "  Min: 1272552.00\n",
      "  Max: 1305526.00\n",
      "  Mean: 1284801.78\n",
      "  Std: 6416.12\n",
      "Elapsed time: 0.0031 seconds\n"
     ]
    },
    {
     "name": "stderr",
     "output_type": "stream",
     "text": [
      "  8%|▊         | 4/50 [00:03<00:36,  1.26it/s]"
     ]
    },
    {
     "name": "stdout",
     "output_type": "stream",
     "text": [
      "Best total value found after tweak: 1334348.0\n",
      "Statistics over tweak runs (n = 250):\n",
      "  Min: 1303469.00\n",
      "  Max: 1334348.00\n",
      "  Mean: 1314940.19\n",
      "  Std: 6559.63\n",
      "Elapsed time: 0.0035 seconds\n"
     ]
    },
    {
     "name": "stderr",
     "output_type": "stream",
     "text": [
      " 10%|█         | 5/50 [00:04<00:39,  1.14it/s]"
     ]
    },
    {
     "name": "stdout",
     "output_type": "stream",
     "text": [
      "Best total value found after tweak: 1363059.0\n",
      "Statistics over tweak runs (n = 250):\n",
      "  Min: 1330926.00\n",
      "  Max: 1363059.00\n",
      "  Mean: 1341536.56\n",
      "  Std: 5876.11\n",
      "Elapsed time: 0.0041 seconds\n"
     ]
    },
    {
     "name": "stderr",
     "output_type": "stream",
     "text": [
      " 12%|█▏        | 6/50 [00:04<00:37,  1.16it/s]"
     ]
    },
    {
     "name": "stdout",
     "output_type": "stream",
     "text": [
      "Best total value found after tweak: 1382752.0\n",
      "Statistics over tweak runs (n = 250):\n",
      "  Min: 1360899.00\n",
      "  Max: 1382752.00\n",
      "  Mean: 1368886.69\n",
      "  Std: 5053.26\n",
      "Elapsed time: 0.0033 seconds\n"
     ]
    },
    {
     "name": "stderr",
     "output_type": "stream",
     "text": [
      " 14%|█▍        | 7/50 [00:05<00:36,  1.18it/s]"
     ]
    },
    {
     "name": "stdout",
     "output_type": "stream",
     "text": [
      "Best total value found after tweak: 1401939.0\n",
      "Statistics over tweak runs (n = 250):\n",
      "  Min: 1379609.00\n",
      "  Max: 1401939.00\n",
      "  Mean: 1388147.84\n",
      "  Std: 4687.01\n",
      "Elapsed time: 0.0033 seconds\n"
     ]
    },
    {
     "name": "stderr",
     "output_type": "stream",
     "text": [
      " 16%|█▌        | 8/50 [00:06<00:34,  1.22it/s]"
     ]
    },
    {
     "name": "stdout",
     "output_type": "stream",
     "text": [
      "Best total value found after tweak: 1422251.0\n",
      "Statistics over tweak runs (n = 250):\n",
      "  Min: 1398266.00\n",
      "  Max: 1422251.00\n",
      "  Mean: 1406161.42\n",
      "  Std: 4385.21\n",
      "Elapsed time: 0.0030 seconds\n"
     ]
    },
    {
     "name": "stderr",
     "output_type": "stream",
     "text": [
      " 18%|█▊        | 9/50 [00:07<00:32,  1.25it/s]"
     ]
    },
    {
     "name": "stdout",
     "output_type": "stream",
     "text": [
      "Best total value found after tweak: 1436611.0\n",
      "Statistics over tweak runs (n = 250):\n",
      "  Min: 1417580.00\n",
      "  Max: 1436611.00\n",
      "  Mean: 1426126.10\n",
      "  Std: 3717.63\n",
      "Elapsed time: 0.0030 seconds\n"
     ]
    },
    {
     "name": "stderr",
     "output_type": "stream",
     "text": [
      " 20%|██        | 10/50 [00:08<00:32,  1.23it/s]"
     ]
    },
    {
     "name": "stdout",
     "output_type": "stream",
     "text": [
      "Best total value found after tweak: 1450282.0\n",
      "Statistics over tweak runs (n = 250):\n",
      "  Min: 1432312.00\n",
      "  Max: 1450282.00\n",
      "  Mean: 1439081.05\n",
      "  Std: 3489.39\n",
      "Elapsed time: 0.0034 seconds\n"
     ]
    },
    {
     "name": "stderr",
     "output_type": "stream",
     "text": [
      " 22%|██▏       | 11/50 [00:08<00:31,  1.23it/s]"
     ]
    },
    {
     "name": "stdout",
     "output_type": "stream",
     "text": [
      "Best total value found after tweak: 1467854.0\n",
      "Statistics over tweak runs (n = 250):\n",
      "  Min: 1444200.00\n",
      "  Max: 1467854.00\n",
      "  Mean: 1453591.36\n",
      "  Std: 3643.55\n",
      "Elapsed time: 0.0032 seconds\n"
     ]
    },
    {
     "name": "stderr",
     "output_type": "stream",
     "text": [
      " 24%|██▍       | 12/50 [00:09<00:30,  1.24it/s]"
     ]
    },
    {
     "name": "stdout",
     "output_type": "stream",
     "text": [
      "Best total value found after tweak: 1480718.0\n",
      "Statistics over tweak runs (n = 250):\n",
      "  Min: 1460991.00\n",
      "  Max: 1480718.00\n",
      "  Mean: 1469755.74\n",
      "  Std: 3395.79\n",
      "Elapsed time: 0.0032 seconds\n"
     ]
    },
    {
     "name": "stderr",
     "output_type": "stream",
     "text": [
      " 26%|██▌       | 13/50 [00:10<00:30,  1.23it/s]"
     ]
    },
    {
     "name": "stdout",
     "output_type": "stream",
     "text": [
      "Best total value found after tweak: 1493402.0\n",
      "Statistics over tweak runs (n = 250):\n",
      "  Min: 1474197.00\n",
      "  Max: 1493402.00\n",
      "  Mean: 1481547.77\n",
      "  Std: 3003.77\n",
      "Elapsed time: 0.0033 seconds\n"
     ]
    },
    {
     "name": "stderr",
     "output_type": "stream",
     "text": [
      " 28%|██▊       | 14/50 [00:11<00:30,  1.20it/s]"
     ]
    },
    {
     "name": "stdout",
     "output_type": "stream",
     "text": [
      "Best total value found after tweak: 1508225.0\n",
      "Statistics over tweak runs (n = 250):\n",
      "  Min: 1485587.00\n",
      "  Max: 1508225.00\n",
      "  Mean: 1494353.03\n",
      "  Std: 3694.88\n",
      "Elapsed time: 0.0035 seconds\n"
     ]
    },
    {
     "name": "stderr",
     "output_type": "stream",
     "text": [
      " 30%|███       | 15/50 [00:12<00:29,  1.19it/s]"
     ]
    },
    {
     "name": "stdout",
     "output_type": "stream",
     "text": [
      "Best total value found after tweak: 1519431.0\n",
      "Statistics over tweak runs (n = 250):\n",
      "  Min: 1500245.00\n",
      "  Max: 1519431.00\n",
      "  Mean: 1508105.44\n",
      "  Std: 3177.99\n",
      "Elapsed time: 0.0034 seconds\n"
     ]
    },
    {
     "name": "stderr",
     "output_type": "stream",
     "text": [
      " 32%|███▏      | 16/50 [00:13<00:27,  1.22it/s]"
     ]
    },
    {
     "name": "stdout",
     "output_type": "stream",
     "text": [
      "Best total value found after tweak: 1530543.0\n",
      "Statistics over tweak runs (n = 250):\n",
      "  Min: 1509510.00\n",
      "  Max: 1530543.00\n",
      "  Mean: 1519793.84\n",
      "  Std: 3305.87\n",
      "Elapsed time: 0.0031 seconds\n"
     ]
    },
    {
     "name": "stderr",
     "output_type": "stream",
     "text": [
      " 34%|███▍      | 17/50 [00:13<00:26,  1.23it/s]"
     ]
    },
    {
     "name": "stdout",
     "output_type": "stream",
     "text": [
      "Best total value found after tweak: 1541911.0\n",
      "Statistics over tweak runs (n = 250):\n",
      "  Min: 1521402.00\n",
      "  Max: 1541911.00\n",
      "  Mean: 1531691.82\n",
      "  Std: 2974.11\n",
      "Elapsed time: 0.0032 seconds\n"
     ]
    },
    {
     "name": "stderr",
     "output_type": "stream",
     "text": [
      " 36%|███▌      | 18/50 [00:14<00:25,  1.24it/s]"
     ]
    },
    {
     "name": "stdout",
     "output_type": "stream",
     "text": [
      "Best total value found after tweak: 1548460.0\n",
      "Statistics over tweak runs (n = 250):\n",
      "  Min: 1530671.00\n",
      "  Max: 1548460.00\n",
      "  Mean: 1539507.82\n",
      "  Std: 2746.93\n",
      "Elapsed time: 0.0032 seconds\n"
     ]
    },
    {
     "name": "stderr",
     "output_type": "stream",
     "text": [
      " 38%|███▊      | 19/50 [00:15<00:24,  1.28it/s]"
     ]
    },
    {
     "name": "stdout",
     "output_type": "stream",
     "text": [
      "Best total value found after tweak: 1557382.0\n",
      "Statistics over tweak runs (n = 250):\n",
      "  Min: 1539569.00\n",
      "  Max: 1557382.00\n",
      "  Mean: 1548420.64\n",
      "  Std: 2995.34\n",
      "Elapsed time: 0.0029 seconds\n"
     ]
    },
    {
     "name": "stderr",
     "output_type": "stream",
     "text": [
      " 40%|████      | 20/50 [00:16<00:23,  1.25it/s]"
     ]
    },
    {
     "name": "stdout",
     "output_type": "stream",
     "text": [
      "Best total value found after tweak: 1568738.0\n",
      "Statistics over tweak runs (n = 250):\n",
      "  Min: 1548433.00\n",
      "  Max: 1568738.00\n",
      "  Mean: 1557680.06\n",
      "  Std: 3108.15\n",
      "Elapsed time: 0.0034 seconds\n"
     ]
    },
    {
     "name": "stderr",
     "output_type": "stream",
     "text": [
      " 42%|████▏     | 21/50 [00:17<00:23,  1.24it/s]"
     ]
    },
    {
     "name": "stdout",
     "output_type": "stream",
     "text": [
      "Best total value found after tweak: 1579064.0\n",
      "Statistics over tweak runs (n = 250):\n",
      "  Min: 1558951.00\n",
      "  Max: 1579064.00\n",
      "  Mean: 1567327.52\n",
      "  Std: 3133.00\n",
      "Elapsed time: 0.0033 seconds\n"
     ]
    },
    {
     "name": "stderr",
     "output_type": "stream",
     "text": [
      " 44%|████▍     | 22/50 [00:19<00:37,  1.32s/it]"
     ]
    },
    {
     "name": "stdout",
     "output_type": "stream",
     "text": [
      "Best total value found after tweak: 1588430.0\n",
      "Statistics over tweak runs (n = 250):\n",
      "  Min: 1568929.00\n",
      "  Max: 1588430.00\n",
      "  Mean: 1580091.81\n",
      "  Std: 2990.90\n",
      "Elapsed time: 0.0101 seconds\n"
     ]
    },
    {
     "name": "stderr",
     "output_type": "stream",
     "text": [
      " 46%|████▌     | 23/50 [00:20<00:31,  1.18s/it]"
     ]
    },
    {
     "name": "stdout",
     "output_type": "stream",
     "text": [
      "Best total value found after tweak: 1600536.0\n",
      "Statistics over tweak runs (n = 250):\n",
      "  Min: 1577438.00\n",
      "  Max: 1600536.00\n",
      "  Mean: 1587629.57\n",
      "  Std: 3013.55\n",
      "Elapsed time: 0.0034 seconds\n"
     ]
    },
    {
     "name": "stderr",
     "output_type": "stream",
     "text": [
      " 48%|████▊     | 24/50 [00:21<00:28,  1.09s/it]"
     ]
    },
    {
     "name": "stdout",
     "output_type": "stream",
     "text": [
      "Best total value found after tweak: 1605744.0\n",
      "Statistics over tweak runs (n = 250):\n",
      "  Min: 1588134.00\n",
      "  Max: 1605744.00\n",
      "  Mean: 1597311.40\n",
      "  Std: 3229.87\n",
      "Elapsed time: 0.0035 seconds\n"
     ]
    },
    {
     "name": "stderr",
     "output_type": "stream",
     "text": [
      " 50%|█████     | 25/50 [00:22<00:25,  1.02s/it]"
     ]
    },
    {
     "name": "stdout",
     "output_type": "stream",
     "text": [
      "Best total value found after tweak: 1612737.0\n",
      "Statistics over tweak runs (n = 250):\n",
      "  Min: 1597221.00\n",
      "  Max: 1612737.00\n",
      "  Mean: 1605984.94\n",
      "  Std: 2728.36\n",
      "Elapsed time: 0.0034 seconds\n"
     ]
    },
    {
     "name": "stderr",
     "output_type": "stream",
     "text": [
      " 52%|█████▏    | 26/50 [00:22<00:22,  1.07it/s]"
     ]
    },
    {
     "name": "stdout",
     "output_type": "stream",
     "text": [
      "Best total value found after tweak: 1618214.0\n",
      "Statistics over tweak runs (n = 250):\n",
      "  Min: 1603758.00\n",
      "  Max: 1618214.00\n",
      "  Mean: 1611844.32\n",
      "  Std: 2597.06\n",
      "Elapsed time: 0.0030 seconds\n"
     ]
    },
    {
     "name": "stderr",
     "output_type": "stream",
     "text": [
      " 54%|█████▍    | 27/50 [00:23<00:20,  1.14it/s]"
     ]
    },
    {
     "name": "stdout",
     "output_type": "stream",
     "text": [
      "Best total value found after tweak: 1627725.0\n",
      "Statistics over tweak runs (n = 250):\n",
      "  Min: 1609158.00\n",
      "  Max: 1627725.00\n",
      "  Mean: 1618012.65\n",
      "  Std: 3118.54\n",
      "Elapsed time: 0.0029 seconds\n"
     ]
    },
    {
     "name": "stderr",
     "output_type": "stream",
     "text": [
      " 56%|█████▌    | 28/50 [00:24<00:18,  1.20it/s]"
     ]
    },
    {
     "name": "stdout",
     "output_type": "stream",
     "text": [
      "Best total value found after tweak: 1633029.0\n",
      "Statistics over tweak runs (n = 250):\n",
      "  Min: 1613324.00\n",
      "  Max: 1633029.00\n",
      "  Mean: 1624543.70\n",
      "  Std: 3319.11\n",
      "Elapsed time: 0.0030 seconds\n"
     ]
    },
    {
     "name": "stderr",
     "output_type": "stream",
     "text": [
      " 58%|█████▊    | 29/50 [00:25<00:16,  1.27it/s]"
     ]
    },
    {
     "name": "stdout",
     "output_type": "stream",
     "text": [
      "Best total value found after tweak: 1635814.0\n",
      "Statistics over tweak runs (n = 250):\n",
      "  Min: 1614727.00\n",
      "  Max: 1635814.00\n",
      "  Mean: 1628279.81\n",
      "  Std: 3537.84\n",
      "Elapsed time: 0.0027 seconds\n"
     ]
    },
    {
     "name": "stderr",
     "output_type": "stream",
     "text": [
      " 60%|██████    | 30/50 [00:25<00:15,  1.29it/s]"
     ]
    },
    {
     "name": "stdout",
     "output_type": "stream",
     "text": [
      "Best total value found after tweak: 1638638.0\n",
      "Statistics over tweak runs (n = 250):\n",
      "  Min: 1622058.00\n",
      "  Max: 1638638.00\n",
      "  Mean: 1630546.71\n",
      "  Std: 3231.58\n",
      "Elapsed time: 0.0030 seconds\n"
     ]
    },
    {
     "name": "stderr",
     "output_type": "stream",
     "text": [
      " 62%|██████▏   | 31/50 [00:26<00:14,  1.31it/s]"
     ]
    },
    {
     "name": "stdout",
     "output_type": "stream",
     "text": [
      "Best total value found after tweak: 1641064.0\n",
      "Statistics over tweak runs (n = 250):\n",
      "  Min: 1621827.00\n",
      "  Max: 1641064.00\n",
      "  Mean: 1633845.97\n",
      "  Std: 3438.10\n",
      "Elapsed time: 0.0030 seconds\n"
     ]
    },
    {
     "name": "stderr",
     "output_type": "stream",
     "text": [
      " 64%|██████▍   | 32/50 [00:27<00:13,  1.32it/s]"
     ]
    },
    {
     "name": "stdout",
     "output_type": "stream",
     "text": [
      "Best total value found after tweak: 1643628.0\n",
      "Statistics over tweak runs (n = 250):\n",
      "  Min: 1625988.00\n",
      "  Max: 1643628.00\n",
      "  Mean: 1637010.39\n",
      "  Std: 3553.22\n",
      "Elapsed time: 0.0029 seconds\n"
     ]
    },
    {
     "name": "stderr",
     "output_type": "stream",
     "text": [
      " 66%|██████▌   | 33/50 [00:28<00:12,  1.32it/s]"
     ]
    },
    {
     "name": "stdout",
     "output_type": "stream",
     "text": [
      "Best total value found after tweak: 1646901.0\n",
      "Statistics over tweak runs (n = 250):\n",
      "  Min: 1629638.00\n",
      "  Max: 1646901.00\n",
      "  Mean: 1638142.64\n",
      "  Std: 3629.58\n",
      "Elapsed time: 0.0030 seconds\n"
     ]
    },
    {
     "name": "stderr",
     "output_type": "stream",
     "text": [
      " 68%|██████▊   | 34/50 [00:28<00:12,  1.33it/s]"
     ]
    },
    {
     "name": "stdout",
     "output_type": "stream",
     "text": [
      "Best total value found after tweak: 1652289.0\n",
      "Statistics over tweak runs (n = 250):\n",
      "  Min: 1632625.00\n",
      "  Max: 1652289.00\n",
      "  Mean: 1644110.70\n",
      "  Std: 3447.31\n",
      "Elapsed time: 0.0030 seconds\n"
     ]
    },
    {
     "name": "stderr",
     "output_type": "stream",
     "text": [
      " 70%|███████   | 35/50 [00:29<00:11,  1.33it/s]"
     ]
    },
    {
     "name": "stdout",
     "output_type": "stream",
     "text": [
      "Best total value found after tweak: 1657021.0\n",
      "Statistics over tweak runs (n = 250):\n",
      "  Min: 1637888.00\n",
      "  Max: 1657021.00\n",
      "  Mean: 1648416.25\n",
      "  Std: 3614.66\n",
      "Elapsed time: 0.0030 seconds\n"
     ]
    },
    {
     "name": "stderr",
     "output_type": "stream",
     "text": [
      " 72%|███████▏  | 36/50 [00:30<00:10,  1.31it/s]"
     ]
    },
    {
     "name": "stdout",
     "output_type": "stream",
     "text": [
      "Best total value found after tweak: 1659850.0\n",
      "Statistics over tweak runs (n = 250):\n",
      "  Min: 1638008.00\n",
      "  Max: 1659850.00\n",
      "  Mean: 1650447.27\n",
      "  Std: 4245.35\n",
      "Elapsed time: 0.0032 seconds\n"
     ]
    },
    {
     "name": "stderr",
     "output_type": "stream",
     "text": [
      " 74%|███████▍  | 37/50 [00:31<00:09,  1.32it/s]"
     ]
    },
    {
     "name": "stdout",
     "output_type": "stream",
     "text": [
      "Best total value found after tweak: 1662690.0\n",
      "Statistics over tweak runs (n = 250):\n",
      "  Min: 1642932.00\n",
      "  Max: 1662690.00\n",
      "  Mean: 1654703.01\n",
      "  Std: 3699.90\n",
      "Elapsed time: 0.0029 seconds\n"
     ]
    },
    {
     "name": "stderr",
     "output_type": "stream",
     "text": [
      " 76%|███████▌  | 38/50 [00:31<00:08,  1.34it/s]"
     ]
    },
    {
     "name": "stdout",
     "output_type": "stream",
     "text": [
      "Best total value found after tweak: 1670676.0\n",
      "Statistics over tweak runs (n = 250):\n",
      "  Min: 1648394.00\n",
      "  Max: 1670676.00\n",
      "  Mean: 1659164.05\n",
      "  Std: 3443.01\n",
      "Elapsed time: 0.0029 seconds\n"
     ]
    },
    {
     "name": "stderr",
     "output_type": "stream",
     "text": [
      " 78%|███████▊  | 39/50 [00:32<00:08,  1.35it/s]"
     ]
    },
    {
     "name": "stdout",
     "output_type": "stream",
     "text": [
      "Best total value found after tweak: 1671091.0\n",
      "Statistics over tweak runs (n = 250):\n",
      "  Min: 1650531.00\n",
      "  Max: 1671091.00\n",
      "  Mean: 1663044.47\n",
      "  Std: 4394.43\n",
      "Elapsed time: 0.0029 seconds\n"
     ]
    },
    {
     "name": "stderr",
     "output_type": "stream",
     "text": [
      " 80%|████████  | 40/50 [00:33<00:07,  1.35it/s]"
     ]
    },
    {
     "name": "stdout",
     "output_type": "stream",
     "text": [
      "Best total value found after tweak: 1672412.0\n",
      "Statistics over tweak runs (n = 250):\n",
      "  Min: 1648494.00\n",
      "  Max: 1672412.00\n",
      "  Mean: 1663739.65\n",
      "  Std: 4140.86\n",
      "Elapsed time: 0.0029 seconds\n"
     ]
    },
    {
     "name": "stderr",
     "output_type": "stream",
     "text": [
      " 82%|████████▏ | 41/50 [00:33<00:06,  1.37it/s]"
     ]
    },
    {
     "name": "stdout",
     "output_type": "stream",
     "text": [
      "Best total value found after tweak: 1672847.0\n",
      "Statistics over tweak runs (n = 250):\n",
      "  Min: 1654308.00\n",
      "  Max: 1672847.00\n",
      "  Mean: 1666118.42\n",
      "  Std: 3807.00\n",
      "Elapsed time: 0.0029 seconds\n"
     ]
    },
    {
     "name": "stderr",
     "output_type": "stream",
     "text": [
      " 84%|████████▍ | 42/50 [00:34<00:05,  1.34it/s]"
     ]
    },
    {
     "name": "stdout",
     "output_type": "stream",
     "text": [
      "Best total value found after tweak: 1676810.0\n",
      "Statistics over tweak runs (n = 250):\n",
      "  Min: 1655329.00\n",
      "  Max: 1676810.00\n",
      "  Mean: 1668051.44\n",
      "  Std: 3843.95\n",
      "Elapsed time: 0.0031 seconds\n"
     ]
    },
    {
     "name": "stderr",
     "output_type": "stream",
     "text": [
      " 86%|████████▌ | 43/50 [00:35<00:05,  1.27it/s]"
     ]
    },
    {
     "name": "stdout",
     "output_type": "stream",
     "text": [
      "Best total value found after tweak: 1680702.0\n",
      "Statistics over tweak runs (n = 250):\n",
      "  Min: 1658153.00\n",
      "  Max: 1680702.00\n",
      "  Mean: 1671637.84\n",
      "  Std: 3837.78\n",
      "Elapsed time: 0.0036 seconds\n"
     ]
    },
    {
     "name": "stderr",
     "output_type": "stream",
     "text": [
      " 88%|████████▊ | 44/50 [00:36<00:04,  1.22it/s]"
     ]
    },
    {
     "name": "stdout",
     "output_type": "stream",
     "text": [
      "Best total value found after tweak: 1682678.0\n",
      "Statistics over tweak runs (n = 250):\n",
      "  Min: 1663308.00\n",
      "  Max: 1682678.00\n",
      "  Mean: 1675450.64\n",
      "  Std: 3911.63\n",
      "Elapsed time: 0.0035 seconds\n"
     ]
    },
    {
     "name": "stderr",
     "output_type": "stream",
     "text": [
      " 90%|█████████ | 45/50 [00:37<00:04,  1.23it/s]"
     ]
    },
    {
     "name": "stdout",
     "output_type": "stream",
     "text": [
      "Best total value found after tweak: 1686352.0\n",
      "Statistics over tweak runs (n = 250):\n",
      "  Min: 1666741.00\n",
      "  Max: 1686352.00\n",
      "  Mean: 1678376.80\n",
      "  Std: 3758.27\n",
      "Elapsed time: 0.0032 seconds\n"
     ]
    },
    {
     "name": "stderr",
     "output_type": "stream",
     "text": [
      " 92%|█████████▏| 46/50 [00:38<00:03,  1.22it/s]"
     ]
    },
    {
     "name": "stdout",
     "output_type": "stream",
     "text": [
      "Best total value found after tweak: 1689977.0\n",
      "Statistics over tweak runs (n = 250):\n",
      "  Min: 1671269.00\n",
      "  Max: 1689977.00\n",
      "  Mean: 1682738.74\n",
      "  Std: 3547.06\n",
      "Elapsed time: 0.0033 seconds\n"
     ]
    },
    {
     "name": "stderr",
     "output_type": "stream",
     "text": [
      " 94%|█████████▍| 47/50 [00:38<00:02,  1.24it/s]"
     ]
    },
    {
     "name": "stdout",
     "output_type": "stream",
     "text": [
      "Best total value found after tweak: 1693388.0\n",
      "Statistics over tweak runs (n = 250):\n",
      "  Min: 1673310.00\n",
      "  Max: 1693388.00\n",
      "  Mean: 1685609.80\n",
      "  Std: 3755.58\n",
      "Elapsed time: 0.0031 seconds\n"
     ]
    },
    {
     "name": "stderr",
     "output_type": "stream",
     "text": [
      " 96%|█████████▌| 48/50 [00:39<00:01,  1.25it/s]"
     ]
    },
    {
     "name": "stdout",
     "output_type": "stream",
     "text": [
      "Best total value found after tweak: 1696567.0\n",
      "Statistics over tweak runs (n = 250):\n",
      "  Min: 1674754.00\n",
      "  Max: 1696567.00\n",
      "  Mean: 1687373.11\n",
      "  Std: 4015.46\n",
      "Elapsed time: 0.0032 seconds\n"
     ]
    },
    {
     "name": "stderr",
     "output_type": "stream",
     "text": [
      " 98%|█████████▊| 49/50 [00:40<00:00,  1.18it/s]"
     ]
    },
    {
     "name": "stdout",
     "output_type": "stream",
     "text": [
      "Best total value found after tweak: 1699727.0\n",
      "Statistics over tweak runs (n = 250):\n",
      "  Min: 1678986.00\n",
      "  Max: 1699727.00\n",
      "  Mean: 1690764.41\n",
      "  Std: 3870.49\n",
      "Elapsed time: 0.0038 seconds\n"
     ]
    },
    {
     "name": "stderr",
     "output_type": "stream",
     "text": [
      "100%|██████████| 50/50 [00:41<00:00,  1.20it/s]"
     ]
    },
    {
     "name": "stdout",
     "output_type": "stream",
     "text": [
      "Best total value found after tweak: 1702294.0\n",
      "Statistics over tweak runs (n = 250):\n",
      "  Min: 1682109.00\n",
      "  Max: 1702294.00\n",
      "  Mean: 1695627.03\n",
      "  Std: 3830.26\n",
      "Elapsed time: 0.0035 seconds\n",
      "1702294\n"
     ]
    },
    {
     "name": "stderr",
     "output_type": "stream",
     "text": [
      "\n"
     ]
    }
   ],
   "source": [
    "first_solution = benchmark_solution(find_first_solution, n_runs=10)\n",
    "first_solution.total_value\n",
    "tweaked_solution = first_solution\n",
    "for _ in tqdm(range(100)):\n",
    "    tweaked_solution = benchmark_tweak(tweaked_solution, tweak_solution, n_runs=50)\n",
    "print(tweaked_solution.total_value)"
   ]
  }
 ],
 "metadata": {
  "kernelspec": {
   "display_name": "labo",
   "language": "python",
   "name": "python3"
  },
  "language_info": {
   "codemirror_mode": {
    "name": "ipython",
    "version": 3
   },
   "file_extension": ".py",
   "mimetype": "text/x-python",
   "name": "python",
   "nbconvert_exporter": "python",
   "pygments_lexer": "ipython3",
   "version": "3.12.3"
  }
 },
 "nbformat": 4,
 "nbformat_minor": 5
}
