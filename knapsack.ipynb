{
 "cells": [
  {
   "cell_type": "markdown",
   "id": "11fa4375",
   "metadata": {},
   "source": [
    "Copyright **`(c)`** 2025 Giovanni Squillero `<giovanni.squillero@polito.it>`  \n",
    "[`https://github.com/squillero/computational-intelligence`](https://github.com/squillero/computational-intelligence)  \n",
    "Free under certain conditions — see the [`license`](https://github.com/squillero/computational-intelligence/blob/master/LICENSE.md) for details.  "
   ]
  },
  {
   "cell_type": "code",
   "execution_count": 891,
   "id": "c0882a9f",
   "metadata": {},
   "outputs": [],
   "source": [
    "import numpy as np\n",
    "import time\n",
    "import copy\n",
    "import math\n",
    "from typing import Callable"
   ]
  },
  {
   "cell_type": "code",
   "execution_count": 892,
   "id": "3adb670e",
   "metadata": {},
   "outputs": [],
   "source": [
    "NUM_KNAPSACKS = 3\n",
    "NUM_ITEMS = 10\n",
    "NUM_DIMENSIONS = 2"
   ]
  },
  {
   "cell_type": "code",
   "execution_count": 893,
   "id": "2db51e99",
   "metadata": {},
   "outputs": [],
   "source": [
    "VALUES = np.random.randint(0, 100, size=NUM_ITEMS)\n",
    "WEIGHTS = np.random.randint(0, 100, size=(NUM_ITEMS, NUM_DIMENSIONS))\n",
    "CONSTRAINTS = np.random.randint(\n",
    "    0, 100 * NUM_ITEMS // NUM_KNAPSACKS, size=(NUM_KNAPSACKS, NUM_DIMENSIONS)\n",
    ")"
   ]
  },
  {
   "cell_type": "code",
   "execution_count": 894,
   "id": "15da2136",
   "metadata": {},
   "outputs": [
    {
     "data": {
      "text/plain": [
       "array([[ 60, 155],\n",
       "       [ 69,  61],\n",
       "       [ 81,  65]], dtype=int32)"
      ]
     },
     "execution_count": 894,
     "metadata": {},
     "output_type": "execute_result"
    }
   ],
   "source": [
    "CONSTRAINTS"
   ]
  },
  {
   "cell_type": "markdown",
   "id": "8e0e0673",
   "metadata": {},
   "source": [
    "## TEST PROBLEMS"
   ]
  },
  {
   "cell_type": "code",
   "execution_count": 895,
   "id": "5595db9c",
   "metadata": {},
   "outputs": [],
   "source": [
    "# Problem 1:\n",
    "rng = np.random.default_rng(seed=42)\n",
    "NUM_KNAPSACKS = 3\n",
    "NUM_ITEMS = 20\n",
    "NUM_DIMENSIONS = 2\n",
    "VALUES = rng.integers(0, 100, size=NUM_ITEMS)\n",
    "WEIGHTS = rng.integers(0, 100, size=(NUM_ITEMS, NUM_DIMENSIONS))\n",
    "CONSTRAINTS = rng.integers(\n",
    "    0, 100 * NUM_ITEMS // NUM_KNAPSACKS, size=(NUM_KNAPSACKS, NUM_DIMENSIONS)\n",
    ")"
   ]
  },
  {
   "cell_type": "code",
   "execution_count": 896,
   "id": "74be74a4",
   "metadata": {},
   "outputs": [],
   "source": [
    "from dataclasses import dataclass\n",
    "\n",
    "\n",
    "@dataclass\n",
    "class Solution:\n",
    "    knapsacks: list[set[int]]\n",
    "    total_value: int\n",
    "\n",
    "    def get_items_left(self) -> set[int]:\n",
    "        items_left = set(range(NUM_ITEMS))\n",
    "        for ks in self.knapsacks:\n",
    "            items_left -= ks\n",
    "        return items_left"
   ]
  },
  {
   "cell_type": "code",
   "execution_count": 897,
   "id": "340937aa",
   "metadata": {},
   "outputs": [],
   "source": [
    "def find_first_solution(\n",
    "    knapsacks: list[set[int]] = None,\n",
    ") -> Solution:\n",
    "    if knapsacks is None:\n",
    "        knapsacks = [set() for _ in range(NUM_KNAPSACKS)]\n",
    "\n",
    "    running_totals = np.zeros((NUM_KNAPSACKS, NUM_DIMENSIONS), dtype=int)\n",
    "    total_value = 0\n",
    "\n",
    "    # We build a simple probability distribution that favors items with higher value-to-weight ratios.\n",
    "    nudged_probs = np.array(\n",
    "        [\n",
    "            1e-3 + np.log(VALUES[i] + 1) - (np.log((WEIGHTS[i] + 1)).sum())\n",
    "            for i in range(NUM_ITEMS)\n",
    "        ]\n",
    "    )\n",
    "\n",
    "    free_items = set(range(NUM_ITEMS))\n",
    "    for ks in knapsacks:\n",
    "        free_items -= ks\n",
    "\n",
    "    while len(free_items) > 0:\n",
    "        probs = nudged_probs[list(free_items)]\n",
    "        probs = probs / probs.sum()\n",
    "        item = rng.choice(list(free_items), p=probs)\n",
    "\n",
    "        # Calculate availability after adding the item to each knapsack\n",
    "        availability_after = CONSTRAINTS - (running_totals + WEIGHTS[item])\n",
    "        # print((availability_after / CONSTRAINTS).shape)\n",
    "        # Find knapsacks that can actually accommodate the item\n",
    "        available_knapsacks = np.where((availability_after >= 0).all(axis=1))[0]\n",
    "        # print(available_knapsacks)\n",
    "        # If no knapsack can accommodate the item, skip it\n",
    "        if len(available_knapsacks) == 0:\n",
    "            # This item cannot be added to any knapsack (we may be in a local optimum)\n",
    "            free_items.remove(item)\n",
    "            continue\n",
    "\n",
    "        if len(available_knapsacks) == 1:\n",
    "            knapsack_i = available_knapsacks[0]\n",
    "\n",
    "        else:\n",
    "            balance_after = (\n",
    "                CONSTRAINTS[available_knapsacks]\n",
    "                - availability_after[available_knapsacks]\n",
    "            )\n",
    "            balance_after = balance_after.max(axis=1) - balance_after.min(axis=1)\n",
    "            nudged_probs2 = 1 / (balance_after + 4)\n",
    "            nudged_probs2 = nudged_probs2 / nudged_probs2.sum()\n",
    "            # print(balance_after, balance_after.shape)\n",
    "            # Select the knapsack that will have the most balanced load between the dimensions of constraint after adding the item\n",
    "            knapsack_i = available_knapsacks[balance_after.argmin()]\n",
    "            # knapsack_i = rng.choice(available_knapsacks, p=nudged_probs2)\n",
    "\n",
    "        knapsacks[knapsack_i].add(item)\n",
    "        free_items.remove(item)\n",
    "        running_totals[knapsack_i] += WEIGHTS[item]\n",
    "        total_value += VALUES[item]\n",
    "\n",
    "    return Solution(knapsacks=knapsacks, total_value=total_value)"
   ]
  },
  {
   "cell_type": "code",
   "execution_count": 898,
   "id": "888cdbf1",
   "metadata": {},
   "outputs": [
    {
     "name": "stdout",
     "output_type": "stream",
     "text": [
      "1020\n"
     ]
    }
   ],
   "source": [
    "first_solution = find_first_solution()\n",
    "print(first_solution.total_value)"
   ]
  },
  {
   "cell_type": "code",
   "execution_count": 899,
   "id": "7339ac9a",
   "metadata": {},
   "outputs": [],
   "source": [
    "def benchmark_solution(\n",
    "    solution_factory: Callable[[], Solution], n_runs: int = 10\n",
    ") -> Solution:\n",
    "    start_time = time.time()\n",
    "\n",
    "    runs_points = np.zeros(n_runs)\n",
    "    best_knapsacks: list[set[int]] = []\n",
    "    best_value = 0\n",
    "\n",
    "    for run_i in range(n_runs):\n",
    "        solution = solution_factory()\n",
    "        total_value = solution.total_value\n",
    "\n",
    "        runs_points[run_i] = total_value\n",
    "        if total_value > best_value:\n",
    "            best_value = total_value\n",
    "            best_knapsacks = solution.knapsacks\n",
    "\n",
    "    end_time = time.time()\n",
    "    avg_time = (end_time - start_time) / n_runs\n",
    "\n",
    "    print(\"Best total value found:\", max(runs_points))\n",
    "    # print(\"Best knapsacks found:\", best_knapsacks)\n",
    "\n",
    "    print(f\"Statistics over runs (n = {n_runs}):\")\n",
    "    print(f\"  Min: {runs_points.min():.2f}\")\n",
    "    print(f\"  Max: {runs_points.max():.2f}\")\n",
    "    print(f\"  Mean: {runs_points.mean():.2f}\")\n",
    "    print(f\"  Std: {runs_points.std():.2f}\")\n",
    "    print(f\"Elapsed time: {(avg_time):.4f} seconds\")\n",
    "\n",
    "    return Solution(knapsacks=best_knapsacks, total_value=best_value)"
   ]
  },
  {
   "cell_type": "code",
   "execution_count": 900,
   "id": "4ffe5e15",
   "metadata": {},
   "outputs": [
    {
     "name": "stdout",
     "output_type": "stream",
     "text": [
      "Best total value found: 1065.0\n",
      "Statistics over runs (n = 10):\n",
      "  Min: 926.00\n",
      "  Max: 1065.00\n",
      "  Mean: 1001.70\n",
      "  Std: 45.98\n",
      "Elapsed time: 0.0018 seconds\n"
     ]
    }
   ],
   "source": [
    "benchmarked_solution = benchmark_solution(find_first_solution, n_runs=10)"
   ]
  },
  {
   "cell_type": "code",
   "execution_count": 901,
   "id": "593c19b6",
   "metadata": {},
   "outputs": [],
   "source": [
    "# Shuffle random items between knapsacks\n",
    "def tweak_solution(original: Solution) -> Solution:\n",
    "    new_solution = copy.deepcopy(original)\n",
    "\n",
    "    running_totals = np.zeros((NUM_KNAPSACKS, NUM_DIMENSIONS), dtype=int)\n",
    "    for knapsack_i in range(NUM_KNAPSACKS):\n",
    "        running_totals[knapsack_i] += WEIGHTS[\n",
    "            list(new_solution.knapsacks[knapsack_i])\n",
    "        ].sum(axis=0)\n",
    "\n",
    "    # Decide how many items to tweak\n",
    "    n_tweaks = rng.integers(1, max(2, NUM_ITEMS // 20))\n",
    "\n",
    "    for _ in range(n_tweaks):\n",
    "        # Randomly choose an item to tweak\n",
    "        item = rng.integers(0, NUM_ITEMS)\n",
    "\n",
    "        # Find which knapsack currently contains the item (if any)\n",
    "        current_knapsack_i = None\n",
    "        for knapsack_i in range(NUM_KNAPSACKS):\n",
    "            if item in new_solution.knapsacks[knapsack_i]:\n",
    "                current_knapsack_i = knapsack_i\n",
    "                break\n",
    "\n",
    "        # Remove the item from its current knapsack (if any)\n",
    "        if current_knapsack_i is not None:\n",
    "            new_solution.knapsacks[current_knapsack_i].remove(item)\n",
    "            running_totals[current_knapsack_i] -= WEIGHTS[item]\n",
    "            new_solution.total_value -= VALUES[item]\n",
    "\n",
    "        # Try to add the item to a different knapsack\n",
    "        available_knapsacks = []\n",
    "        for knapsack_i in range(NUM_KNAPSACKS):\n",
    "            if knapsack_i != current_knapsack_i:\n",
    "                availability_after = CONSTRAINTS[knapsack_i] - (\n",
    "                    running_totals[knapsack_i] + WEIGHTS[item]\n",
    "                )\n",
    "                if (availability_after >= 0).all():\n",
    "                    available_knapsacks.append(knapsack_i)\n",
    "\n",
    "        if len(available_knapsacks) > 0:\n",
    "            chosen_knapsack_i = rng.choice(available_knapsacks)\n",
    "            new_solution.knapsacks[chosen_knapsack_i].add(item)\n",
    "            running_totals[chosen_knapsack_i] += WEIGHTS[item]\n",
    "            new_solution.total_value += VALUES[item]\n",
    "\n",
    "    return new_solution"
   ]
  },
  {
   "cell_type": "code",
   "execution_count": 902,
   "id": "3119adc1",
   "metadata": {},
   "outputs": [
    {
     "data": {
      "text/plain": [
       "np.int64(1013)"
      ]
     },
     "execution_count": 902,
     "metadata": {},
     "output_type": "execute_result"
    }
   ],
   "source": [
    "tweak_solution(benchmarked_solution).total_value"
   ]
  },
  {
   "cell_type": "code",
   "execution_count": 903,
   "id": "827e09ec",
   "metadata": {},
   "outputs": [],
   "source": [
    "def benchmark_tweak(\n",
    "    original: Solution,\n",
    "    tweak_function: Callable[[Solution], Solution],\n",
    "    n_runs: int = 10,\n",
    ") -> Solution:\n",
    "    start_time = time.time()\n",
    "\n",
    "    runs_points = np.zeros(n_runs)\n",
    "    best_solution = original\n",
    "\n",
    "    for run_i in range(n_runs):\n",
    "        solution = tweak_function(original)\n",
    "\n",
    "        runs_points[run_i] = solution.total_value\n",
    "        if solution.total_value > best_solution.total_value:\n",
    "            best_solution = solution\n",
    "\n",
    "    end_time = time.time()\n",
    "    avg_time = (end_time - start_time) / n_runs\n",
    "\n",
    "    print(\"Best total value found after tweak:\", max(runs_points))\n",
    "    # print(\"Best knapsacks found:\", best_knapsacks)\n",
    "\n",
    "    print(f\"Statistics over tweak runs (n = {n_runs}):\")\n",
    "    print(f\"  Min: {runs_points.min():.2f}\")\n",
    "    print(f\"  Max: {runs_points.max():.2f}\")\n",
    "    print(f\"  Mean: {runs_points.mean():.2f}\")\n",
    "    print(f\"  Std: {runs_points.std():.2f}\")\n",
    "    print(f\"Elapsed time: {(avg_time):.4f} seconds\")\n",
    "\n",
    "    return best_solution"
   ]
  },
  {
   "cell_type": "code",
   "execution_count": 904,
   "id": "12226119",
   "metadata": {},
   "outputs": [
    {
     "name": "stdout",
     "output_type": "stream",
     "text": [
      "Best total value found after tweak: 1053.0\n",
      "Statistics over tweak runs (n = 10):\n",
      "  Min: 980.00\n",
      "  Max: 1053.00\n",
      "  Mean: 1013.90\n",
      "  Std: 18.64\n",
      "Elapsed time: 0.0002 seconds\n"
     ]
    }
   ],
   "source": [
    "tweaked_solution = benchmark_tweak(benchmarked_solution, tweak_solution, n_runs=10)"
   ]
  },
  {
   "cell_type": "code",
   "execution_count": 905,
   "id": "c03b533b",
   "metadata": {},
   "outputs": [
    {
     "name": "stdout",
     "output_type": "stream",
     "text": [
      "Best total value found after tweak: 1065.0\n",
      "Statistics over tweak runs (n = 100):\n",
      "  Min: 968.00\n",
      "  Max: 1065.00\n",
      "  Mean: 1022.20\n",
      "  Std: 31.10\n",
      "Elapsed time: 0.0002 seconds\n"
     ]
    }
   ],
   "source": [
    "tweaked_solution = benchmark_tweak(tweaked_solution, tweak_solution, n_runs=100)"
   ]
  },
  {
   "cell_type": "code",
   "execution_count": 906,
   "id": "2733a440",
   "metadata": {},
   "outputs": [],
   "source": [
    "from tqdm import tqdm"
   ]
  },
  {
   "cell_type": "code",
   "execution_count": 910,
   "id": "451963eb",
   "metadata": {},
   "outputs": [
    {
     "name": "stderr",
     "output_type": "stream",
     "text": [
      "100%|██████████| 10/10 [00:00<00:00, 73.70it/s]"
     ]
    },
    {
     "name": "stdout",
     "output_type": "stream",
     "text": [
      "Best total value found after tweak: 1065.0\n",
      "Statistics over tweak runs (n = 100):\n",
      "  Min: 968.00\n",
      "  Max: 1065.00\n",
      "  Mean: 1021.58\n",
      "  Std: 32.84\n",
      "Elapsed time: 0.0001 seconds\n",
      "Best total value found after tweak: 1065.0\n",
      "Statistics over tweak runs (n = 100):\n",
      "  Min: 968.00\n",
      "  Max: 1065.00\n",
      "  Mean: 1023.13\n",
      "  Std: 32.60\n",
      "Elapsed time: 0.0001 seconds\n",
      "Best total value found after tweak: 1065.0\n",
      "Statistics over tweak runs (n = 100):\n",
      "  Min: 968.00\n",
      "  Max: 1065.00\n",
      "  Mean: 1025.49\n",
      "  Std: 32.69\n",
      "Elapsed time: 0.0001 seconds\n",
      "Best total value found after tweak: 1065.0\n",
      "Statistics over tweak runs (n = 100):\n",
      "  Min: 968.00\n",
      "  Max: 1065.00\n",
      "  Mean: 1021.84\n",
      "  Std: 31.69\n",
      "Elapsed time: 0.0002 seconds\n",
      "Best total value found after tweak: 1065.0\n",
      "Statistics over tweak runs (n = 100):\n",
      "  Min: 968.00\n",
      "  Max: 1065.00\n",
      "  Mean: 1022.30\n",
      "  Std: 31.69\n",
      "Elapsed time: 0.0001 seconds\n",
      "Best total value found after tweak: 1065.0\n",
      "Statistics over tweak runs (n = 100):\n",
      "  Min: 968.00\n",
      "  Max: 1065.00\n",
      "  Mean: 1024.58\n",
      "  Std: 32.78\n",
      "Elapsed time: 0.0001 seconds\n",
      "Best total value found after tweak: 1065.0\n",
      "Statistics over tweak runs (n = 100):\n",
      "  Min: 968.00\n",
      "  Max: 1065.00\n",
      "  Mean: 1024.00\n",
      "  Std: 31.71\n",
      "Elapsed time: 0.0001 seconds\n",
      "Best total value found after tweak: 1065.0\n",
      "Statistics over tweak runs (n = 100):\n",
      "  Min: 968.00\n",
      "  Max: 1065.00\n",
      "  Mean: 1017.85\n",
      "  Std: 32.14\n",
      "Elapsed time: 0.0001 seconds\n",
      "Best total value found after tweak: 1065.0\n",
      "Statistics over tweak runs (n = 100):\n",
      "  Min: 968.00\n",
      "  Max: 1065.00\n",
      "  Mean: 1028.85\n",
      "  Std: 32.10\n",
      "Elapsed time: 0.0001 seconds\n",
      "Best total value found after tweak: 1065.0\n",
      "Statistics over tweak runs (n = 100):\n",
      "  Min: 968.00\n",
      "  Max: 1065.00\n",
      "  Mean: 1020.02\n",
      "  Std: 32.52\n",
      "Elapsed time: 0.0001 seconds\n"
     ]
    },
    {
     "name": "stderr",
     "output_type": "stream",
     "text": [
      "\n"
     ]
    }
   ],
   "source": [
    "for _ in tqdm(range(10)):\n",
    "    tweaked_solution = benchmark_tweak(tweaked_solution, tweak_solution, n_runs=100)"
   ]
  },
  {
   "cell_type": "markdown",
   "id": "9a1a2779",
   "metadata": {},
   "source": [
    "## TEST PROBLEMS"
   ]
  },
  {
   "cell_type": "code",
   "execution_count": 908,
   "id": "0cd477f5",
   "metadata": {},
   "outputs": [],
   "source": [
    "# Problem 1:\n",
    "rng = np.random.default_rng(seed=42)\n",
    "NUM_KNAPSACKS = 3\n",
    "NUM_ITEMS = 20\n",
    "NUM_DIMENSIONS = 2\n",
    "VALUES = rng.integers(0, 100, size=NUM_ITEMS)\n",
    "WEIGHTS = rng.integers(0, 100, size=(NUM_ITEMS, NUM_DIMENSIONS))\n",
    "CONSTRAINTS = rng.integers(\n",
    "    0, 100 * NUM_ITEMS // NUM_KNAPSACKS, size=(NUM_KNAPSACKS, NUM_DIMENSIONS)\n",
    ")"
   ]
  },
  {
   "cell_type": "code",
   "execution_count": null,
   "id": "7645c481",
   "metadata": {},
   "outputs": [
    {
     "name": "stdout",
     "output_type": "stream",
     "text": [
      "Best total value found: 1065.0\n",
      "Statistics over runs (n = 100):\n",
      "  Min: 807.00\n",
      "  Max: 1065.00\n",
      "  Mean: 983.10\n",
      "  Std: 59.37\n",
      "Elapsed time: 0.0013 seconds\n"
     ]
    },
    {
     "name": "stderr",
     "output_type": "stream",
     "text": [
      "100%|██████████| 10/10 [00:00<00:00, 81.17it/s]"
     ]
    },
    {
     "name": "stdout",
     "output_type": "stream",
     "text": [
      "Best total value found after tweak: 1065.0\n",
      "Statistics over tweak runs (n = 100):\n",
      "  Min: 968.00\n",
      "  Max: 1065.00\n",
      "  Mean: 1008.91\n",
      "  Std: 25.91\n",
      "Elapsed time: 0.0001 seconds\n",
      "Best total value found after tweak: 1065.0\n",
      "Statistics over tweak runs (n = 100):\n",
      "  Min: 968.00\n",
      "  Max: 1065.00\n",
      "  Mean: 1011.48\n",
      "  Std: 28.22\n",
      "Elapsed time: 0.0001 seconds\n",
      "Best total value found after tweak: 1065.0\n",
      "Statistics over tweak runs (n = 100):\n",
      "  Min: 968.00\n",
      "  Max: 1065.00\n",
      "  Mean: 1015.29\n",
      "  Std: 29.51\n",
      "Elapsed time: 0.0001 seconds\n",
      "Best total value found after tweak: 1065.0\n",
      "Statistics over tweak runs (n = 100):\n",
      "  Min: 968.00\n",
      "  Max: 1065.00\n",
      "  Mean: 1013.64\n",
      "  Std: 30.83\n",
      "Elapsed time: 0.0001 seconds\n",
      "Best total value found after tweak: 1065.0\n",
      "Statistics over tweak runs (n = 100):\n",
      "  Min: 968.00\n",
      "  Max: 1065.00\n",
      "  Mean: 1011.02\n",
      "  Std: 26.21\n",
      "Elapsed time: 0.0001 seconds\n",
      "Best total value found after tweak: 1065.0\n",
      "Statistics over tweak runs (n = 100):\n",
      "  Min: 968.00\n",
      "  Max: 1065.00\n",
      "  Mean: 1010.77\n",
      "  Std: 27.45\n",
      "Elapsed time: 0.0001 seconds\n",
      "Best total value found after tweak: 1065.0\n",
      "Statistics over tweak runs (n = 100):\n",
      "  Min: 968.00\n",
      "  Max: 1065.00\n",
      "  Mean: 1005.53\n",
      "  Std: 25.41\n",
      "Elapsed time: 0.0001 seconds\n",
      "Best total value found after tweak: 1065.0\n",
      "Statistics over tweak runs (n = 100):\n",
      "  Min: 968.00\n",
      "  Max: 1065.00\n",
      "  Mean: 1008.72\n",
      "  Std: 29.09\n",
      "Elapsed time: 0.0001 seconds\n",
      "Best total value found after tweak: 1065.0\n",
      "Statistics over tweak runs (n = 100):\n",
      "  Min: 968.00\n",
      "  Max: 1065.00\n",
      "  Mean: 1018.11\n",
      "  Std: 30.26\n",
      "Elapsed time: 0.0001 seconds\n",
      "Best total value found after tweak: 1065.0\n",
      "Statistics over tweak runs (n = 100):\n",
      "  Min: 968.00\n",
      "  Max: 1065.00\n",
      "  Mean: 1014.16\n",
      "  Std: 30.14\n",
      "Elapsed time: 0.0001 seconds\n",
      "1065\n"
     ]
    },
    {
     "name": "stderr",
     "output_type": "stream",
     "text": [
      "\n"
     ]
    }
   ],
   "source": [
    "first_solution = benchmark_solution(find_first_solution, n_runs=100)\n",
    "first_solution.total_value\n",
    "tweaked_solution = first_solution\n",
    "for _ in tqdm(range(10)):\n",
    "    tweaked_solution = benchmark_tweak(tweaked_solution, tweak_solution, n_runs=100)\n",
    "print(tweaked_solution.total_value)"
   ]
  },
  {
   "cell_type": "code",
   "execution_count": 912,
   "id": "9eed08a0",
   "metadata": {},
   "outputs": [],
   "source": [
    "# Problem 2:\n",
    "rng = np.random.default_rng(seed=42)\n",
    "NUM_KNAPSACKS = 10\n",
    "NUM_ITEMS = 100\n",
    "NUM_DIMENSIONS = 10\n",
    "VALUES = rng.integers(0, 1000, size=NUM_ITEMS)\n",
    "WEIGHTS = rng.integers(0, 1000, size=(NUM_ITEMS, NUM_DIMENSIONS))\n",
    "CONSTRAINTS = rng.integers(\n",
    "    1000 * 2, 1000 * NUM_ITEMS // NUM_KNAPSACKS, size=(NUM_KNAPSACKS, NUM_DIMENSIONS)\n",
    ")"
   ]
  },
  {
   "cell_type": "code",
   "execution_count": 918,
   "id": "20425eb6",
   "metadata": {},
   "outputs": [
    {
     "name": "stdout",
     "output_type": "stream",
     "text": [
      "Best total value found: 38784.0\n",
      "Statistics over runs (n = 1000):\n",
      "  Min: 28950.00\n",
      "  Max: 38784.00\n",
      "  Mean: 34313.93\n",
      "  Std: 1696.01\n",
      "Elapsed time: 0.0065 seconds\n"
     ]
    },
    {
     "name": "stderr",
     "output_type": "stream",
     "text": [
      "  0%|          | 1/250 [00:00<00:26,  9.39it/s]"
     ]
    },
    {
     "name": "stdout",
     "output_type": "stream",
     "text": [
      "Best total value found after tweak: 39614.0\n",
      "Statistics over tweak runs (n = 250):\n",
      "  Min: 36024.00\n",
      "  Max: 39614.00\n",
      "  Mean: 38056.77\n",
      "  Std: 586.69\n",
      "Elapsed time: 0.0004 seconds\n"
     ]
    },
    {
     "name": "stderr",
     "output_type": "stream",
     "text": [
      "  1%|          | 2/250 [00:00<00:26,  9.50it/s]"
     ]
    },
    {
     "name": "stdout",
     "output_type": "stream",
     "text": [
      "Best total value found after tweak: 40052.0\n",
      "Statistics over tweak runs (n = 250):\n",
      "  Min: 36959.00\n",
      "  Max: 40052.00\n",
      "  Mean: 38812.77\n",
      "  Std: 631.82\n",
      "Elapsed time: 0.0004 seconds\n",
      "Best total value found after tweak: 40501.0\n",
      "Statistics over tweak runs (n = 250):\n",
      "  Min: 36824.00\n",
      "  Max: 40501.00\n",
      "  Mean: 39248.77\n",
      "  Std: 612.27\n",
      "Elapsed time: 0.0004 seconds\n"
     ]
    },
    {
     "name": "stderr",
     "output_type": "stream",
     "text": [
      "  2%|▏         | 4/250 [00:00<00:25,  9.52it/s]"
     ]
    },
    {
     "name": "stdout",
     "output_type": "stream",
     "text": [
      "Best total value found after tweak: 40625.0\n",
      "Statistics over tweak runs (n = 250):\n",
      "  Min: 37783.00\n",
      "  Max: 40625.00\n",
      "  Mean: 39733.54\n",
      "  Std: 608.77\n",
      "Elapsed time: 0.0004 seconds\n"
     ]
    },
    {
     "name": "stderr",
     "output_type": "stream",
     "text": [
      "  2%|▏         | 6/250 [00:00<00:25,  9.65it/s]"
     ]
    },
    {
     "name": "stdout",
     "output_type": "stream",
     "text": [
      "Best total value found after tweak: 41454.0\n",
      "Statistics over tweak runs (n = 250):\n",
      "  Min: 38346.00\n",
      "  Max: 41454.00\n",
      "  Mean: 39960.10\n",
      "  Std: 559.04\n",
      "Elapsed time: 0.0004 seconds\n",
      "Best total value found after tweak: 42104.0\n",
      "Statistics over tweak runs (n = 250):\n",
      "  Min: 38902.00\n",
      "  Max: 42104.00\n",
      "  Mean: 40737.03\n",
      "  Std: 572.70\n",
      "Elapsed time: 0.0004 seconds\n"
     ]
    },
    {
     "name": "stderr",
     "output_type": "stream",
     "text": [
      "  4%|▎         | 9/250 [00:00<00:25,  9.48it/s]"
     ]
    },
    {
     "name": "stdout",
     "output_type": "stream",
     "text": [
      "Best total value found after tweak: 42862.0\n",
      "Statistics over tweak runs (n = 250):\n",
      "  Min: 39426.00\n",
      "  Max: 42862.00\n",
      "  Mean: 41388.78\n",
      "  Std: 604.42\n",
      "Elapsed time: 0.0004 seconds\n",
      "Best total value found after tweak: 43128.0\n",
      "Statistics over tweak runs (n = 250):\n",
      "  Min: 40620.00\n",
      "  Max: 43128.00\n",
      "  Mean: 42101.90\n",
      "  Std: 551.17\n",
      "Elapsed time: 0.0004 seconds\n",
      "Best total value found after tweak: 43923.0\n",
      "Statistics over tweak runs (n = 250):\n",
      "  Min: 40722.00\n",
      "  Max: 43923.00\n",
      "  Mean: 42565.74\n",
      "  Std: 540.84\n",
      "Elapsed time: 0.0004 seconds\n"
     ]
    },
    {
     "name": "stderr",
     "output_type": "stream",
     "text": [
      "  4%|▍         | 11/250 [00:01<00:25,  9.32it/s]"
     ]
    },
    {
     "name": "stdout",
     "output_type": "stream",
     "text": [
      "Best total value found after tweak: 44414.0\n",
      "Statistics over tweak runs (n = 250):\n",
      "  Min: 40767.00\n",
      "  Max: 44414.00\n",
      "  Mean: 43011.44\n",
      "  Std: 629.36\n",
      "Elapsed time: 0.0004 seconds\n",
      "Best total value found after tweak: 44779.0\n",
      "Statistics over tweak runs (n = 250):\n",
      "  Min: 41977.00\n",
      "  Max: 44779.00\n",
      "  Mean: 43729.87\n",
      "  Std: 611.45\n",
      "Elapsed time: 0.0004 seconds\n"
     ]
    },
    {
     "name": "stderr",
     "output_type": "stream",
     "text": [
      "  5%|▌         | 13/250 [00:01<00:26,  9.00it/s]"
     ]
    },
    {
     "name": "stdout",
     "output_type": "stream",
     "text": [
      "Best total value found after tweak: 45276.0\n",
      "Statistics over tweak runs (n = 250):\n",
      "  Min: 42437.00\n",
      "  Max: 45276.00\n",
      "  Mean: 44104.53\n",
      "  Std: 518.33\n",
      "Elapsed time: 0.0004 seconds\n",
      "Best total value found after tweak: 45404.0\n",
      "Statistics over tweak runs (n = 250):\n",
      "  Min: 42433.00\n",
      "  Max: 45404.00\n",
      "  Mean: 44308.13\n",
      "  Std: 640.40\n",
      "Elapsed time: 0.0005 seconds\n"
     ]
    },
    {
     "name": "stderr",
     "output_type": "stream",
     "text": [
      "  6%|▌         | 15/250 [00:01<00:26,  9.03it/s]"
     ]
    },
    {
     "name": "stdout",
     "output_type": "stream",
     "text": [
      "Best total value found after tweak: 45404.0\n",
      "Statistics over tweak runs (n = 250):\n",
      "  Min: 42737.00\n",
      "  Max: 45404.00\n",
      "  Mean: 44494.58\n",
      "  Std: 599.83\n",
      "Elapsed time: 0.0004 seconds\n",
      "Best total value found after tweak: 45404.0\n",
      "Statistics over tweak runs (n = 250):\n",
      "  Min: 42881.00\n",
      "  Max: 45404.00\n",
      "  Mean: 44414.88\n",
      "  Std: 567.98\n",
      "Elapsed time: 0.0005 seconds\n"
     ]
    },
    {
     "name": "stderr",
     "output_type": "stream",
     "text": [
      "  7%|▋         | 17/250 [00:01<00:25,  9.08it/s]"
     ]
    },
    {
     "name": "stdout",
     "output_type": "stream",
     "text": [
      "Best total value found after tweak: 45549.0\n",
      "Statistics over tweak runs (n = 250):\n",
      "  Min: 42002.00\n",
      "  Max: 45549.00\n",
      "  Mean: 44485.44\n",
      "  Std: 589.33\n",
      "Elapsed time: 0.0004 seconds\n",
      "Best total value found after tweak: 45580.0\n",
      "Statistics over tweak runs (n = 250):\n",
      "  Min: 42753.00\n",
      "  Max: 45580.00\n",
      "  Mean: 44626.97\n",
      "  Std: 609.02\n",
      "Elapsed time: 0.0004 seconds\n"
     ]
    },
    {
     "name": "stderr",
     "output_type": "stream",
     "text": [
      "  8%|▊         | 19/250 [00:02<00:27,  8.46it/s]"
     ]
    },
    {
     "name": "stdout",
     "output_type": "stream",
     "text": [
      "Best total value found after tweak: 46304.0\n",
      "Statistics over tweak runs (n = 250):\n",
      "  Min: 43098.00\n",
      "  Max: 46304.00\n",
      "  Mean: 44889.82\n",
      "  Std: 577.85\n",
      "Elapsed time: 0.0005 seconds\n",
      "Best total value found after tweak: 46304.0\n",
      "Statistics over tweak runs (n = 250):\n",
      "  Min: 43693.00\n",
      "  Max: 46304.00\n",
      "  Mean: 45425.23\n",
      "  Std: 560.35\n",
      "Elapsed time: 0.0005 seconds\n"
     ]
    },
    {
     "name": "stderr",
     "output_type": "stream",
     "text": [
      "  8%|▊         | 21/250 [00:02<00:26,  8.56it/s]"
     ]
    },
    {
     "name": "stdout",
     "output_type": "stream",
     "text": [
      "Best total value found after tweak: 46304.0\n",
      "Statistics over tweak runs (n = 250):\n",
      "  Min: 43571.00\n",
      "  Max: 46304.00\n",
      "  Mean: 45443.76\n",
      "  Std: 558.85\n",
      "Elapsed time: 0.0004 seconds\n",
      "Best total value found after tweak: 46592.0\n",
      "Statistics over tweak runs (n = 250):\n",
      "  Min: 43980.00\n",
      "  Max: 46592.00\n",
      "  Mean: 45415.09\n",
      "  Std: 530.23\n",
      "Elapsed time: 0.0005 seconds\n"
     ]
    },
    {
     "name": "stderr",
     "output_type": "stream",
     "text": [
      "  9%|▉         | 23/250 [00:02<00:25,  8.78it/s]"
     ]
    },
    {
     "name": "stdout",
     "output_type": "stream",
     "text": [
      "Best total value found after tweak: 46592.0\n",
      "Statistics over tweak runs (n = 250):\n",
      "  Min: 43919.00\n",
      "  Max: 46592.00\n",
      "  Mean: 45781.15\n",
      "  Std: 595.69\n",
      "Elapsed time: 0.0004 seconds\n",
      "Best total value found after tweak: 47030.0\n",
      "Statistics over tweak runs (n = 250):\n",
      "  Min: 44191.00\n",
      "  Max: 47030.00\n",
      "  Mean: 45858.52\n",
      "  Std: 513.51\n",
      "Elapsed time: 0.0004 seconds\n"
     ]
    },
    {
     "name": "stderr",
     "output_type": "stream",
     "text": [
      " 10%|█         | 25/250 [00:02<00:24,  9.02it/s]"
     ]
    },
    {
     "name": "stdout",
     "output_type": "stream",
     "text": [
      "Best total value found after tweak: 47499.0\n",
      "Statistics over tweak runs (n = 250):\n",
      "  Min: 44062.00\n",
      "  Max: 47499.00\n",
      "  Mean: 46062.24\n",
      "  Std: 647.23\n",
      "Elapsed time: 0.0004 seconds\n",
      "Best total value found after tweak: 47734.0\n",
      "Statistics over tweak runs (n = 250):\n",
      "  Min: 44376.00\n",
      "  Max: 47734.00\n",
      "  Mean: 46506.49\n",
      "  Std: 641.99\n",
      "Elapsed time: 0.0004 seconds\n"
     ]
    },
    {
     "name": "stderr",
     "output_type": "stream",
     "text": [
      " 11%|█         | 27/250 [00:02<00:24,  9.10it/s]"
     ]
    },
    {
     "name": "stdout",
     "output_type": "stream",
     "text": [
      "Best total value found after tweak: 48057.0\n",
      "Statistics over tweak runs (n = 250):\n",
      "  Min: 44993.00\n",
      "  Max: 48057.00\n",
      "  Mean: 46768.70\n",
      "  Std: 597.37\n",
      "Elapsed time: 0.0004 seconds\n",
      "Best total value found after tweak: 48133.0\n",
      "Statistics over tweak runs (n = 250):\n",
      "  Min: 45595.00\n",
      "  Max: 48133.00\n",
      "  Mean: 47092.04\n",
      "  Std: 636.33\n",
      "Elapsed time: 0.0004 seconds\n"
     ]
    },
    {
     "name": "stderr",
     "output_type": "stream",
     "text": [
      " 12%|█▏        | 29/250 [00:03<00:24,  9.00it/s]"
     ]
    },
    {
     "name": "stdout",
     "output_type": "stream",
     "text": [
      "Best total value found after tweak: 48133.0\n",
      "Statistics over tweak runs (n = 250):\n",
      "  Min: 44714.00\n",
      "  Max: 48133.00\n",
      "  Mean: 47103.53\n",
      "  Std: 633.69\n",
      "Elapsed time: 0.0004 seconds\n",
      "Best total value found after tweak: 48133.0\n",
      "Statistics over tweak runs (n = 250):\n",
      "  Min: 44753.00\n",
      "  Max: 48133.00\n",
      "  Mean: 47075.85\n",
      "  Std: 635.42\n",
      "Elapsed time: 0.0005 seconds\n"
     ]
    },
    {
     "name": "stderr",
     "output_type": "stream",
     "text": [
      " 12%|█▏        | 31/250 [00:03<00:24,  9.00it/s]"
     ]
    },
    {
     "name": "stdout",
     "output_type": "stream",
     "text": [
      "Best total value found after tweak: 48133.0\n",
      "Statistics over tweak runs (n = 250):\n",
      "  Min: 44634.00\n",
      "  Max: 48133.00\n",
      "  Mean: 47052.53\n",
      "  Std: 663.77\n",
      "Elapsed time: 0.0004 seconds\n",
      "Best total value found after tweak: 48133.0\n",
      "Statistics over tweak runs (n = 250):\n",
      "  Min: 45009.00\n",
      "  Max: 48133.00\n",
      "  Mean: 47090.64\n",
      "  Std: 642.72\n",
      "Elapsed time: 0.0004 seconds\n"
     ]
    },
    {
     "name": "stderr",
     "output_type": "stream",
     "text": [
      " 13%|█▎        | 33/250 [00:03<00:23,  9.10it/s]"
     ]
    },
    {
     "name": "stdout",
     "output_type": "stream",
     "text": [
      "Best total value found after tweak: 48234.0\n",
      "Statistics over tweak runs (n = 250):\n",
      "  Min: 44861.00\n",
      "  Max: 48234.00\n",
      "  Mean: 47138.16\n",
      "  Std: 635.87\n",
      "Elapsed time: 0.0004 seconds\n",
      "Best total value found after tweak: 48234.0\n",
      "Statistics over tweak runs (n = 250):\n",
      "  Min: 45215.00\n",
      "  Max: 48234.00\n",
      "  Mean: 47246.29\n",
      "  Std: 658.87\n",
      "Elapsed time: 0.0004 seconds\n"
     ]
    },
    {
     "name": "stderr",
     "output_type": "stream",
     "text": [
      " 14%|█▍        | 35/250 [00:03<00:23,  9.13it/s]"
     ]
    },
    {
     "name": "stdout",
     "output_type": "stream",
     "text": [
      "Best total value found after tweak: 48234.0\n",
      "Statistics over tweak runs (n = 250):\n",
      "  Min: 45326.00\n",
      "  Max: 48234.00\n",
      "  Mean: 47198.43\n",
      "  Std: 672.29\n",
      "Elapsed time: 0.0004 seconds\n",
      "Best total value found after tweak: 48234.0\n",
      "Statistics over tweak runs (n = 250):\n",
      "  Min: 45260.00\n",
      "  Max: 48234.00\n",
      "  Mean: 47130.18\n",
      "  Std: 723.57\n",
      "Elapsed time: 0.0004 seconds\n"
     ]
    },
    {
     "name": "stderr",
     "output_type": "stream",
     "text": [
      " 15%|█▍        | 37/250 [00:04<00:24,  8.77it/s]"
     ]
    },
    {
     "name": "stdout",
     "output_type": "stream",
     "text": [
      "Best total value found after tweak: 48234.0\n",
      "Statistics over tweak runs (n = 250):\n",
      "  Min: 45313.00\n",
      "  Max: 48234.00\n",
      "  Mean: 47206.27\n",
      "  Std: 623.80\n",
      "Elapsed time: 0.0004 seconds\n",
      "Best total value found after tweak: 48234.0\n",
      "Statistics over tweak runs (n = 250):\n",
      "  Min: 45011.00\n",
      "  Max: 48234.00\n",
      "  Mean: 47228.60\n",
      "  Std: 649.83\n",
      "Elapsed time: 0.0005 seconds\n"
     ]
    },
    {
     "name": "stderr",
     "output_type": "stream",
     "text": [
      " 16%|█▌        | 39/250 [00:04<00:23,  8.88it/s]"
     ]
    },
    {
     "name": "stdout",
     "output_type": "stream",
     "text": [
      "Best total value found after tweak: 48472.0\n",
      "Statistics over tweak runs (n = 250):\n",
      "  Min: 44767.00\n",
      "  Max: 48472.00\n",
      "  Mean: 47099.13\n",
      "  Std: 685.25\n",
      "Elapsed time: 0.0005 seconds\n",
      "Best total value found after tweak: 48472.0\n",
      "Statistics over tweak runs (n = 250):\n",
      "  Min: 45087.00\n",
      "  Max: 48472.00\n",
      "  Mean: 47460.75\n",
      "  Std: 630.90\n",
      "Elapsed time: 0.0004 seconds\n"
     ]
    },
    {
     "name": "stderr",
     "output_type": "stream",
     "text": [
      " 16%|█▋        | 41/250 [00:04<00:23,  8.94it/s]"
     ]
    },
    {
     "name": "stdout",
     "output_type": "stream",
     "text": [
      "Best total value found after tweak: 48586.0\n",
      "Statistics over tweak runs (n = 250):\n",
      "  Min: 45910.00\n",
      "  Max: 48586.00\n",
      "  Mean: 47523.25\n",
      "  Std: 579.87\n",
      "Elapsed time: 0.0004 seconds\n",
      "Best total value found after tweak: 48662.0\n",
      "Statistics over tweak runs (n = 250):\n",
      "  Min: 45813.00\n",
      "  Max: 48662.00\n",
      "  Mean: 47597.24\n",
      "  Std: 618.44\n",
      "Elapsed time: 0.0005 seconds\n"
     ]
    },
    {
     "name": "stderr",
     "output_type": "stream",
     "text": [
      " 17%|█▋        | 43/250 [00:04<00:22,  9.19it/s]"
     ]
    },
    {
     "name": "stdout",
     "output_type": "stream",
     "text": [
      "Best total value found after tweak: 48662.0\n",
      "Statistics over tweak runs (n = 250):\n",
      "  Min: 45749.00\n",
      "  Max: 48662.00\n",
      "  Mean: 47610.59\n",
      "  Std: 680.23\n",
      "Elapsed time: 0.0004 seconds\n",
      "Best total value found after tweak: 48827.0\n",
      "Statistics over tweak runs (n = 250):\n",
      "  Min: 45670.00\n",
      "  Max: 48827.00\n",
      "  Mean: 47606.45\n",
      "  Std: 648.25\n",
      "Elapsed time: 0.0004 seconds\n"
     ]
    },
    {
     "name": "stderr",
     "output_type": "stream",
     "text": [
      " 18%|█▊        | 45/250 [00:04<00:22,  9.13it/s]"
     ]
    },
    {
     "name": "stdout",
     "output_type": "stream",
     "text": [
      "Best total value found after tweak: 49009.0\n",
      "Statistics over tweak runs (n = 250):\n",
      "  Min: 46467.00\n",
      "  Max: 49009.00\n",
      "  Mean: 48004.66\n",
      "  Std: 552.97\n",
      "Elapsed time: 0.0004 seconds\n",
      "Best total value found after tweak: 49009.0\n",
      "Statistics over tweak runs (n = 250):\n",
      "  Min: 46632.00\n",
      "  Max: 49009.00\n",
      "  Mean: 48116.02\n",
      "  Std: 558.93\n",
      "Elapsed time: 0.0004 seconds\n"
     ]
    },
    {
     "name": "stderr",
     "output_type": "stream",
     "text": [
      " 19%|█▉        | 47/250 [00:05<00:22,  9.13it/s]"
     ]
    },
    {
     "name": "stdout",
     "output_type": "stream",
     "text": [
      "Best total value found after tweak: 49009.0\n",
      "Statistics over tweak runs (n = 250):\n",
      "  Min: 46141.00\n",
      "  Max: 49009.00\n",
      "  Mean: 48015.90\n",
      "  Std: 569.95\n",
      "Elapsed time: 0.0004 seconds\n",
      "Best total value found after tweak: 49072.0\n",
      "Statistics over tweak runs (n = 250):\n",
      "  Min: 46613.00\n",
      "  Max: 49072.00\n",
      "  Mean: 48037.68\n",
      "  Std: 597.55\n",
      "Elapsed time: 0.0004 seconds\n"
     ]
    },
    {
     "name": "stderr",
     "output_type": "stream",
     "text": [
      " 20%|██        | 50/250 [00:05<00:21,  9.24it/s]"
     ]
    },
    {
     "name": "stdout",
     "output_type": "stream",
     "text": [
      "Best total value found after tweak: 49072.0\n",
      "Statistics over tweak runs (n = 250):\n",
      "  Min: 46470.00\n",
      "  Max: 49072.00\n",
      "  Mean: 48019.58\n",
      "  Std: 618.42\n",
      "Elapsed time: 0.0004 seconds\n",
      "Best total value found after tweak: 49072.0\n",
      "Statistics over tweak runs (n = 250):\n",
      "  Min: 45846.00\n",
      "  Max: 49072.00\n",
      "  Mean: 48073.16\n",
      "  Std: 646.59\n",
      "Elapsed time: 0.0004 seconds\n",
      "Best total value found after tweak: 49123.0\n",
      "Statistics over tweak runs (n = 250):\n",
      "  Min: 45798.00\n",
      "  Max: 49123.00\n",
      "  Mean: 47998.83\n",
      "  Std: 680.95\n",
      "Elapsed time: 0.0004 seconds\n"
     ]
    },
    {
     "name": "stderr",
     "output_type": "stream",
     "text": [
      " 21%|██        | 52/250 [00:05<00:21,  9.00it/s]"
     ]
    },
    {
     "name": "stdout",
     "output_type": "stream",
     "text": [
      "Best total value found after tweak: 49123.0\n",
      "Statistics over tweak runs (n = 250):\n",
      "  Min: 45965.00\n",
      "  Max: 49123.00\n",
      "  Mean: 48107.18\n",
      "  Std: 591.54\n",
      "Elapsed time: 0.0005 seconds\n",
      "Best total value found after tweak: 49123.0\n",
      "Statistics over tweak runs (n = 250):\n",
      "  Min: 45942.00\n",
      "  Max: 49123.00\n",
      "  Mean: 48118.90\n",
      "  Std: 621.53\n",
      "Elapsed time: 0.0004 seconds\n"
     ]
    },
    {
     "name": "stderr",
     "output_type": "stream",
     "text": [
      " 22%|██▏       | 54/250 [00:05<00:21,  9.18it/s]"
     ]
    },
    {
     "name": "stdout",
     "output_type": "stream",
     "text": [
      "Best total value found after tweak: 49123.0\n",
      "Statistics over tweak runs (n = 250):\n",
      "  Min: 46307.00\n",
      "  Max: 49123.00\n",
      "  Mean: 48162.10\n",
      "  Std: 611.73\n",
      "Elapsed time: 0.0004 seconds\n",
      "Best total value found after tweak: 49123.0\n",
      "Statistics over tweak runs (n = 250):\n",
      "  Min: 46586.00\n",
      "  Max: 49123.00\n",
      "  Mean: 48144.16\n",
      "  Std: 605.31\n",
      "Elapsed time: 0.0004 seconds\n"
     ]
    },
    {
     "name": "stderr",
     "output_type": "stream",
     "text": [
      " 22%|██▏       | 56/250 [00:06<00:20,  9.26it/s]"
     ]
    },
    {
     "name": "stdout",
     "output_type": "stream",
     "text": [
      "Best total value found after tweak: 49123.0\n",
      "Statistics over tweak runs (n = 250):\n",
      "  Min: 45917.00\n",
      "  Max: 49123.00\n",
      "  Mean: 48099.78\n",
      "  Std: 658.77\n",
      "Elapsed time: 0.0004 seconds\n",
      "Best total value found after tweak: 49123.0\n",
      "Statistics over tweak runs (n = 250):\n",
      "  Min: 46538.00\n",
      "  Max: 49123.00\n",
      "  Mean: 48116.52\n",
      "  Std: 573.69\n",
      "Elapsed time: 0.0004 seconds\n",
      "Best total value found after tweak: 49123.0\n",
      "Statistics over tweak runs (n = 250):\n",
      "  Min: 46206.00\n",
      "  Max: 49123.00\n",
      "  Mean: 48126.14\n",
      "  Std: 590.02\n",
      "Elapsed time: 0.0004 seconds\n"
     ]
    },
    {
     "name": "stderr",
     "output_type": "stream",
     "text": [
      " 24%|██▎       | 59/250 [00:06<00:20,  9.24it/s]"
     ]
    },
    {
     "name": "stdout",
     "output_type": "stream",
     "text": [
      "Best total value found after tweak: 49123.0\n",
      "Statistics over tweak runs (n = 250):\n",
      "  Min: 45798.00\n",
      "  Max: 49123.00\n",
      "  Mean: 48092.59\n",
      "  Std: 705.51\n",
      "Elapsed time: 0.0004 seconds\n",
      "Best total value found after tweak: 49306.0\n",
      "Statistics over tweak runs (n = 250):\n",
      "  Min: 45969.00\n",
      "  Max: 49306.00\n",
      "  Mean: 48176.01\n",
      "  Std: 622.43\n",
      "Elapsed time: 0.0004 seconds\n"
     ]
    },
    {
     "name": "stderr",
     "output_type": "stream",
     "text": [
      " 24%|██▍       | 61/250 [00:06<00:20,  9.15it/s]"
     ]
    },
    {
     "name": "stdout",
     "output_type": "stream",
     "text": [
      "Best total value found after tweak: 49306.0\n",
      "Statistics over tweak runs (n = 250):\n",
      "  Min: 46016.00\n",
      "  Max: 49306.00\n",
      "  Mean: 48251.60\n",
      "  Std: 642.38\n",
      "Elapsed time: 0.0004 seconds\n",
      "Best total value found after tweak: 49306.0\n",
      "Statistics over tweak runs (n = 250):\n",
      "  Min: 46709.00\n",
      "  Max: 49306.00\n",
      "  Mean: 48177.86\n",
      "  Std: 643.80\n",
      "Elapsed time: 0.0004 seconds\n"
     ]
    },
    {
     "name": "stderr",
     "output_type": "stream",
     "text": [
      " 25%|██▌       | 63/250 [00:06<00:20,  9.10it/s]"
     ]
    },
    {
     "name": "stdout",
     "output_type": "stream",
     "text": [
      "Best total value found after tweak: 49306.0\n",
      "Statistics over tweak runs (n = 250):\n",
      "  Min: 46313.00\n",
      "  Max: 49306.00\n",
      "  Mean: 48212.28\n",
      "  Std: 632.99\n",
      "Elapsed time: 0.0004 seconds\n",
      "Best total value found after tweak: 49306.0\n",
      "Statistics over tweak runs (n = 250):\n",
      "  Min: 46025.00\n",
      "  Max: 49306.00\n",
      "  Mean: 48161.06\n",
      "  Std: 686.71\n",
      "Elapsed time: 0.0004 seconds\n"
     ]
    },
    {
     "name": "stderr",
     "output_type": "stream",
     "text": [
      " 26%|██▌       | 65/250 [00:07<00:20,  9.11it/s]"
     ]
    },
    {
     "name": "stdout",
     "output_type": "stream",
     "text": [
      "Best total value found after tweak: 49306.0\n",
      "Statistics over tweak runs (n = 250):\n",
      "  Min: 46329.00\n",
      "  Max: 49306.00\n",
      "  Mean: 48291.61\n",
      "  Std: 634.26\n",
      "Elapsed time: 0.0004 seconds\n",
      "Best total value found after tweak: 49306.0\n",
      "Statistics over tweak runs (n = 250):\n",
      "  Min: 46557.00\n",
      "  Max: 49306.00\n",
      "  Mean: 48184.26\n",
      "  Std: 586.57\n",
      "Elapsed time: 0.0004 seconds\n"
     ]
    },
    {
     "name": "stderr",
     "output_type": "stream",
     "text": [
      " 27%|██▋       | 67/250 [00:07<00:20,  8.78it/s]"
     ]
    },
    {
     "name": "stdout",
     "output_type": "stream",
     "text": [
      "Best total value found after tweak: 49306.0\n",
      "Statistics over tweak runs (n = 250):\n",
      "  Min: 46438.00\n",
      "  Max: 49306.00\n",
      "  Mean: 48214.37\n",
      "  Std: 640.07\n",
      "Elapsed time: 0.0004 seconds\n",
      "Best total value found after tweak: 49306.0\n",
      "Statistics over tweak runs (n = 250):\n",
      "  Min: 46302.00\n",
      "  Max: 49306.00\n",
      "  Mean: 48241.92\n",
      "  Std: 631.05\n",
      "Elapsed time: 0.0005 seconds\n"
     ]
    },
    {
     "name": "stderr",
     "output_type": "stream",
     "text": [
      " 28%|██▊       | 69/250 [00:07<00:20,  8.90it/s]"
     ]
    },
    {
     "name": "stdout",
     "output_type": "stream",
     "text": [
      "Best total value found after tweak: 49306.0\n",
      "Statistics over tweak runs (n = 250):\n",
      "  Min: 46151.00\n",
      "  Max: 49306.00\n",
      "  Mean: 48161.07\n",
      "  Std: 649.07\n",
      "Elapsed time: 0.0004 seconds\n",
      "Best total value found after tweak: 49306.0\n",
      "Statistics over tweak runs (n = 250):\n",
      "  Min: 45929.00\n",
      "  Max: 49306.00\n",
      "  Mean: 48286.15\n",
      "  Std: 638.98\n",
      "Elapsed time: 0.0004 seconds\n"
     ]
    },
    {
     "name": "stderr",
     "output_type": "stream",
     "text": [
      " 28%|██▊       | 71/250 [00:07<00:19,  9.01it/s]"
     ]
    },
    {
     "name": "stdout",
     "output_type": "stream",
     "text": [
      "Best total value found after tweak: 49306.0\n",
      "Statistics over tweak runs (n = 250):\n",
      "  Min: 46119.00\n",
      "  Max: 49306.00\n",
      "  Mean: 48171.78\n",
      "  Std: 701.95\n",
      "Elapsed time: 0.0004 seconds\n",
      "Best total value found after tweak: 49306.0\n",
      "Statistics over tweak runs (n = 250):\n",
      "  Min: 46185.00\n",
      "  Max: 49306.00\n",
      "  Mean: 48207.50\n",
      "  Std: 628.31\n",
      "Elapsed time: 0.0004 seconds\n"
     ]
    },
    {
     "name": "stderr",
     "output_type": "stream",
     "text": [
      " 29%|██▉       | 73/250 [00:08<00:19,  9.18it/s]"
     ]
    },
    {
     "name": "stdout",
     "output_type": "stream",
     "text": [
      "Best total value found after tweak: 49306.0\n",
      "Statistics over tweak runs (n = 250):\n",
      "  Min: 46136.00\n",
      "  Max: 49306.00\n",
      "  Mean: 48267.32\n",
      "  Std: 667.60\n",
      "Elapsed time: 0.0004 seconds\n",
      "Best total value found after tweak: 49306.0\n",
      "Statistics over tweak runs (n = 250):\n",
      "  Min: 46320.00\n",
      "  Max: 49306.00\n",
      "  Mean: 48335.96\n",
      "  Std: 656.33\n",
      "Elapsed time: 0.0004 seconds\n"
     ]
    },
    {
     "name": "stderr",
     "output_type": "stream",
     "text": [
      " 30%|███       | 75/250 [00:08<00:19,  9.16it/s]"
     ]
    },
    {
     "name": "stdout",
     "output_type": "stream",
     "text": [
      "Best total value found after tweak: 49306.0\n",
      "Statistics over tweak runs (n = 250):\n",
      "  Min: 46108.00\n",
      "  Max: 49306.00\n",
      "  Mean: 48167.27\n",
      "  Std: 698.36\n",
      "Elapsed time: 0.0004 seconds\n",
      "Best total value found after tweak: 49306.0\n",
      "Statistics over tweak runs (n = 250):\n",
      "  Min: 46083.00\n",
      "  Max: 49306.00\n",
      "  Mean: 48292.78\n",
      "  Std: 621.88\n",
      "Elapsed time: 0.0004 seconds\n"
     ]
    },
    {
     "name": "stderr",
     "output_type": "stream",
     "text": [
      " 31%|███       | 77/250 [00:08<00:20,  8.56it/s]"
     ]
    },
    {
     "name": "stdout",
     "output_type": "stream",
     "text": [
      "Best total value found after tweak: 49321.0\n",
      "Statistics over tweak runs (n = 250):\n",
      "  Min: 46560.00\n",
      "  Max: 49321.00\n",
      "  Mean: 48294.84\n",
      "  Std: 625.01\n",
      "Elapsed time: 0.0004 seconds\n",
      "Best total value found after tweak: 49321.0\n",
      "Statistics over tweak runs (n = 250):\n",
      "  Min: 46186.00\n",
      "  Max: 49321.00\n",
      "  Mean: 48198.98\n",
      "  Std: 634.30\n",
      "Elapsed time: 0.0005 seconds\n"
     ]
    },
    {
     "name": "stderr",
     "output_type": "stream",
     "text": [
      " 32%|███▏      | 79/250 [00:08<00:20,  8.54it/s]"
     ]
    },
    {
     "name": "stdout",
     "output_type": "stream",
     "text": [
      "Best total value found after tweak: 49333.0\n",
      "Statistics over tweak runs (n = 250):\n",
      "  Min: 46259.00\n",
      "  Max: 49333.00\n",
      "  Mean: 48196.92\n",
      "  Std: 650.26\n",
      "Elapsed time: 0.0004 seconds\n",
      "Best total value found after tweak: 49333.0\n",
      "Statistics over tweak runs (n = 250):\n",
      "  Min: 46730.00\n",
      "  Max: 49333.00\n",
      "  Mean: 48245.87\n",
      "  Std: 647.86\n",
      "Elapsed time: 0.0005 seconds\n"
     ]
    },
    {
     "name": "stderr",
     "output_type": "stream",
     "text": [
      " 32%|███▏      | 81/250 [00:08<00:20,  8.32it/s]"
     ]
    },
    {
     "name": "stdout",
     "output_type": "stream",
     "text": [
      "Best total value found after tweak: 49333.0\n",
      "Statistics over tweak runs (n = 250):\n",
      "  Min: 46437.00\n",
      "  Max: 49333.00\n",
      "  Mean: 48207.81\n",
      "  Std: 669.56\n",
      "Elapsed time: 0.0004 seconds\n",
      "Best total value found after tweak: 49333.0\n",
      "Statistics over tweak runs (n = 250):\n",
      "  Min: 46572.00\n",
      "  Max: 49333.00\n",
      "  Mean: 48306.00\n",
      "  Std: 629.62\n",
      "Elapsed time: 0.0005 seconds\n"
     ]
    },
    {
     "name": "stderr",
     "output_type": "stream",
     "text": [
      " 33%|███▎      | 83/250 [00:09<00:19,  8.69it/s]"
     ]
    },
    {
     "name": "stdout",
     "output_type": "stream",
     "text": [
      "Best total value found after tweak: 49333.0\n",
      "Statistics over tweak runs (n = 250):\n",
      "  Min: 46328.00\n",
      "  Max: 49333.00\n",
      "  Mean: 48236.48\n",
      "  Std: 617.92\n",
      "Elapsed time: 0.0004 seconds\n",
      "Best total value found after tweak: 49333.0\n",
      "Statistics over tweak runs (n = 250):\n",
      "  Min: 46604.00\n",
      "  Max: 49333.00\n",
      "  Mean: 48207.36\n",
      "  Std: 653.49\n",
      "Elapsed time: 0.0004 seconds\n"
     ]
    },
    {
     "name": "stderr",
     "output_type": "stream",
     "text": [
      " 34%|███▍      | 85/250 [00:09<00:18,  8.99it/s]"
     ]
    },
    {
     "name": "stdout",
     "output_type": "stream",
     "text": [
      "Best total value found after tweak: 49333.0\n",
      "Statistics over tweak runs (n = 250):\n",
      "  Min: 46227.00\n",
      "  Max: 49333.00\n",
      "  Mean: 48215.51\n",
      "  Std: 645.72\n",
      "Elapsed time: 0.0004 seconds\n",
      "Best total value found after tweak: 49333.0\n",
      "Statistics over tweak runs (n = 250):\n",
      "  Min: 46461.00\n",
      "  Max: 49333.00\n",
      "  Mean: 48246.49\n",
      "  Std: 630.64\n",
      "Elapsed time: 0.0004 seconds\n"
     ]
    },
    {
     "name": "stderr",
     "output_type": "stream",
     "text": [
      " 35%|███▍      | 87/250 [00:09<00:17,  9.15it/s]"
     ]
    },
    {
     "name": "stdout",
     "output_type": "stream",
     "text": [
      "Best total value found after tweak: 49333.0\n",
      "Statistics over tweak runs (n = 250):\n",
      "  Min: 46166.00\n",
      "  Max: 49333.00\n",
      "  Mean: 48261.84\n",
      "  Std: 660.32\n",
      "Elapsed time: 0.0004 seconds\n",
      "Best total value found after tweak: 49333.0\n",
      "Statistics over tweak runs (n = 250):\n",
      "  Min: 46149.00\n",
      "  Max: 49333.00\n",
      "  Mean: 48345.11\n",
      "  Std: 643.31\n",
      "Elapsed time: 0.0004 seconds\n"
     ]
    },
    {
     "name": "stderr",
     "output_type": "stream",
     "text": [
      " 36%|███▌      | 89/250 [00:09<00:17,  9.18it/s]"
     ]
    },
    {
     "name": "stdout",
     "output_type": "stream",
     "text": [
      "Best total value found after tweak: 49549.0\n",
      "Statistics over tweak runs (n = 250):\n",
      "  Min: 46017.00\n",
      "  Max: 49549.00\n",
      "  Mean: 48286.24\n",
      "  Std: 648.06\n",
      "Elapsed time: 0.0004 seconds\n",
      "Best total value found after tweak: 49549.0\n",
      "Statistics over tweak runs (n = 250):\n",
      "  Min: 46810.00\n",
      "  Max: 49549.00\n",
      "  Mean: 48497.59\n",
      "  Std: 648.84\n",
      "Elapsed time: 0.0004 seconds\n"
     ]
    },
    {
     "name": "stderr",
     "output_type": "stream",
     "text": [
      " 36%|███▋      | 91/250 [00:10<00:17,  9.05it/s]"
     ]
    },
    {
     "name": "stdout",
     "output_type": "stream",
     "text": [
      "Best total value found after tweak: 49688.0\n",
      "Statistics over tweak runs (n = 250):\n",
      "  Min: 46264.00\n",
      "  Max: 49688.00\n",
      "  Mean: 48453.68\n",
      "  Std: 695.38\n",
      "Elapsed time: 0.0004 seconds\n",
      "Best total value found after tweak: 49688.0\n",
      "Statistics over tweak runs (n = 250):\n",
      "  Min: 46504.00\n",
      "  Max: 49688.00\n",
      "  Mean: 48570.97\n",
      "  Std: 644.19\n",
      "Elapsed time: 0.0004 seconds\n"
     ]
    },
    {
     "name": "stderr",
     "output_type": "stream",
     "text": [
      " 37%|███▋      | 93/250 [00:10<00:17,  9.17it/s]"
     ]
    },
    {
     "name": "stdout",
     "output_type": "stream",
     "text": [
      "Best total value found after tweak: 49688.0\n",
      "Statistics over tweak runs (n = 250):\n",
      "  Min: 46872.00\n",
      "  Max: 49688.00\n",
      "  Mean: 48591.56\n",
      "  Std: 646.92\n",
      "Elapsed time: 0.0004 seconds\n",
      "Best total value found after tweak: 49688.0\n",
      "Statistics over tweak runs (n = 250):\n",
      "  Min: 46685.00\n",
      "  Max: 49688.00\n",
      "  Mean: 48607.13\n",
      "  Std: 674.45\n",
      "Elapsed time: 0.0004 seconds\n"
     ]
    },
    {
     "name": "stderr",
     "output_type": "stream",
     "text": [
      " 38%|███▊      | 95/250 [00:10<00:16,  9.20it/s]"
     ]
    },
    {
     "name": "stdout",
     "output_type": "stream",
     "text": [
      "Best total value found after tweak: 49688.0\n",
      "Statistics over tweak runs (n = 250):\n",
      "  Min: 46440.00\n",
      "  Max: 49688.00\n",
      "  Mean: 48615.52\n",
      "  Std: 631.47\n",
      "Elapsed time: 0.0004 seconds\n",
      "Best total value found after tweak: 49688.0\n",
      "Statistics over tweak runs (n = 250):\n",
      "  Min: 46908.00\n",
      "  Max: 49688.00\n",
      "  Mean: 48670.36\n",
      "  Std: 613.95\n",
      "Elapsed time: 0.0004 seconds\n"
     ]
    },
    {
     "name": "stderr",
     "output_type": "stream",
     "text": [
      " 39%|███▉      | 97/250 [00:10<00:16,  9.13it/s]"
     ]
    },
    {
     "name": "stdout",
     "output_type": "stream",
     "text": [
      "Best total value found after tweak: 49688.0\n",
      "Statistics over tweak runs (n = 250):\n",
      "  Min: 46631.00\n",
      "  Max: 49688.00\n",
      "  Mean: 48557.12\n",
      "  Std: 645.49\n",
      "Elapsed time: 0.0004 seconds\n",
      "Best total value found after tweak: 49688.0\n",
      "Statistics over tweak runs (n = 250):\n",
      "  Min: 46631.00\n",
      "  Max: 49688.00\n",
      "  Mean: 48532.78\n",
      "  Std: 659.39\n",
      "Elapsed time: 0.0004 seconds\n"
     ]
    },
    {
     "name": "stderr",
     "output_type": "stream",
     "text": [
      " 40%|███▉      | 99/250 [00:10<00:16,  9.14it/s]"
     ]
    },
    {
     "name": "stdout",
     "output_type": "stream",
     "text": [
      "Best total value found after tweak: 49688.0\n",
      "Statistics over tweak runs (n = 250):\n",
      "  Min: 46369.00\n",
      "  Max: 49688.00\n",
      "  Mean: 48536.86\n",
      "  Std: 658.44\n",
      "Elapsed time: 0.0004 seconds\n",
      "Best total value found after tweak: 49688.0\n",
      "Statistics over tweak runs (n = 250):\n",
      "  Min: 46661.00\n",
      "  Max: 49688.00\n",
      "  Mean: 48664.09\n",
      "  Std: 630.03\n",
      "Elapsed time: 0.0004 seconds\n"
     ]
    },
    {
     "name": "stderr",
     "output_type": "stream",
     "text": [
      " 40%|████      | 101/250 [00:11<00:16,  9.12it/s]"
     ]
    },
    {
     "name": "stdout",
     "output_type": "stream",
     "text": [
      "Best total value found after tweak: 49688.0\n",
      "Statistics over tweak runs (n = 250):\n",
      "  Min: 46615.00\n",
      "  Max: 49688.00\n",
      "  Mean: 48611.24\n",
      "  Std: 698.22\n",
      "Elapsed time: 0.0004 seconds\n",
      "Best total value found after tweak: 49688.0\n",
      "Statistics over tweak runs (n = 250):\n",
      "  Min: 46716.00\n",
      "  Max: 49688.00\n",
      "  Mean: 48612.67\n",
      "  Std: 622.95\n",
      "Elapsed time: 0.0004 seconds\n"
     ]
    },
    {
     "name": "stderr",
     "output_type": "stream",
     "text": [
      " 41%|████      | 103/250 [00:11<00:16,  9.10it/s]"
     ]
    },
    {
     "name": "stdout",
     "output_type": "stream",
     "text": [
      "Best total value found after tweak: 49688.0\n",
      "Statistics over tweak runs (n = 250):\n",
      "  Min: 46618.00\n",
      "  Max: 49688.00\n",
      "  Mean: 48656.99\n",
      "  Std: 620.06\n",
      "Elapsed time: 0.0004 seconds\n",
      "Best total value found after tweak: 49688.0\n",
      "Statistics over tweak runs (n = 250):\n",
      "  Min: 46600.00\n",
      "  Max: 49688.00\n",
      "  Mean: 48589.20\n",
      "  Std: 629.34\n",
      "Elapsed time: 0.0004 seconds\n"
     ]
    },
    {
     "name": "stderr",
     "output_type": "stream",
     "text": [
      " 42%|████▏     | 105/250 [00:11<00:16,  9.03it/s]"
     ]
    },
    {
     "name": "stdout",
     "output_type": "stream",
     "text": [
      "Best total value found after tweak: 49688.0\n",
      "Statistics over tweak runs (n = 250):\n",
      "  Min: 46438.00\n",
      "  Max: 49688.00\n",
      "  Mean: 48557.26\n",
      "  Std: 678.59\n",
      "Elapsed time: 0.0004 seconds\n",
      "Best total value found after tweak: 49688.0\n",
      "Statistics over tweak runs (n = 250):\n",
      "  Min: 46414.00\n",
      "  Max: 49688.00\n",
      "  Mean: 48564.28\n",
      "  Std: 708.52\n",
      "Elapsed time: 0.0004 seconds\n"
     ]
    },
    {
     "name": "stderr",
     "output_type": "stream",
     "text": [
      " 43%|████▎     | 107/250 [00:11<00:15,  9.15it/s]"
     ]
    },
    {
     "name": "stdout",
     "output_type": "stream",
     "text": [
      "Best total value found after tweak: 49688.0\n",
      "Statistics over tweak runs (n = 250):\n",
      "  Min: 46252.00\n",
      "  Max: 49688.00\n",
      "  Mean: 48618.44\n",
      "  Std: 668.44\n",
      "Elapsed time: 0.0004 seconds\n",
      "Best total value found after tweak: 49688.0\n",
      "Statistics over tweak runs (n = 250):\n",
      "  Min: 46600.00\n",
      "  Max: 49688.00\n",
      "  Mean: 48551.06\n",
      "  Std: 713.74\n",
      "Elapsed time: 0.0004 seconds\n"
     ]
    },
    {
     "name": "stderr",
     "output_type": "stream",
     "text": [
      " 44%|████▎     | 109/250 [00:12<00:15,  9.19it/s]"
     ]
    },
    {
     "name": "stdout",
     "output_type": "stream",
     "text": [
      "Best total value found after tweak: 49688.0\n",
      "Statistics over tweak runs (n = 250):\n",
      "  Min: 46682.00\n",
      "  Max: 49688.00\n",
      "  Mean: 48606.06\n",
      "  Std: 635.35\n",
      "Elapsed time: 0.0004 seconds\n",
      "Best total value found after tweak: 49688.0\n",
      "Statistics over tweak runs (n = 250):\n",
      "  Min: 46568.00\n",
      "  Max: 49688.00\n",
      "  Mean: 48585.04\n",
      "  Std: 717.26\n",
      "Elapsed time: 0.0004 seconds\n"
     ]
    },
    {
     "name": "stderr",
     "output_type": "stream",
     "text": [
      " 44%|████▍     | 111/250 [00:12<00:15,  9.14it/s]"
     ]
    },
    {
     "name": "stdout",
     "output_type": "stream",
     "text": [
      "Best total value found after tweak: 49688.0\n",
      "Statistics over tweak runs (n = 250):\n",
      "  Min: 46903.00\n",
      "  Max: 49688.00\n",
      "  Mean: 48623.52\n",
      "  Std: 642.58\n",
      "Elapsed time: 0.0004 seconds\n",
      "Best total value found after tweak: 49688.0\n",
      "Statistics over tweak runs (n = 250):\n",
      "  Min: 46619.00\n",
      "  Max: 49688.00\n",
      "  Mean: 48575.71\n",
      "  Std: 663.59\n",
      "Elapsed time: 0.0004 seconds\n"
     ]
    },
    {
     "name": "stderr",
     "output_type": "stream",
     "text": [
      " 45%|████▌     | 113/250 [00:12<00:15,  9.01it/s]"
     ]
    },
    {
     "name": "stdout",
     "output_type": "stream",
     "text": [
      "Best total value found after tweak: 49688.0\n",
      "Statistics over tweak runs (n = 250):\n",
      "  Min: 46317.00\n",
      "  Max: 49688.00\n",
      "  Mean: 48625.28\n",
      "  Std: 643.62\n",
      "Elapsed time: 0.0005 seconds\n",
      "Best total value found after tweak: 49688.0\n",
      "Statistics over tweak runs (n = 250):\n",
      "  Min: 46768.00\n",
      "  Max: 49688.00\n",
      "  Mean: 48554.86\n",
      "  Std: 669.05\n",
      "Elapsed time: 0.0004 seconds\n"
     ]
    },
    {
     "name": "stderr",
     "output_type": "stream",
     "text": [
      " 46%|████▌     | 115/250 [00:12<00:14,  9.16it/s]"
     ]
    },
    {
     "name": "stdout",
     "output_type": "stream",
     "text": [
      "Best total value found after tweak: 49688.0\n",
      "Statistics over tweak runs (n = 250):\n",
      "  Min: 46481.00\n",
      "  Max: 49688.00\n",
      "  Mean: 48590.72\n",
      "  Std: 696.18\n",
      "Elapsed time: 0.0004 seconds\n",
      "Best total value found after tweak: 49688.0\n",
      "Statistics over tweak runs (n = 250):\n",
      "  Min: 46401.00\n",
      "  Max: 49688.00\n",
      "  Mean: 48631.99\n",
      "  Std: 646.28\n",
      "Elapsed time: 0.0004 seconds\n"
     ]
    },
    {
     "name": "stderr",
     "output_type": "stream",
     "text": [
      " 47%|████▋     | 117/250 [00:12<00:14,  9.07it/s]"
     ]
    },
    {
     "name": "stdout",
     "output_type": "stream",
     "text": [
      "Best total value found after tweak: 49688.0\n",
      "Statistics over tweak runs (n = 250):\n",
      "  Min: 46819.00\n",
      "  Max: 49688.00\n",
      "  Mean: 48588.60\n",
      "  Std: 633.34\n",
      "Elapsed time: 0.0004 seconds\n",
      "Best total value found after tweak: 49688.0\n",
      "Statistics over tweak runs (n = 250):\n",
      "  Min: 46650.00\n",
      "  Max: 49688.00\n",
      "  Mean: 48559.52\n",
      "  Std: 625.72\n",
      "Elapsed time: 0.0004 seconds\n"
     ]
    },
    {
     "name": "stderr",
     "output_type": "stream",
     "text": [
      " 48%|████▊     | 119/250 [00:13<00:15,  8.42it/s]"
     ]
    },
    {
     "name": "stdout",
     "output_type": "stream",
     "text": [
      "Best total value found after tweak: 49782.0\n",
      "Statistics over tweak runs (n = 250):\n",
      "  Min: 46149.00\n",
      "  Max: 49782.00\n",
      "  Mean: 48628.17\n",
      "  Std: 667.38\n",
      "Elapsed time: 0.0004 seconds\n",
      "Best total value found after tweak: 49782.0\n",
      "Statistics over tweak runs (n = 250):\n",
      "  Min: 46654.00\n",
      "  Max: 49782.00\n",
      "  Mean: 48709.72\n",
      "  Std: 690.41\n",
      "Elapsed time: 0.0006 seconds\n"
     ]
    },
    {
     "name": "stderr",
     "output_type": "stream",
     "text": [
      " 48%|████▊     | 121/250 [00:13<00:14,  8.74it/s]"
     ]
    },
    {
     "name": "stdout",
     "output_type": "stream",
     "text": [
      "Best total value found after tweak: 49782.0\n",
      "Statistics over tweak runs (n = 250):\n",
      "  Min: 46851.00\n",
      "  Max: 49782.00\n",
      "  Mean: 48691.63\n",
      "  Std: 639.42\n",
      "Elapsed time: 0.0004 seconds\n",
      "Best total value found after tweak: 49782.0\n",
      "Statistics over tweak runs (n = 250):\n",
      "  Min: 46642.00\n",
      "  Max: 49782.00\n",
      "  Mean: 48722.76\n",
      "  Std: 671.46\n",
      "Elapsed time: 0.0004 seconds\n"
     ]
    },
    {
     "name": "stderr",
     "output_type": "stream",
     "text": [
      " 50%|████▉     | 124/250 [00:13<00:13,  9.10it/s]"
     ]
    },
    {
     "name": "stdout",
     "output_type": "stream",
     "text": [
      "Best total value found after tweak: 49782.0\n",
      "Statistics over tweak runs (n = 250):\n",
      "  Min: 46478.00\n",
      "  Max: 49782.00\n",
      "  Mean: 48664.12\n",
      "  Std: 698.43\n",
      "Elapsed time: 0.0004 seconds\n",
      "Best total value found after tweak: 49782.0\n",
      "Statistics over tweak runs (n = 250):\n",
      "  Min: 46748.00\n",
      "  Max: 49782.00\n",
      "  Mean: 48646.73\n",
      "  Std: 648.32\n",
      "Elapsed time: 0.0004 seconds\n",
      "Best total value found after tweak: 49782.0\n",
      "Statistics over tweak runs (n = 250):\n",
      "  Min: 46923.00\n",
      "  Max: 49782.00\n",
      "  Mean: 48724.32\n",
      "  Std: 657.12\n",
      "Elapsed time: 0.0004 seconds\n"
     ]
    },
    {
     "name": "stderr",
     "output_type": "stream",
     "text": [
      " 50%|█████     | 126/250 [00:13<00:13,  9.11it/s]"
     ]
    },
    {
     "name": "stdout",
     "output_type": "stream",
     "text": [
      "Best total value found after tweak: 49782.0\n",
      "Statistics over tweak runs (n = 250):\n",
      "  Min: 46837.00\n",
      "  Max: 49782.00\n",
      "  Mean: 48708.75\n",
      "  Std: 606.18\n",
      "Elapsed time: 0.0004 seconds\n",
      "Best total value found after tweak: 49782.0\n",
      "Statistics over tweak runs (n = 250):\n",
      "  Min: 46740.00\n",
      "  Max: 49782.00\n",
      "  Mean: 48620.49\n",
      "  Std: 676.81\n",
      "Elapsed time: 0.0004 seconds\n"
     ]
    },
    {
     "name": "stderr",
     "output_type": "stream",
     "text": [
      " 51%|█████     | 128/250 [00:14<00:13,  9.29it/s]"
     ]
    },
    {
     "name": "stdout",
     "output_type": "stream",
     "text": [
      "Best total value found after tweak: 49782.0\n",
      "Statistics over tweak runs (n = 250):\n",
      "  Min: 46815.00\n",
      "  Max: 49782.00\n",
      "  Mean: 48751.96\n",
      "  Std: 605.40\n",
      "Elapsed time: 0.0004 seconds\n",
      "Best total value found after tweak: 49782.0\n",
      "Statistics over tweak runs (n = 250):\n",
      "  Min: 47215.00\n",
      "  Max: 49782.00\n",
      "  Mean: 48740.60\n",
      "  Std: 596.68\n",
      "Elapsed time: 0.0004 seconds\n",
      "Best total value found after tweak: 49782.0\n",
      "Statistics over tweak runs (n = 250):\n",
      "  Min: 46899.00\n",
      "  Max: 49782.00\n",
      "  Mean: 48678.88\n",
      "  Std: 615.10\n",
      "Elapsed time: 0.0004 seconds\n"
     ]
    },
    {
     "name": "stderr",
     "output_type": "stream",
     "text": [
      " 52%|█████▏    | 131/250 [00:14<00:12,  9.27it/s]"
     ]
    },
    {
     "name": "stdout",
     "output_type": "stream",
     "text": [
      "Best total value found after tweak: 49782.0\n",
      "Statistics over tweak runs (n = 250):\n",
      "  Min: 46368.00\n",
      "  Max: 49782.00\n",
      "  Mean: 48725.82\n",
      "  Std: 625.03\n",
      "Elapsed time: 0.0004 seconds\n",
      "Best total value found after tweak: 49782.0\n",
      "Statistics over tweak runs (n = 250):\n",
      "  Min: 46575.00\n",
      "  Max: 49782.00\n",
      "  Mean: 48666.62\n",
      "  Std: 687.04\n",
      "Elapsed time: 0.0004 seconds\n"
     ]
    },
    {
     "name": "stderr",
     "output_type": "stream",
     "text": [
      " 53%|█████▎    | 133/250 [00:14<00:12,  9.15it/s]"
     ]
    },
    {
     "name": "stdout",
     "output_type": "stream",
     "text": [
      "Best total value found after tweak: 49782.0\n",
      "Statistics over tweak runs (n = 250):\n",
      "  Min: 46643.00\n",
      "  Max: 49782.00\n",
      "  Mean: 48647.02\n",
      "  Std: 652.81\n",
      "Elapsed time: 0.0004 seconds\n",
      "Best total value found after tweak: 49782.0\n",
      "Statistics over tweak runs (n = 250):\n",
      "  Min: 46200.00\n",
      "  Max: 49782.00\n",
      "  Mean: 48719.40\n",
      "  Std: 689.47\n",
      "Elapsed time: 0.0004 seconds\n"
     ]
    },
    {
     "name": "stderr",
     "output_type": "stream",
     "text": [
      " 54%|█████▍    | 135/250 [00:14<00:13,  8.26it/s]"
     ]
    },
    {
     "name": "stdout",
     "output_type": "stream",
     "text": [
      "Best total value found after tweak: 49782.0\n",
      "Statistics over tweak runs (n = 250):\n",
      "  Min: 46776.00\n",
      "  Max: 49782.00\n",
      "  Mean: 48694.90\n",
      "  Std: 647.57\n",
      "Elapsed time: 0.0004 seconds\n",
      "Best total value found after tweak: 49782.0\n",
      "Statistics over tweak runs (n = 250):\n",
      "  Min: 46596.00\n",
      "  Max: 49782.00\n",
      "  Mean: 48663.20\n",
      "  Std: 668.74\n",
      "Elapsed time: 0.0006 seconds\n"
     ]
    },
    {
     "name": "stderr",
     "output_type": "stream",
     "text": [
      " 55%|█████▍    | 137/250 [00:15<00:14,  7.80it/s]"
     ]
    },
    {
     "name": "stdout",
     "output_type": "stream",
     "text": [
      "Best total value found after tweak: 49782.0\n",
      "Statistics over tweak runs (n = 250):\n",
      "  Min: 46600.00\n",
      "  Max: 49782.00\n",
      "  Mean: 48627.19\n",
      "  Std: 707.13\n",
      "Elapsed time: 0.0006 seconds\n",
      "Best total value found after tweak: 49782.0\n",
      "Statistics over tweak runs (n = 250):\n",
      "  Min: 46975.00\n",
      "  Max: 49782.00\n",
      "  Mean: 48722.88\n",
      "  Std: 613.07\n",
      "Elapsed time: 0.0005 seconds\n"
     ]
    },
    {
     "name": "stderr",
     "output_type": "stream",
     "text": [
      " 56%|█████▌    | 139/250 [00:15<00:14,  7.76it/s]"
     ]
    },
    {
     "name": "stdout",
     "output_type": "stream",
     "text": [
      "Best total value found after tweak: 49782.0\n",
      "Statistics over tweak runs (n = 250):\n",
      "  Min: 46284.00\n",
      "  Max: 49782.00\n",
      "  Mean: 48681.23\n",
      "  Std: 642.50\n",
      "Elapsed time: 0.0006 seconds\n",
      "Best total value found after tweak: 49782.0\n",
      "Statistics over tweak runs (n = 250):\n",
      "  Min: 46610.00\n",
      "  Max: 49782.00\n",
      "  Mean: 48674.61\n",
      "  Std: 589.37\n",
      "Elapsed time: 0.0004 seconds\n"
     ]
    },
    {
     "name": "stderr",
     "output_type": "stream",
     "text": [
      " 56%|█████▋    | 141/250 [00:15<00:13,  8.30it/s]"
     ]
    },
    {
     "name": "stdout",
     "output_type": "stream",
     "text": [
      "Best total value found after tweak: 49782.0\n",
      "Statistics over tweak runs (n = 250):\n",
      "  Min: 46577.00\n",
      "  Max: 49782.00\n",
      "  Mean: 48716.24\n",
      "  Std: 655.31\n",
      "Elapsed time: 0.0005 seconds\n",
      "Best total value found after tweak: 49782.0\n",
      "Statistics over tweak runs (n = 250):\n",
      "  Min: 46974.00\n",
      "  Max: 49782.00\n",
      "  Mean: 48699.84\n",
      "  Std: 689.22\n",
      "Elapsed time: 0.0004 seconds\n"
     ]
    },
    {
     "name": "stderr",
     "output_type": "stream",
     "text": [
      " 57%|█████▋    | 143/250 [00:15<00:12,  8.46it/s]"
     ]
    },
    {
     "name": "stdout",
     "output_type": "stream",
     "text": [
      "Best total value found after tweak: 49782.0\n",
      "Statistics over tweak runs (n = 250):\n",
      "  Min: 46937.00\n",
      "  Max: 49782.00\n",
      "  Mean: 48641.99\n",
      "  Std: 657.18\n",
      "Elapsed time: 0.0004 seconds\n",
      "Best total value found after tweak: 49782.0\n",
      "Statistics over tweak runs (n = 250):\n",
      "  Min: 46993.00\n",
      "  Max: 49782.00\n",
      "  Mean: 48716.60\n",
      "  Std: 633.65\n",
      "Elapsed time: 0.0005 seconds\n"
     ]
    },
    {
     "name": "stderr",
     "output_type": "stream",
     "text": [
      " 58%|█████▊    | 145/250 [00:16<00:12,  8.39it/s]"
     ]
    },
    {
     "name": "stdout",
     "output_type": "stream",
     "text": [
      "Best total value found after tweak: 49782.0\n",
      "Statistics over tweak runs (n = 250):\n",
      "  Min: 46834.00\n",
      "  Max: 49782.00\n",
      "  Mean: 48683.58\n",
      "  Std: 641.45\n",
      "Elapsed time: 0.0005 seconds\n",
      "Best total value found after tweak: 49782.0\n",
      "Statistics over tweak runs (n = 250):\n",
      "  Min: 46670.00\n",
      "  Max: 49782.00\n",
      "  Mean: 48645.96\n",
      "  Std: 667.57\n",
      "Elapsed time: 0.0005 seconds\n"
     ]
    },
    {
     "name": "stderr",
     "output_type": "stream",
     "text": [
      " 59%|█████▉    | 147/250 [00:16<00:12,  8.46it/s]"
     ]
    },
    {
     "name": "stdout",
     "output_type": "stream",
     "text": [
      "Best total value found after tweak: 49782.0\n",
      "Statistics over tweak runs (n = 250):\n",
      "  Min: 46625.00\n",
      "  Max: 49782.00\n",
      "  Mean: 48678.26\n",
      "  Std: 664.31\n",
      "Elapsed time: 0.0004 seconds\n",
      "Best total value found after tweak: 49782.0\n",
      "Statistics over tweak runs (n = 250):\n",
      "  Min: 46517.00\n",
      "  Max: 49782.00\n",
      "  Mean: 48739.74\n",
      "  Std: 623.79\n",
      "Elapsed time: 0.0005 seconds\n"
     ]
    },
    {
     "name": "stderr",
     "output_type": "stream",
     "text": [
      " 60%|█████▉    | 149/250 [00:16<00:11,  8.80it/s]"
     ]
    },
    {
     "name": "stdout",
     "output_type": "stream",
     "text": [
      "Best total value found after tweak: 49782.0\n",
      "Statistics over tweak runs (n = 250):\n",
      "  Min: 46860.00\n",
      "  Max: 49782.00\n",
      "  Mean: 48735.89\n",
      "  Std: 649.49\n",
      "Elapsed time: 0.0004 seconds\n",
      "Best total value found after tweak: 49782.0\n",
      "Statistics over tweak runs (n = 250):\n",
      "  Min: 46530.00\n",
      "  Max: 49782.00\n",
      "  Mean: 48704.40\n",
      "  Std: 645.44\n",
      "Elapsed time: 0.0004 seconds\n"
     ]
    },
    {
     "name": "stderr",
     "output_type": "stream",
     "text": [
      " 60%|██████    | 151/250 [00:16<00:11,  8.49it/s]"
     ]
    },
    {
     "name": "stdout",
     "output_type": "stream",
     "text": [
      "Best total value found after tweak: 49782.0\n",
      "Statistics over tweak runs (n = 250):\n",
      "  Min: 46694.00\n",
      "  Max: 49782.00\n",
      "  Mean: 48723.88\n",
      "  Std: 691.29\n",
      "Elapsed time: 0.0004 seconds\n",
      "Best total value found after tweak: 49782.0\n",
      "Statistics over tweak runs (n = 250):\n",
      "  Min: 46816.00\n",
      "  Max: 49782.00\n",
      "  Mean: 48723.90\n",
      "  Std: 631.33\n",
      "Elapsed time: 0.0005 seconds\n"
     ]
    },
    {
     "name": "stderr",
     "output_type": "stream",
     "text": [
      " 61%|██████    | 153/250 [00:17<00:11,  8.74it/s]"
     ]
    },
    {
     "name": "stdout",
     "output_type": "stream",
     "text": [
      "Best total value found after tweak: 49782.0\n",
      "Statistics over tweak runs (n = 250):\n",
      "  Min: 46688.00\n",
      "  Max: 49782.00\n",
      "  Mean: 48631.84\n",
      "  Std: 649.81\n",
      "Elapsed time: 0.0004 seconds\n",
      "Best total value found after tweak: 49782.0\n",
      "Statistics over tweak runs (n = 250):\n",
      "  Min: 46817.00\n",
      "  Max: 49782.00\n",
      "  Mean: 48677.56\n",
      "  Std: 628.10\n",
      "Elapsed time: 0.0004 seconds\n"
     ]
    },
    {
     "name": "stderr",
     "output_type": "stream",
     "text": [
      " 62%|██████▏   | 155/250 [00:17<00:11,  8.61it/s]"
     ]
    },
    {
     "name": "stdout",
     "output_type": "stream",
     "text": [
      "Best total value found after tweak: 49782.0\n",
      "Statistics over tweak runs (n = 250):\n",
      "  Min: 46208.00\n",
      "  Max: 49782.00\n",
      "  Mean: 48746.28\n",
      "  Std: 641.27\n",
      "Elapsed time: 0.0004 seconds\n",
      "Best total value found after tweak: 49782.0\n",
      "Statistics over tweak runs (n = 250):\n",
      "  Min: 46633.00\n",
      "  Max: 49782.00\n",
      "  Mean: 48657.80\n",
      "  Std: 717.75\n",
      "Elapsed time: 0.0005 seconds\n"
     ]
    },
    {
     "name": "stderr",
     "output_type": "stream",
     "text": [
      " 63%|██████▎   | 157/250 [00:17<00:10,  8.82it/s]"
     ]
    },
    {
     "name": "stdout",
     "output_type": "stream",
     "text": [
      "Best total value found after tweak: 49782.0\n",
      "Statistics over tweak runs (n = 250):\n",
      "  Min: 46985.00\n",
      "  Max: 49782.00\n",
      "  Mean: 48701.40\n",
      "  Std: 654.52\n",
      "Elapsed time: 0.0004 seconds\n",
      "Best total value found after tweak: 49782.0\n",
      "Statistics over tweak runs (n = 250):\n",
      "  Min: 46659.00\n",
      "  Max: 49782.00\n",
      "  Mean: 48671.32\n",
      "  Std: 636.77\n",
      "Elapsed time: 0.0004 seconds\n"
     ]
    },
    {
     "name": "stderr",
     "output_type": "stream",
     "text": [
      " 64%|██████▎   | 159/250 [00:17<00:10,  8.97it/s]"
     ]
    },
    {
     "name": "stdout",
     "output_type": "stream",
     "text": [
      "Best total value found after tweak: 49782.0\n",
      "Statistics over tweak runs (n = 250):\n",
      "  Min: 46614.00\n",
      "  Max: 49782.00\n",
      "  Mean: 48741.36\n",
      "  Std: 631.70\n",
      "Elapsed time: 0.0004 seconds\n",
      "Best total value found after tweak: 49782.0\n",
      "Statistics over tweak runs (n = 250):\n",
      "  Min: 46973.00\n",
      "  Max: 49782.00\n",
      "  Mean: 48733.27\n",
      "  Std: 650.21\n",
      "Elapsed time: 0.0004 seconds\n"
     ]
    },
    {
     "name": "stderr",
     "output_type": "stream",
     "text": [
      " 64%|██████▍   | 161/250 [00:17<00:09,  9.03it/s]"
     ]
    },
    {
     "name": "stdout",
     "output_type": "stream",
     "text": [
      "Best total value found after tweak: 49782.0\n",
      "Statistics over tweak runs (n = 250):\n",
      "  Min: 46675.00\n",
      "  Max: 49782.00\n",
      "  Mean: 48646.72\n",
      "  Std: 673.41\n",
      "Elapsed time: 0.0004 seconds\n",
      "Best total value found after tweak: 49782.0\n",
      "Statistics over tweak runs (n = 250):\n",
      "  Min: 46966.00\n",
      "  Max: 49782.00\n",
      "  Mean: 48730.65\n",
      "  Std: 649.61\n",
      "Elapsed time: 0.0004 seconds\n"
     ]
    },
    {
     "name": "stderr",
     "output_type": "stream",
     "text": [
      " 65%|██████▌   | 163/250 [00:18<00:09,  9.10it/s]"
     ]
    },
    {
     "name": "stdout",
     "output_type": "stream",
     "text": [
      "Best total value found after tweak: 49782.0\n",
      "Statistics over tweak runs (n = 250):\n",
      "  Min: 46954.00\n",
      "  Max: 49782.00\n",
      "  Mean: 48705.14\n",
      "  Std: 641.09\n",
      "Elapsed time: 0.0004 seconds\n",
      "Best total value found after tweak: 49782.0\n",
      "Statistics over tweak runs (n = 250):\n",
      "  Min: 47214.00\n",
      "  Max: 49782.00\n",
      "  Mean: 48737.26\n",
      "  Std: 613.02\n",
      "Elapsed time: 0.0004 seconds\n"
     ]
    },
    {
     "name": "stderr",
     "output_type": "stream",
     "text": [
      " 66%|██████▌   | 165/250 [00:18<00:09,  9.13it/s]"
     ]
    },
    {
     "name": "stdout",
     "output_type": "stream",
     "text": [
      "Best total value found after tweak: 49782.0\n",
      "Statistics over tweak runs (n = 250):\n",
      "  Min: 46352.00\n",
      "  Max: 49782.00\n",
      "  Mean: 48773.62\n",
      "  Std: 621.54\n",
      "Elapsed time: 0.0004 seconds\n",
      "Best total value found after tweak: 49782.0\n",
      "Statistics over tweak runs (n = 250):\n",
      "  Min: 46828.00\n",
      "  Max: 49782.00\n",
      "  Mean: 48677.36\n",
      "  Std: 634.83\n",
      "Elapsed time: 0.0004 seconds\n"
     ]
    },
    {
     "name": "stderr",
     "output_type": "stream",
     "text": [
      " 67%|██████▋   | 167/250 [00:18<00:09,  9.01it/s]"
     ]
    },
    {
     "name": "stdout",
     "output_type": "stream",
     "text": [
      "Best total value found after tweak: 49782.0\n",
      "Statistics over tweak runs (n = 250):\n",
      "  Min: 46920.00\n",
      "  Max: 49782.00\n",
      "  Mean: 48702.19\n",
      "  Std: 632.22\n",
      "Elapsed time: 0.0004 seconds\n",
      "Best total value found after tweak: 49782.0\n",
      "Statistics over tweak runs (n = 250):\n",
      "  Min: 46852.00\n",
      "  Max: 49782.00\n",
      "  Mean: 48653.44\n",
      "  Std: 614.55\n",
      "Elapsed time: 0.0005 seconds\n"
     ]
    },
    {
     "name": "stderr",
     "output_type": "stream",
     "text": [
      " 68%|██████▊   | 169/250 [00:18<00:10,  7.92it/s]"
     ]
    },
    {
     "name": "stdout",
     "output_type": "stream",
     "text": [
      "Best total value found after tweak: 49782.0\n",
      "Statistics over tweak runs (n = 250):\n",
      "  Min: 46503.00\n",
      "  Max: 49782.00\n",
      "  Mean: 48666.31\n",
      "  Std: 658.29\n",
      "Elapsed time: 0.0005 seconds\n",
      "Best total value found after tweak: 49782.0\n",
      "Statistics over tweak runs (n = 250):\n",
      "  Min: 46616.00\n",
      "  Max: 49782.00\n",
      "  Mean: 48697.46\n",
      "  Std: 640.54\n",
      "Elapsed time: 0.0006 seconds\n"
     ]
    },
    {
     "name": "stderr",
     "output_type": "stream",
     "text": [
      " 68%|██████▊   | 171/250 [00:19<00:09,  8.23it/s]"
     ]
    },
    {
     "name": "stdout",
     "output_type": "stream",
     "text": [
      "Best total value found after tweak: 49782.0\n",
      "Statistics over tweak runs (n = 250):\n",
      "  Min: 46859.00\n",
      "  Max: 49782.00\n",
      "  Mean: 48732.73\n",
      "  Std: 640.89\n",
      "Elapsed time: 0.0004 seconds\n",
      "Best total value found after tweak: 49782.0\n",
      "Statistics over tweak runs (n = 250):\n",
      "  Min: 46969.00\n",
      "  Max: 49782.00\n",
      "  Mean: 48682.65\n",
      "  Std: 653.80\n",
      "Elapsed time: 0.0005 seconds\n"
     ]
    },
    {
     "name": "stderr",
     "output_type": "stream",
     "text": [
      " 69%|██████▉   | 173/250 [00:19<00:10,  7.05it/s]"
     ]
    },
    {
     "name": "stdout",
     "output_type": "stream",
     "text": [
      "Best total value found after tweak: 49782.0\n",
      "Statistics over tweak runs (n = 250):\n",
      "  Min: 46562.00\n",
      "  Max: 49782.00\n",
      "  Mean: 48702.18\n",
      "  Std: 656.19\n",
      "Elapsed time: 0.0007 seconds\n",
      "Best total value found after tweak: 49782.0\n",
      "Statistics over tweak runs (n = 250):\n",
      "  Min: 46419.00\n",
      "  Max: 49782.00\n",
      "  Mean: 48749.89\n",
      "  Std: 627.34\n",
      "Elapsed time: 0.0006 seconds\n"
     ]
    },
    {
     "name": "stderr",
     "output_type": "stream",
     "text": [
      " 70%|███████   | 175/250 [00:19<00:10,  7.46it/s]"
     ]
    },
    {
     "name": "stdout",
     "output_type": "stream",
     "text": [
      "Best total value found after tweak: 49782.0\n",
      "Statistics over tweak runs (n = 250):\n",
      "  Min: 46475.00\n",
      "  Max: 49782.00\n",
      "  Mean: 48725.15\n",
      "  Std: 644.36\n",
      "Elapsed time: 0.0005 seconds\n",
      "Best total value found after tweak: 49782.0\n",
      "Statistics over tweak runs (n = 250):\n",
      "  Min: 46852.00\n",
      "  Max: 49782.00\n",
      "  Mean: 48705.96\n",
      "  Std: 625.00\n",
      "Elapsed time: 0.0005 seconds\n"
     ]
    },
    {
     "name": "stderr",
     "output_type": "stream",
     "text": [
      " 70%|███████   | 176/250 [00:19<00:09,  7.78it/s]"
     ]
    },
    {
     "name": "stdout",
     "output_type": "stream",
     "text": [
      "Best total value found after tweak: 49782.0\n",
      "Statistics over tweak runs (n = 250):\n",
      "  Min: 46632.00\n",
      "  Max: 49782.00\n",
      "  Mean: 48688.30\n",
      "  Std: 636.69\n",
      "Elapsed time: 0.0005 seconds\n",
      "Best total value found after tweak: 49782.0\n",
      "Statistics over tweak runs (n = 250):\n",
      "  Min: 46438.00\n",
      "  Max: 49782.00\n",
      "  Mean: 48747.08\n",
      "  Std: 644.91\n",
      "Elapsed time: 0.0008 seconds\n"
     ]
    },
    {
     "name": "stderr",
     "output_type": "stream",
     "text": [
      " 72%|███████▏  | 179/250 [00:20<00:11,  6.28it/s]"
     ]
    },
    {
     "name": "stdout",
     "output_type": "stream",
     "text": [
      "Best total value found after tweak: 49782.0\n",
      "Statistics over tweak runs (n = 250):\n",
      "  Min: 46468.00\n",
      "  Max: 49782.00\n",
      "  Mean: 48696.76\n",
      "  Std: 714.67\n",
      "Elapsed time: 0.0007 seconds\n",
      "Best total value found after tweak: 49782.0\n",
      "Statistics over tweak runs (n = 250):\n",
      "  Min: 46554.00\n",
      "  Max: 49782.00\n",
      "  Mean: 48672.86\n",
      "  Std: 676.01\n",
      "Elapsed time: 0.0006 seconds\n"
     ]
    },
    {
     "name": "stderr",
     "output_type": "stream",
     "text": [
      " 72%|███████▏  | 181/250 [00:20<00:12,  5.67it/s]"
     ]
    },
    {
     "name": "stdout",
     "output_type": "stream",
     "text": [
      "Best total value found after tweak: 49782.0\n",
      "Statistics over tweak runs (n = 250):\n",
      "  Min: 46435.00\n",
      "  Max: 49782.00\n",
      "  Mean: 48702.76\n",
      "  Std: 698.06\n",
      "Elapsed time: 0.0008 seconds\n",
      "Best total value found after tweak: 49782.0\n",
      "Statistics over tweak runs (n = 250):\n",
      "  Min: 46728.00\n",
      "  Max: 49782.00\n",
      "  Mean: 48713.43\n",
      "  Std: 644.83\n",
      "Elapsed time: 0.0007 seconds\n"
     ]
    },
    {
     "name": "stderr",
     "output_type": "stream",
     "text": [
      " 73%|███████▎  | 182/250 [00:20<00:12,  5.44it/s]"
     ]
    },
    {
     "name": "stdout",
     "output_type": "stream",
     "text": [
      "Best total value found after tweak: 49782.0\n",
      "Statistics over tweak runs (n = 250):\n",
      "  Min: 47021.00\n",
      "  Max: 49782.00\n",
      "  Mean: 48736.88\n",
      "  Std: 615.76\n",
      "Elapsed time: 0.0008 seconds\n"
     ]
    },
    {
     "name": "stderr",
     "output_type": "stream",
     "text": [
      " 73%|███████▎  | 183/250 [00:21<00:13,  5.13it/s]"
     ]
    },
    {
     "name": "stdout",
     "output_type": "stream",
     "text": [
      "Best total value found after tweak: 49782.0\n",
      "Statistics over tweak runs (n = 250):\n",
      "  Min: 46624.00\n",
      "  Max: 49782.00\n",
      "  Mean: 48724.31\n",
      "  Std: 649.32\n",
      "Elapsed time: 0.0009 seconds\n"
     ]
    },
    {
     "name": "stderr",
     "output_type": "stream",
     "text": [
      " 74%|███████▎  | 184/250 [00:21<00:13,  4.86it/s]"
     ]
    },
    {
     "name": "stdout",
     "output_type": "stream",
     "text": [
      "Best total value found after tweak: 49782.0\n",
      "Statistics over tweak runs (n = 250):\n",
      "  Min: 46674.00\n",
      "  Max: 49782.00\n",
      "  Mean: 48641.70\n",
      "  Std: 635.92\n",
      "Elapsed time: 0.0009 seconds\n"
     ]
    },
    {
     "name": "stderr",
     "output_type": "stream",
     "text": [
      " 74%|███████▍  | 185/250 [00:21<00:13,  4.77it/s]"
     ]
    },
    {
     "name": "stdout",
     "output_type": "stream",
     "text": [
      "Best total value found after tweak: 49782.0\n",
      "Statistics over tweak runs (n = 250):\n",
      "  Min: 46558.00\n",
      "  Max: 49782.00\n",
      "  Mean: 48728.90\n",
      "  Std: 675.32\n",
      "Elapsed time: 0.0009 seconds\n"
     ]
    },
    {
     "name": "stderr",
     "output_type": "stream",
     "text": [
      " 74%|███████▍  | 186/250 [00:21<00:13,  4.75it/s]"
     ]
    },
    {
     "name": "stdout",
     "output_type": "stream",
     "text": [
      "Best total value found after tweak: 49782.0\n",
      "Statistics over tweak runs (n = 250):\n",
      "  Min: 46713.00\n",
      "  Max: 49782.00\n",
      "  Mean: 48683.37\n",
      "  Std: 668.70\n",
      "Elapsed time: 0.0008 seconds\n"
     ]
    },
    {
     "name": "stderr",
     "output_type": "stream",
     "text": [
      " 75%|███████▌  | 188/250 [00:22<00:12,  4.87it/s]"
     ]
    },
    {
     "name": "stdout",
     "output_type": "stream",
     "text": [
      "Best total value found after tweak: 49782.0\n",
      "Statistics over tweak runs (n = 250):\n",
      "  Min: 46722.00\n",
      "  Max: 49782.00\n",
      "  Mean: 48729.97\n",
      "  Std: 618.68\n",
      "Elapsed time: 0.0009 seconds\n",
      "Best total value found after tweak: 49782.0\n",
      "Statistics over tweak runs (n = 250):\n",
      "  Min: 46325.00\n",
      "  Max: 49782.00\n",
      "  Mean: 48636.42\n",
      "  Std: 678.97\n",
      "Elapsed time: 0.0007 seconds\n"
     ]
    },
    {
     "name": "stderr",
     "output_type": "stream",
     "text": [
      " 76%|███████▌  | 190/250 [00:22<00:10,  5.56it/s]"
     ]
    },
    {
     "name": "stdout",
     "output_type": "stream",
     "text": [
      "Best total value found after tweak: 49782.0\n",
      "Statistics over tweak runs (n = 250):\n",
      "  Min: 46718.00\n",
      "  Max: 49782.00\n",
      "  Mean: 48733.88\n",
      "  Std: 639.36\n",
      "Elapsed time: 0.0007 seconds\n",
      "Best total value found after tweak: 49782.0\n",
      "Statistics over tweak runs (n = 250):\n",
      "  Min: 46534.00\n",
      "  Max: 49782.00\n",
      "  Mean: 48687.60\n",
      "  Std: 639.69\n",
      "Elapsed time: 0.0005 seconds\n"
     ]
    },
    {
     "name": "stderr",
     "output_type": "stream",
     "text": [
      " 77%|███████▋  | 192/250 [00:22<00:09,  6.07it/s]"
     ]
    },
    {
     "name": "stdout",
     "output_type": "stream",
     "text": [
      "Best total value found after tweak: 49782.0\n",
      "Statistics over tweak runs (n = 250):\n",
      "  Min: 46750.00\n",
      "  Max: 49782.00\n",
      "  Mean: 48620.82\n",
      "  Std: 715.61\n",
      "Elapsed time: 0.0006 seconds\n",
      "Best total value found after tweak: 49782.0\n",
      "Statistics over tweak runs (n = 250):\n",
      "  Min: 46716.00\n",
      "  Max: 49782.00\n",
      "  Mean: 48625.75\n",
      "  Std: 668.93\n",
      "Elapsed time: 0.0006 seconds\n"
     ]
    },
    {
     "name": "stderr",
     "output_type": "stream",
     "text": [
      " 78%|███████▊  | 194/250 [00:23<00:09,  6.18it/s]"
     ]
    },
    {
     "name": "stdout",
     "output_type": "stream",
     "text": [
      "Best total value found after tweak: 49782.0\n",
      "Statistics over tweak runs (n = 250):\n",
      "  Min: 46868.00\n",
      "  Max: 49782.00\n",
      "  Mean: 48656.18\n",
      "  Std: 646.98\n",
      "Elapsed time: 0.0006 seconds\n",
      "Best total value found after tweak: 49782.0\n",
      "Statistics over tweak runs (n = 250):\n",
      "  Min: 47037.00\n",
      "  Max: 49782.00\n",
      "  Mean: 48758.83\n",
      "  Std: 620.09\n",
      "Elapsed time: 0.0007 seconds\n"
     ]
    },
    {
     "name": "stderr",
     "output_type": "stream",
     "text": [
      " 78%|███████▊  | 196/250 [00:23<00:09,  5.85it/s]"
     ]
    },
    {
     "name": "stdout",
     "output_type": "stream",
     "text": [
      "Best total value found after tweak: 49782.0\n",
      "Statistics over tweak runs (n = 250):\n",
      "  Min: 46432.00\n",
      "  Max: 49782.00\n",
      "  Mean: 48633.32\n",
      "  Std: 674.11\n",
      "Elapsed time: 0.0006 seconds\n",
      "Best total value found after tweak: 49782.0\n",
      "Statistics over tweak runs (n = 250):\n",
      "  Min: 46550.00\n",
      "  Max: 49782.00\n",
      "  Mean: 48714.40\n",
      "  Std: 633.02\n",
      "Elapsed time: 0.0008 seconds\n"
     ]
    },
    {
     "name": "stderr",
     "output_type": "stream",
     "text": [
      " 79%|███████▉  | 198/250 [00:23<00:08,  6.16it/s]"
     ]
    },
    {
     "name": "stdout",
     "output_type": "stream",
     "text": [
      "Best total value found after tweak: 49782.0\n",
      "Statistics over tweak runs (n = 250):\n",
      "  Min: 46824.00\n",
      "  Max: 49782.00\n",
      "  Mean: 48729.75\n",
      "  Std: 637.37\n",
      "Elapsed time: 0.0006 seconds\n",
      "Best total value found after tweak: 49782.0\n",
      "Statistics over tweak runs (n = 250):\n",
      "  Min: 46636.00\n",
      "  Max: 49782.00\n",
      "  Mean: 48625.10\n",
      "  Std: 674.77\n",
      "Elapsed time: 0.0006 seconds\n"
     ]
    },
    {
     "name": "stderr",
     "output_type": "stream",
     "text": [
      " 80%|████████  | 200/250 [00:24<00:07,  6.37it/s]"
     ]
    },
    {
     "name": "stdout",
     "output_type": "stream",
     "text": [
      "Best total value found after tweak: 49782.0\n",
      "Statistics over tweak runs (n = 250):\n",
      "  Min: 46735.00\n",
      "  Max: 49782.00\n",
      "  Mean: 48609.65\n",
      "  Std: 686.63\n",
      "Elapsed time: 0.0006 seconds\n",
      "Best total value found after tweak: 49782.0\n",
      "Statistics over tweak runs (n = 250):\n",
      "  Min: 46484.00\n",
      "  Max: 49782.00\n",
      "  Mean: 48667.62\n",
      "  Std: 656.55\n",
      "Elapsed time: 0.0006 seconds\n"
     ]
    },
    {
     "name": "stderr",
     "output_type": "stream",
     "text": [
      " 81%|████████  | 202/250 [00:24<00:06,  6.87it/s]"
     ]
    },
    {
     "name": "stdout",
     "output_type": "stream",
     "text": [
      "Best total value found after tweak: 49782.0\n",
      "Statistics over tweak runs (n = 250):\n",
      "  Min: 46621.00\n",
      "  Max: 49782.00\n",
      "  Mean: 48668.06\n",
      "  Std: 624.04\n",
      "Elapsed time: 0.0005 seconds\n",
      "Best total value found after tweak: 49782.0\n",
      "Statistics over tweak runs (n = 250):\n",
      "  Min: 47106.00\n",
      "  Max: 49782.00\n",
      "  Mean: 48670.43\n",
      "  Std: 641.88\n",
      "Elapsed time: 0.0005 seconds\n"
     ]
    },
    {
     "name": "stderr",
     "output_type": "stream",
     "text": [
      " 82%|████████▏ | 204/250 [00:24<00:06,  7.35it/s]"
     ]
    },
    {
     "name": "stdout",
     "output_type": "stream",
     "text": [
      "Best total value found after tweak: 49782.0\n",
      "Statistics over tweak runs (n = 250):\n",
      "  Min: 46659.00\n",
      "  Max: 49782.00\n",
      "  Mean: 48607.15\n",
      "  Std: 682.76\n",
      "Elapsed time: 0.0006 seconds\n",
      "Best total value found after tweak: 49782.0\n",
      "Statistics over tweak runs (n = 250):\n",
      "  Min: 46654.00\n",
      "  Max: 49782.00\n",
      "  Mean: 48757.22\n",
      "  Std: 610.51\n",
      "Elapsed time: 0.0005 seconds\n"
     ]
    },
    {
     "name": "stderr",
     "output_type": "stream",
     "text": [
      " 82%|████████▏ | 206/250 [00:24<00:06,  6.92it/s]"
     ]
    },
    {
     "name": "stdout",
     "output_type": "stream",
     "text": [
      "Best total value found after tweak: 49782.0\n",
      "Statistics over tweak runs (n = 250):\n",
      "  Min: 46603.00\n",
      "  Max: 49782.00\n",
      "  Mean: 48735.40\n",
      "  Std: 678.72\n",
      "Elapsed time: 0.0006 seconds\n",
      "Best total value found after tweak: 49782.0\n",
      "Statistics over tweak runs (n = 250):\n",
      "  Min: 46794.00\n",
      "  Max: 49782.00\n",
      "  Mean: 48710.56\n",
      "  Std: 680.80\n",
      "Elapsed time: 0.0006 seconds\n"
     ]
    },
    {
     "name": "stderr",
     "output_type": "stream",
     "text": [
      " 83%|████████▎ | 208/250 [00:25<00:05,  7.62it/s]"
     ]
    },
    {
     "name": "stdout",
     "output_type": "stream",
     "text": [
      "Best total value found after tweak: 49782.0\n",
      "Statistics over tweak runs (n = 250):\n",
      "  Min: 46543.00\n",
      "  Max: 49782.00\n",
      "  Mean: 48647.04\n",
      "  Std: 642.93\n",
      "Elapsed time: 0.0005 seconds\n",
      "Best total value found after tweak: 49782.0\n",
      "Statistics over tweak runs (n = 250):\n",
      "  Min: 46837.00\n",
      "  Max: 49782.00\n",
      "  Mean: 48735.38\n",
      "  Std: 624.28\n",
      "Elapsed time: 0.0005 seconds\n"
     ]
    },
    {
     "name": "stderr",
     "output_type": "stream",
     "text": [
      " 84%|████████▍ | 210/250 [00:25<00:05,  7.25it/s]"
     ]
    },
    {
     "name": "stdout",
     "output_type": "stream",
     "text": [
      "Best total value found after tweak: 49782.0\n",
      "Statistics over tweak runs (n = 250):\n",
      "  Min: 46715.00\n",
      "  Max: 49782.00\n",
      "  Mean: 48679.97\n",
      "  Std: 645.76\n",
      "Elapsed time: 0.0005 seconds\n",
      "Best total value found after tweak: 49782.0\n",
      "Statistics over tweak runs (n = 250):\n",
      "  Min: 46441.00\n",
      "  Max: 49782.00\n",
      "  Mean: 48720.97\n",
      "  Std: 640.67\n",
      "Elapsed time: 0.0006 seconds\n"
     ]
    },
    {
     "name": "stderr",
     "output_type": "stream",
     "text": [
      " 85%|████████▍ | 212/250 [00:25<00:04,  7.84it/s]"
     ]
    },
    {
     "name": "stdout",
     "output_type": "stream",
     "text": [
      "Best total value found after tweak: 49782.0\n",
      "Statistics over tweak runs (n = 250):\n",
      "  Min: 46803.00\n",
      "  Max: 49782.00\n",
      "  Mean: 48674.35\n",
      "  Std: 633.09\n",
      "Elapsed time: 0.0005 seconds\n",
      "Best total value found after tweak: 49782.0\n",
      "Statistics over tweak runs (n = 250):\n",
      "  Min: 46925.00\n",
      "  Max: 49782.00\n",
      "  Mean: 48684.59\n",
      "  Std: 683.24\n",
      "Elapsed time: 0.0005 seconds\n"
     ]
    },
    {
     "name": "stderr",
     "output_type": "stream",
     "text": [
      " 86%|████████▌ | 214/250 [00:25<00:04,  8.40it/s]"
     ]
    },
    {
     "name": "stdout",
     "output_type": "stream",
     "text": [
      "Best total value found after tweak: 49782.0\n",
      "Statistics over tweak runs (n = 250):\n",
      "  Min: 46733.00\n",
      "  Max: 49782.00\n",
      "  Mean: 48738.94\n",
      "  Std: 653.62\n",
      "Elapsed time: 0.0005 seconds\n",
      "Best total value found after tweak: 49782.0\n",
      "Statistics over tweak runs (n = 250):\n",
      "  Min: 46877.00\n",
      "  Max: 49782.00\n",
      "  Mean: 48732.29\n",
      "  Std: 620.84\n",
      "Elapsed time: 0.0004 seconds\n"
     ]
    },
    {
     "name": "stderr",
     "output_type": "stream",
     "text": [
      " 86%|████████▋ | 216/250 [00:26<00:03,  8.77it/s]"
     ]
    },
    {
     "name": "stdout",
     "output_type": "stream",
     "text": [
      "Best total value found after tweak: 49782.0\n",
      "Statistics over tweak runs (n = 250):\n",
      "  Min: 46719.00\n",
      "  Max: 49782.00\n",
      "  Mean: 48618.26\n",
      "  Std: 711.26\n",
      "Elapsed time: 0.0004 seconds\n",
      "Best total value found after tweak: 49782.0\n",
      "Statistics over tweak runs (n = 250):\n",
      "  Min: 46452.00\n",
      "  Max: 49782.00\n",
      "  Mean: 48629.56\n",
      "  Std: 716.58\n",
      "Elapsed time: 0.0004 seconds\n"
     ]
    },
    {
     "name": "stderr",
     "output_type": "stream",
     "text": [
      " 87%|████████▋ | 218/250 [00:26<00:03,  8.90it/s]"
     ]
    },
    {
     "name": "stdout",
     "output_type": "stream",
     "text": [
      "Best total value found after tweak: 49782.0\n",
      "Statistics over tweak runs (n = 250):\n",
      "  Min: 46857.00\n",
      "  Max: 49782.00\n",
      "  Mean: 48697.47\n",
      "  Std: 657.87\n",
      "Elapsed time: 0.0004 seconds\n",
      "Best total value found after tweak: 49782.0\n",
      "Statistics over tweak runs (n = 250):\n",
      "  Min: 46542.00\n",
      "  Max: 49782.00\n",
      "  Mean: 48592.90\n",
      "  Std: 689.41\n",
      "Elapsed time: 0.0004 seconds\n"
     ]
    },
    {
     "name": "stderr",
     "output_type": "stream",
     "text": [
      " 88%|████████▊ | 220/250 [00:26<00:03,  9.01it/s]"
     ]
    },
    {
     "name": "stdout",
     "output_type": "stream",
     "text": [
      "Best total value found after tweak: 49782.0\n",
      "Statistics over tweak runs (n = 250):\n",
      "  Min: 46386.00\n",
      "  Max: 49782.00\n",
      "  Mean: 48640.94\n",
      "  Std: 669.45\n",
      "Elapsed time: 0.0004 seconds\n",
      "Best total value found after tweak: 49782.0\n",
      "Statistics over tweak runs (n = 250):\n",
      "  Min: 46813.00\n",
      "  Max: 49782.00\n",
      "  Mean: 48745.80\n",
      "  Std: 654.15\n",
      "Elapsed time: 0.0004 seconds\n"
     ]
    },
    {
     "name": "stderr",
     "output_type": "stream",
     "text": [
      " 89%|████████▉ | 222/250 [00:26<00:03,  9.04it/s]"
     ]
    },
    {
     "name": "stdout",
     "output_type": "stream",
     "text": [
      "Best total value found after tweak: 49782.0\n",
      "Statistics over tweak runs (n = 250):\n",
      "  Min: 46827.00\n",
      "  Max: 49782.00\n",
      "  Mean: 48676.48\n",
      "  Std: 647.23\n",
      "Elapsed time: 0.0004 seconds\n",
      "Best total value found after tweak: 49782.0\n",
      "Statistics over tweak runs (n = 250):\n",
      "  Min: 46675.00\n",
      "  Max: 49782.00\n",
      "  Mean: 48724.61\n",
      "  Std: 662.57\n",
      "Elapsed time: 0.0004 seconds\n"
     ]
    },
    {
     "name": "stderr",
     "output_type": "stream",
     "text": [
      " 90%|████████▉ | 224/250 [00:27<00:02,  9.00it/s]"
     ]
    },
    {
     "name": "stdout",
     "output_type": "stream",
     "text": [
      "Best total value found after tweak: 49782.0\n",
      "Statistics over tweak runs (n = 250):\n",
      "  Min: 47035.00\n",
      "  Max: 49782.00\n",
      "  Mean: 48751.37\n",
      "  Std: 614.34\n",
      "Elapsed time: 0.0004 seconds\n",
      "Best total value found after tweak: 49782.0\n",
      "Statistics over tweak runs (n = 250):\n",
      "  Min: 46798.00\n",
      "  Max: 49782.00\n",
      "  Mean: 48669.15\n",
      "  Std: 649.28\n",
      "Elapsed time: 0.0004 seconds\n"
     ]
    },
    {
     "name": "stderr",
     "output_type": "stream",
     "text": [
      " 90%|█████████ | 226/250 [00:27<00:03,  7.65it/s]"
     ]
    },
    {
     "name": "stdout",
     "output_type": "stream",
     "text": [
      "Best total value found after tweak: 49782.0\n",
      "Statistics over tweak runs (n = 250):\n",
      "  Min: 46930.00\n",
      "  Max: 49782.00\n",
      "  Mean: 48692.76\n",
      "  Std: 653.58\n",
      "Elapsed time: 0.0004 seconds\n",
      "Best total value found after tweak: 49782.0\n",
      "Statistics over tweak runs (n = 250):\n",
      "  Min: 46593.00\n",
      "  Max: 49782.00\n",
      "  Mean: 48730.96\n",
      "  Std: 651.46\n",
      "Elapsed time: 0.0007 seconds\n"
     ]
    },
    {
     "name": "stderr",
     "output_type": "stream",
     "text": [
      " 91%|█████████ | 228/250 [00:27<00:02,  7.90it/s]"
     ]
    },
    {
     "name": "stdout",
     "output_type": "stream",
     "text": [
      "Best total value found after tweak: 49782.0\n",
      "Statistics over tweak runs (n = 250):\n",
      "  Min: 46492.00\n",
      "  Max: 49782.00\n",
      "  Mean: 48698.04\n",
      "  Std: 697.76\n",
      "Elapsed time: 0.0005 seconds\n",
      "Best total value found after tweak: 49782.0\n",
      "Statistics over tweak runs (n = 250):\n",
      "  Min: 46633.00\n",
      "  Max: 49782.00\n",
      "  Mean: 48737.92\n",
      "  Std: 660.92\n",
      "Elapsed time: 0.0005 seconds\n"
     ]
    },
    {
     "name": "stderr",
     "output_type": "stream",
     "text": [
      " 92%|█████████▏| 230/250 [00:27<00:02,  8.38it/s]"
     ]
    },
    {
     "name": "stdout",
     "output_type": "stream",
     "text": [
      "Best total value found after tweak: 49782.0\n",
      "Statistics over tweak runs (n = 250):\n",
      "  Min: 46634.00\n",
      "  Max: 49782.00\n",
      "  Mean: 48715.86\n",
      "  Std: 656.68\n",
      "Elapsed time: 0.0004 seconds\n",
      "Best total value found after tweak: 49782.0\n",
      "Statistics over tweak runs (n = 250):\n",
      "  Min: 46824.00\n",
      "  Max: 49782.00\n",
      "  Mean: 48682.18\n",
      "  Std: 644.49\n",
      "Elapsed time: 0.0004 seconds\n"
     ]
    },
    {
     "name": "stderr",
     "output_type": "stream",
     "text": [
      " 93%|█████████▎| 232/250 [00:28<00:02,  8.74it/s]"
     ]
    },
    {
     "name": "stdout",
     "output_type": "stream",
     "text": [
      "Best total value found after tweak: 49782.0\n",
      "Statistics over tweak runs (n = 250):\n",
      "  Min: 47074.00\n",
      "  Max: 49782.00\n",
      "  Mean: 48683.23\n",
      "  Std: 655.46\n",
      "Elapsed time: 0.0004 seconds\n",
      "Best total value found after tweak: 49782.0\n",
      "Statistics over tweak runs (n = 250):\n",
      "  Min: 46725.00\n",
      "  Max: 49782.00\n",
      "  Mean: 48709.55\n",
      "  Std: 644.77\n",
      "Elapsed time: 0.0004 seconds\n"
     ]
    },
    {
     "name": "stderr",
     "output_type": "stream",
     "text": [
      " 94%|█████████▎| 234/250 [00:28<00:01,  8.89it/s]"
     ]
    },
    {
     "name": "stdout",
     "output_type": "stream",
     "text": [
      "Best total value found after tweak: 49782.0\n",
      "Statistics over tweak runs (n = 250):\n",
      "  Min: 46340.00\n",
      "  Max: 49782.00\n",
      "  Mean: 48667.35\n",
      "  Std: 672.58\n",
      "Elapsed time: 0.0004 seconds\n",
      "Best total value found after tweak: 49782.0\n",
      "Statistics over tweak runs (n = 250):\n",
      "  Min: 46840.00\n",
      "  Max: 49782.00\n",
      "  Mean: 48772.06\n",
      "  Std: 612.47\n",
      "Elapsed time: 0.0004 seconds\n"
     ]
    },
    {
     "name": "stderr",
     "output_type": "stream",
     "text": [
      " 94%|█████████▍| 236/250 [00:28<00:01,  8.62it/s]"
     ]
    },
    {
     "name": "stdout",
     "output_type": "stream",
     "text": [
      "Best total value found after tweak: 49782.0\n",
      "Statistics over tweak runs (n = 250):\n",
      "  Min: 46474.00\n",
      "  Max: 49782.00\n",
      "  Mean: 48683.68\n",
      "  Std: 694.13\n",
      "Elapsed time: 0.0004 seconds\n",
      "Best total value found after tweak: 49782.0\n",
      "Statistics over tweak runs (n = 250):\n",
      "  Min: 46641.00\n",
      "  Max: 49782.00\n",
      "  Mean: 48669.24\n",
      "  Std: 683.35\n",
      "Elapsed time: 0.0005 seconds\n"
     ]
    },
    {
     "name": "stderr",
     "output_type": "stream",
     "text": [
      " 95%|█████████▌| 238/250 [00:28<00:01,  8.63it/s]"
     ]
    },
    {
     "name": "stdout",
     "output_type": "stream",
     "text": [
      "Best total value found after tweak: 49782.0\n",
      "Statistics over tweak runs (n = 250):\n",
      "  Min: 46913.00\n",
      "  Max: 49782.00\n",
      "  Mean: 48659.71\n",
      "  Std: 623.16\n",
      "Elapsed time: 0.0004 seconds\n",
      "Best total value found after tweak: 49782.0\n",
      "Statistics over tweak runs (n = 250):\n",
      "  Min: 46560.00\n",
      "  Max: 49782.00\n",
      "  Mean: 48713.10\n",
      "  Std: 671.93\n",
      "Elapsed time: 0.0005 seconds\n"
     ]
    },
    {
     "name": "stderr",
     "output_type": "stream",
     "text": [
      " 96%|█████████▌| 240/250 [00:28<00:01,  8.73it/s]"
     ]
    },
    {
     "name": "stdout",
     "output_type": "stream",
     "text": [
      "Best total value found after tweak: 49782.0\n",
      "Statistics over tweak runs (n = 250):\n",
      "  Min: 47033.00\n",
      "  Max: 49782.00\n",
      "  Mean: 48760.47\n",
      "  Std: 609.15\n",
      "Elapsed time: 0.0005 seconds\n",
      "Best total value found after tweak: 49782.0\n",
      "Statistics over tweak runs (n = 250):\n",
      "  Min: 46485.00\n",
      "  Max: 49782.00\n",
      "  Mean: 48678.28\n",
      "  Std: 640.53\n",
      "Elapsed time: 0.0004 seconds\n"
     ]
    },
    {
     "name": "stderr",
     "output_type": "stream",
     "text": [
      " 97%|█████████▋| 242/250 [00:29<00:00,  8.85it/s]"
     ]
    },
    {
     "name": "stdout",
     "output_type": "stream",
     "text": [
      "Best total value found after tweak: 49782.0\n",
      "Statistics over tweak runs (n = 250):\n",
      "  Min: 46558.00\n",
      "  Max: 49782.00\n",
      "  Mean: 48619.40\n",
      "  Std: 643.59\n",
      "Elapsed time: 0.0004 seconds\n",
      "Best total value found after tweak: 49782.0\n",
      "Statistics over tweak runs (n = 250):\n",
      "  Min: 46650.00\n",
      "  Max: 49782.00\n",
      "  Mean: 48684.92\n",
      "  Std: 709.94\n",
      "Elapsed time: 0.0004 seconds\n"
     ]
    },
    {
     "name": "stderr",
     "output_type": "stream",
     "text": [
      " 98%|█████████▊| 244/250 [00:29<00:00,  9.06it/s]"
     ]
    },
    {
     "name": "stdout",
     "output_type": "stream",
     "text": [
      "Best total value found after tweak: 49782.0\n",
      "Statistics over tweak runs (n = 250):\n",
      "  Min: 46695.00\n",
      "  Max: 49782.00\n",
      "  Mean: 48707.25\n",
      "  Std: 666.74\n",
      "Elapsed time: 0.0004 seconds\n",
      "Best total value found after tweak: 49782.0\n",
      "Statistics over tweak runs (n = 250):\n",
      "  Min: 46673.00\n",
      "  Max: 49782.00\n",
      "  Mean: 48732.06\n",
      "  Std: 646.89\n",
      "Elapsed time: 0.0004 seconds\n"
     ]
    },
    {
     "name": "stderr",
     "output_type": "stream",
     "text": [
      " 98%|█████████▊| 246/250 [00:29<00:00,  9.03it/s]"
     ]
    },
    {
     "name": "stdout",
     "output_type": "stream",
     "text": [
      "Best total value found after tweak: 49782.0\n",
      "Statistics over tweak runs (n = 250):\n",
      "  Min: 46514.00\n",
      "  Max: 49782.00\n",
      "  Mean: 48644.43\n",
      "  Std: 634.28\n",
      "Elapsed time: 0.0004 seconds\n",
      "Best total value found after tweak: 49782.0\n",
      "Statistics over tweak runs (n = 250):\n",
      "  Min: 46958.00\n",
      "  Max: 49782.00\n",
      "  Mean: 48685.93\n",
      "  Std: 668.78\n",
      "Elapsed time: 0.0004 seconds\n"
     ]
    },
    {
     "name": "stderr",
     "output_type": "stream",
     "text": [
      " 99%|█████████▉| 248/250 [00:29<00:00,  9.07it/s]"
     ]
    },
    {
     "name": "stdout",
     "output_type": "stream",
     "text": [
      "Best total value found after tweak: 49782.0\n",
      "Statistics over tweak runs (n = 250):\n",
      "  Min: 46385.00\n",
      "  Max: 49782.00\n",
      "  Mean: 48679.02\n",
      "  Std: 646.35\n",
      "Elapsed time: 0.0004 seconds\n",
      "Best total value found after tweak: 49782.0\n",
      "Statistics over tweak runs (n = 250):\n",
      "  Min: 46524.00\n",
      "  Max: 49782.00\n",
      "  Mean: 48668.73\n",
      "  Std: 697.87\n",
      "Elapsed time: 0.0004 seconds\n"
     ]
    },
    {
     "name": "stderr",
     "output_type": "stream",
     "text": [
      "100%|██████████| 250/250 [00:30<00:00,  8.32it/s]"
     ]
    },
    {
     "name": "stdout",
     "output_type": "stream",
     "text": [
      "Best total value found after tweak: 49782.0\n",
      "Statistics over tweak runs (n = 250):\n",
      "  Min: 46594.00\n",
      "  Max: 49782.00\n",
      "  Mean: 48755.10\n",
      "  Std: 660.31\n",
      "Elapsed time: 0.0004 seconds\n",
      "Best total value found after tweak: 49782.0\n",
      "Statistics over tweak runs (n = 250):\n",
      "  Min: 47047.00\n",
      "  Max: 49782.00\n",
      "  Mean: 48754.05\n",
      "  Std: 639.51\n",
      "Elapsed time: 0.0004 seconds\n",
      "49782\n"
     ]
    },
    {
     "name": "stderr",
     "output_type": "stream",
     "text": [
      "\n"
     ]
    }
   ],
   "source": [
    "first_solution = benchmark_solution(find_first_solution, n_runs=1000)\n",
    "first_solution.total_value\n",
    "tweaked_solution = first_solution\n",
    "for _ in tqdm(range(250)):\n",
    "    tweaked_solution = benchmark_tweak(tweaked_solution, tweak_solution, n_runs=250)\n",
    "print(tweaked_solution.total_value)"
   ]
  },
  {
   "cell_type": "code",
   "execution_count": 919,
   "id": "117380d6",
   "metadata": {},
   "outputs": [],
   "source": [
    "# Problem 3:\n",
    "rng = np.random.default_rng(seed=42)\n",
    "NUM_KNAPSACKS = 100\n",
    "NUM_ITEMS = 5000\n",
    "NUM_DIMENSIONS = 100\n",
    "VALUES = rng.integers(0, 1000, size=NUM_ITEMS)\n",
    "WEIGHTS = rng.integers(0, 1000, size=(NUM_ITEMS, NUM_DIMENSIONS))\n",
    "CONSTRAINTS = rng.integers(\n",
    "    1000 * 10,\n",
    "    1000 * 2 * NUM_ITEMS // NUM_KNAPSACKS,\n",
    "    size=(NUM_KNAPSACKS, NUM_DIMENSIONS),\n",
    ")"
   ]
  },
  {
   "cell_type": "code",
   "execution_count": 921,
   "id": "0062c607",
   "metadata": {},
   "outputs": [
    {
     "name": "stdout",
     "output_type": "stream",
     "text": [
      "Best total value found: 1227842.0\n",
      "Statistics over runs (n = 10):\n",
      "  Min: 1178363.00\n",
      "  Max: 1227842.00\n",
      "  Mean: 1210011.80\n",
      "  Std: 14642.08\n",
      "Elapsed time: 2.5133 seconds\n"
     ]
    },
    {
     "name": "stderr",
     "output_type": "stream",
     "text": [
      "  2%|▏         | 1/50 [00:04<03:24,  4.18s/it]"
     ]
    },
    {
     "name": "stdout",
     "output_type": "stream",
     "text": [
      "Best total value found after tweak: 1246227.0\n",
      "Statistics over tweak runs (n = 50):\n",
      "  Min: 1220891.00\n",
      "  Max: 1246227.00\n",
      "  Mean: 1231176.46\n",
      "  Std: 6221.96\n",
      "Elapsed time: 0.0835 seconds\n"
     ]
    },
    {
     "name": "stderr",
     "output_type": "stream",
     "text": [
      "  4%|▍         | 2/50 [00:08<03:23,  4.24s/it]"
     ]
    },
    {
     "name": "stdout",
     "output_type": "stream",
     "text": [
      "Best total value found after tweak: 1269573.0\n",
      "Statistics over tweak runs (n = 50):\n",
      "  Min: 1246633.00\n",
      "  Max: 1269573.00\n",
      "  Mean: 1257671.24\n",
      "  Std: 6290.67\n",
      "Elapsed time: 0.0856 seconds\n"
     ]
    },
    {
     "name": "stderr",
     "output_type": "stream",
     "text": [
      "  6%|▌         | 3/50 [00:12<03:14,  4.13s/it]"
     ]
    },
    {
     "name": "stdout",
     "output_type": "stream",
     "text": [
      "Best total value found after tweak: 1296563.0\n",
      "Statistics over tweak runs (n = 50):\n",
      "  Min: 1269734.00\n",
      "  Max: 1296563.00\n",
      "  Mean: 1281128.18\n",
      "  Std: 6751.29\n",
      "Elapsed time: 0.0801 seconds\n"
     ]
    },
    {
     "name": "stderr",
     "output_type": "stream",
     "text": [
      "  8%|▊         | 4/50 [00:15<02:54,  3.80s/it]"
     ]
    },
    {
     "name": "stdout",
     "output_type": "stream",
     "text": [
      "Best total value found after tweak: 1320503.0\n",
      "Statistics over tweak runs (n = 50):\n",
      "  Min: 1296139.00\n",
      "  Max: 1320503.00\n",
      "  Mean: 1305780.28\n",
      "  Std: 6379.58\n",
      "Elapsed time: 0.0655 seconds\n"
     ]
    },
    {
     "name": "stderr",
     "output_type": "stream",
     "text": [
      " 10%|█         | 5/50 [00:19<02:44,  3.66s/it]"
     ]
    },
    {
     "name": "stdout",
     "output_type": "stream",
     "text": [
      "Best total value found after tweak: 1340875.0\n",
      "Statistics over tweak runs (n = 50):\n",
      "  Min: 1319974.00\n",
      "  Max: 1340875.00\n",
      "  Mean: 1328280.68\n",
      "  Std: 5907.27\n",
      "Elapsed time: 0.0683 seconds\n"
     ]
    },
    {
     "name": "stderr",
     "output_type": "stream",
     "text": [
      " 12%|█▏        | 6/50 [00:23<02:48,  3.82s/it]"
     ]
    },
    {
     "name": "stdout",
     "output_type": "stream",
     "text": [
      "Best total value found after tweak: 1363584.0\n",
      "Statistics over tweak runs (n = 50):\n",
      "  Min: 1341439.00\n",
      "  Max: 1363584.00\n",
      "  Mean: 1350664.68\n",
      "  Std: 5554.00\n",
      "Elapsed time: 0.0828 seconds\n"
     ]
    },
    {
     "name": "stderr",
     "output_type": "stream",
     "text": [
      " 14%|█▍        | 7/50 [00:27<02:44,  3.83s/it]"
     ]
    },
    {
     "name": "stdout",
     "output_type": "stream",
     "text": [
      "Best total value found after tweak: 1382167.0\n",
      "Statistics over tweak runs (n = 50):\n",
      "  Min: 1360117.00\n",
      "  Max: 1382167.00\n",
      "  Mean: 1368876.94\n",
      "  Std: 4864.50\n",
      "Elapsed time: 0.0768 seconds\n"
     ]
    },
    {
     "name": "stderr",
     "output_type": "stream",
     "text": [
      " 16%|█▌        | 8/50 [00:31<02:42,  3.87s/it]"
     ]
    },
    {
     "name": "stdout",
     "output_type": "stream",
     "text": [
      "Best total value found after tweak: 1400639.0\n",
      "Statistics over tweak runs (n = 50):\n",
      "  Min: 1378280.00\n",
      "  Max: 1400639.00\n",
      "  Mean: 1385314.08\n",
      "  Std: 5142.86\n",
      "Elapsed time: 0.0791 seconds\n"
     ]
    },
    {
     "name": "stderr",
     "output_type": "stream",
     "text": [
      " 18%|█▊        | 9/50 [00:35<02:39,  3.89s/it]"
     ]
    },
    {
     "name": "stdout",
     "output_type": "stream",
     "text": [
      "Best total value found after tweak: 1419399.0\n",
      "Statistics over tweak runs (n = 50):\n",
      "  Min: 1399011.00\n",
      "  Max: 1419399.00\n",
      "  Mean: 1406578.08\n",
      "  Std: 5015.53\n",
      "Elapsed time: 0.0784 seconds\n"
     ]
    },
    {
     "name": "stderr",
     "output_type": "stream",
     "text": [
      " 20%|██        | 10/50 [00:39<02:39,  3.98s/it]"
     ]
    },
    {
     "name": "stdout",
     "output_type": "stream",
     "text": [
      "Best total value found after tweak: 1436126.0\n",
      "Statistics over tweak runs (n = 50):\n",
      "  Min: 1418200.00\n",
      "  Max: 1436126.00\n",
      "  Mean: 1424514.70\n",
      "  Std: 3921.07\n",
      "Elapsed time: 0.0837 seconds\n"
     ]
    },
    {
     "name": "stderr",
     "output_type": "stream",
     "text": [
      " 22%|██▏       | 11/50 [00:43<02:43,  4.19s/it]"
     ]
    },
    {
     "name": "stdout",
     "output_type": "stream",
     "text": [
      "Best total value found after tweak: 1450599.0\n",
      "Statistics over tweak runs (n = 50):\n",
      "  Min: 1433195.00\n",
      "  Max: 1450599.00\n",
      "  Mean: 1440084.18\n",
      "  Std: 4308.06\n",
      "Elapsed time: 0.0934 seconds\n"
     ]
    },
    {
     "name": "stderr",
     "output_type": "stream",
     "text": [
      " 24%|██▍       | 12/50 [00:48<02:49,  4.45s/it]"
     ]
    },
    {
     "name": "stdout",
     "output_type": "stream",
     "text": [
      "Best total value found after tweak: 1463968.0\n",
      "Statistics over tweak runs (n = 50):\n",
      "  Min: 1448571.00\n",
      "  Max: 1463968.00\n",
      "  Mean: 1454340.50\n",
      "  Std: 3556.26\n",
      "Elapsed time: 0.1008 seconds\n"
     ]
    },
    {
     "name": "stderr",
     "output_type": "stream",
     "text": [
      " 26%|██▌       | 13/50 [00:53<02:42,  4.40s/it]"
     ]
    },
    {
     "name": "stdout",
     "output_type": "stream",
     "text": [
      "Best total value found after tweak: 1474302.0\n",
      "Statistics over tweak runs (n = 50):\n",
      "  Min: 1460512.00\n",
      "  Max: 1474302.00\n",
      "  Mean: 1466368.86\n",
      "  Std: 3233.56\n",
      "Elapsed time: 0.0854 seconds\n"
     ]
    },
    {
     "name": "stderr",
     "output_type": "stream",
     "text": [
      " 28%|██▊       | 14/50 [00:57<02:38,  4.39s/it]"
     ]
    },
    {
     "name": "stdout",
     "output_type": "stream",
     "text": [
      "Best total value found after tweak: 1487134.0\n",
      "Statistics over tweak runs (n = 50):\n",
      "  Min: 1472325.00\n",
      "  Max: 1487134.00\n",
      "  Mean: 1478387.00\n",
      "  Std: 3492.25\n",
      "Elapsed time: 0.0875 seconds\n"
     ]
    },
    {
     "name": "stderr",
     "output_type": "stream",
     "text": [
      " 30%|███       | 15/50 [01:01<02:33,  4.39s/it]"
     ]
    },
    {
     "name": "stdout",
     "output_type": "stream",
     "text": [
      "Best total value found after tweak: 1494548.0\n",
      "Statistics over tweak runs (n = 50):\n",
      "  Min: 1479242.00\n",
      "  Max: 1494548.00\n",
      "  Mean: 1488090.60\n",
      "  Std: 3421.82\n",
      "Elapsed time: 0.0880 seconds\n"
     ]
    },
    {
     "name": "stderr",
     "output_type": "stream",
     "text": [
      " 32%|███▏      | 16/50 [01:06<02:26,  4.31s/it]"
     ]
    },
    {
     "name": "stdout",
     "output_type": "stream",
     "text": [
      "Best total value found after tweak: 1507207.0\n",
      "Statistics over tweak runs (n = 50):\n",
      "  Min: 1490042.00\n",
      "  Max: 1507207.00\n",
      "  Mean: 1496068.00\n",
      "  Std: 3701.48\n",
      "Elapsed time: 0.0821 seconds\n"
     ]
    },
    {
     "name": "stderr",
     "output_type": "stream",
     "text": [
      " 34%|███▍      | 17/50 [01:09<02:15,  4.10s/it]"
     ]
    },
    {
     "name": "stdout",
     "output_type": "stream",
     "text": [
      "Best total value found after tweak: 1511901.0\n",
      "Statistics over tweak runs (n = 50):\n",
      "  Min: 1500309.00\n",
      "  Max: 1511901.00\n",
      "  Mean: 1506600.34\n",
      "  Std: 2691.30\n",
      "Elapsed time: 0.0725 seconds\n"
     ]
    },
    {
     "name": "stderr",
     "output_type": "stream",
     "text": [
      " 36%|███▌      | 18/50 [01:13<02:10,  4.09s/it]"
     ]
    },
    {
     "name": "stdout",
     "output_type": "stream",
     "text": [
      "Best total value found after tweak: 1520905.0\n",
      "Statistics over tweak runs (n = 50):\n",
      "  Min: 1509476.00\n",
      "  Max: 1520905.00\n",
      "  Mean: 1513387.14\n",
      "  Std: 2318.01\n",
      "Elapsed time: 0.0812 seconds\n"
     ]
    },
    {
     "name": "stderr",
     "output_type": "stream",
     "text": [
      " 38%|███▊      | 19/50 [01:18<02:08,  4.14s/it]"
     ]
    },
    {
     "name": "stdout",
     "output_type": "stream",
     "text": [
      "Best total value found after tweak: 1536972.0\n",
      "Statistics over tweak runs (n = 50):\n",
      "  Min: 1516642.00\n",
      "  Max: 1536972.00\n",
      "  Mean: 1522480.20\n",
      "  Std: 3622.32\n",
      "Elapsed time: 0.0852 seconds\n"
     ]
    },
    {
     "name": "stderr",
     "output_type": "stream",
     "text": [
      " 40%|████      | 20/50 [01:22<02:03,  4.12s/it]"
     ]
    },
    {
     "name": "stdout",
     "output_type": "stream",
     "text": [
      "Best total value found after tweak: 1545070.0\n",
      "Statistics over tweak runs (n = 50):\n",
      "  Min: 1531536.00\n",
      "  Max: 1545070.00\n",
      "  Mean: 1537527.78\n",
      "  Std: 3159.88\n",
      "Elapsed time: 0.0814 seconds\n"
     ]
    },
    {
     "name": "stderr",
     "output_type": "stream",
     "text": [
      " 42%|████▏     | 21/50 [01:26<01:58,  4.09s/it]"
     ]
    },
    {
     "name": "stdout",
     "output_type": "stream",
     "text": [
      "Best total value found after tweak: 1550300.0\n",
      "Statistics over tweak runs (n = 50):\n",
      "  Min: 1535927.00\n",
      "  Max: 1550300.00\n",
      "  Mean: 1544621.62\n",
      "  Std: 2652.39\n",
      "Elapsed time: 0.0801 seconds\n"
     ]
    },
    {
     "name": "stderr",
     "output_type": "stream",
     "text": [
      " 44%|████▍     | 22/50 [01:29<01:50,  3.94s/it]"
     ]
    },
    {
     "name": "stdout",
     "output_type": "stream",
     "text": [
      "Best total value found after tweak: 1552632.0\n",
      "Statistics over tweak runs (n = 50):\n",
      "  Min: 1539122.00\n",
      "  Max: 1552632.00\n",
      "  Mean: 1548290.76\n",
      "  Std: 2518.31\n",
      "Elapsed time: 0.0720 seconds\n"
     ]
    },
    {
     "name": "stderr",
     "output_type": "stream",
     "text": [
      " 46%|████▌     | 23/50 [01:33<01:45,  3.90s/it]"
     ]
    },
    {
     "name": "stdout",
     "output_type": "stream",
     "text": [
      "Best total value found after tweak: 1561898.0\n",
      "Statistics over tweak runs (n = 50):\n",
      "  Min: 1545763.00\n",
      "  Max: 1561898.00\n",
      "  Mean: 1553010.64\n",
      "  Std: 2700.49\n",
      "Elapsed time: 0.0763 seconds\n"
     ]
    },
    {
     "name": "stderr",
     "output_type": "stream",
     "text": [
      " 48%|████▊     | 24/50 [01:37<01:39,  3.84s/it]"
     ]
    },
    {
     "name": "stdout",
     "output_type": "stream",
     "text": [
      "Best total value found after tweak: 1569641.0\n",
      "Statistics over tweak runs (n = 50):\n",
      "  Min: 1551001.00\n",
      "  Max: 1569641.00\n",
      "  Mean: 1560264.10\n",
      "  Std: 3169.85\n",
      "Elapsed time: 0.0737 seconds\n"
     ]
    },
    {
     "name": "stderr",
     "output_type": "stream",
     "text": [
      " 50%|█████     | 25/50 [01:40<01:34,  3.80s/it]"
     ]
    },
    {
     "name": "stdout",
     "output_type": "stream",
     "text": [
      "Best total value found after tweak: 1574636.0\n",
      "Statistics over tweak runs (n = 50):\n",
      "  Min: 1561572.00\n",
      "  Max: 1574636.00\n",
      "  Mean: 1568856.30\n",
      "  Std: 2823.78\n",
      "Elapsed time: 0.0738 seconds\n"
     ]
    },
    {
     "name": "stderr",
     "output_type": "stream",
     "text": [
      " 52%|█████▏    | 26/50 [01:44<01:29,  3.71s/it]"
     ]
    },
    {
     "name": "stdout",
     "output_type": "stream",
     "text": [
      "Best total value found after tweak: 1579981.0\n",
      "Statistics over tweak runs (n = 50):\n",
      "  Min: 1567495.00\n",
      "  Max: 1579981.00\n",
      "  Mean: 1573724.22\n",
      "  Std: 2867.93\n",
      "Elapsed time: 0.0702 seconds\n"
     ]
    },
    {
     "name": "stderr",
     "output_type": "stream",
     "text": [
      " 54%|█████▍    | 27/50 [01:48<01:26,  3.77s/it]"
     ]
    },
    {
     "name": "stdout",
     "output_type": "stream",
     "text": [
      "Best total value found after tweak: 1589027.0\n",
      "Statistics over tweak runs (n = 50):\n",
      "  Min: 1569693.00\n",
      "  Max: 1589027.00\n",
      "  Mean: 1578557.74\n",
      "  Std: 3455.05\n",
      "Elapsed time: 0.0783 seconds\n"
     ]
    },
    {
     "name": "stderr",
     "output_type": "stream",
     "text": [
      " 56%|█████▌    | 28/50 [01:52<01:23,  3.79s/it]"
     ]
    },
    {
     "name": "stdout",
     "output_type": "stream",
     "text": [
      "Best total value found after tweak: 1598044.0\n",
      "Statistics over tweak runs (n = 50):\n",
      "  Min: 1585498.00\n",
      "  Max: 1598044.00\n",
      "  Mean: 1590445.12\n",
      "  Std: 2521.06\n",
      "Elapsed time: 0.0767 seconds\n"
     ]
    },
    {
     "name": "stderr",
     "output_type": "stream",
     "text": [
      " 58%|█████▊    | 29/50 [01:57<01:29,  4.27s/it]"
     ]
    },
    {
     "name": "stdout",
     "output_type": "stream",
     "text": [
      "Best total value found after tweak: 1606484.0\n",
      "Statistics over tweak runs (n = 50):\n",
      "  Min: 1586961.00\n",
      "  Max: 1606484.00\n",
      "  Mean: 1597021.94\n",
      "  Std: 3475.97\n",
      "Elapsed time: 0.1080 seconds\n"
     ]
    },
    {
     "name": "stderr",
     "output_type": "stream",
     "text": [
      " 60%|██████    | 30/50 [02:02<01:27,  4.36s/it]"
     ]
    },
    {
     "name": "stdout",
     "output_type": "stream",
     "text": [
      "Best total value found after tweak: 1611091.0\n",
      "Statistics over tweak runs (n = 50):\n",
      "  Min: 1595944.00\n",
      "  Max: 1611091.00\n",
      "  Mean: 1604186.90\n",
      "  Std: 3173.91\n",
      "Elapsed time: 0.0913 seconds\n"
     ]
    },
    {
     "name": "stderr",
     "output_type": "stream",
     "text": [
      " 62%|██████▏   | 31/50 [02:06<01:23,  4.38s/it]"
     ]
    },
    {
     "name": "stdout",
     "output_type": "stream",
     "text": [
      "Best total value found after tweak: 1617216.0\n",
      "Statistics over tweak runs (n = 50):\n",
      "  Min: 1599737.00\n",
      "  Max: 1617216.00\n",
      "  Mean: 1609409.80\n",
      "  Std: 3307.22\n",
      "Elapsed time: 0.0885 seconds\n"
     ]
    },
    {
     "name": "stderr",
     "output_type": "stream",
     "text": [
      " 64%|██████▍   | 32/50 [02:10<01:17,  4.29s/it]"
     ]
    },
    {
     "name": "stdout",
     "output_type": "stream",
     "text": [
      "Best total value found after tweak: 1624704.0\n",
      "Statistics over tweak runs (n = 50):\n",
      "  Min: 1608206.00\n",
      "  Max: 1624704.00\n",
      "  Mean: 1616446.66\n",
      "  Std: 3127.15\n",
      "Elapsed time: 0.0813 seconds\n"
     ]
    },
    {
     "name": "stderr",
     "output_type": "stream",
     "text": [
      " 66%|██████▌   | 33/50 [02:14<01:11,  4.21s/it]"
     ]
    },
    {
     "name": "stdout",
     "output_type": "stream",
     "text": [
      "Best total value found after tweak: 1638013.0\n",
      "Statistics over tweak runs (n = 50):\n",
      "  Min: 1617931.00\n",
      "  Max: 1638013.00\n",
      "  Mean: 1625675.10\n",
      "  Std: 3056.28\n",
      "Elapsed time: 0.0805 seconds\n"
     ]
    },
    {
     "name": "stderr",
     "output_type": "stream",
     "text": [
      " 68%|██████▊   | 34/50 [02:19<01:10,  4.41s/it]"
     ]
    },
    {
     "name": "stdout",
     "output_type": "stream",
     "text": [
      "Best total value found after tweak: 1644108.0\n",
      "Statistics over tweak runs (n = 50):\n",
      "  Min: 1630332.00\n",
      "  Max: 1644108.00\n",
      "  Mean: 1636521.74\n",
      "  Std: 2735.95\n",
      "Elapsed time: 0.0972 seconds\n"
     ]
    },
    {
     "name": "stderr",
     "output_type": "stream",
     "text": [
      " 70%|███████   | 35/50 [02:23<01:03,  4.24s/it]"
     ]
    },
    {
     "name": "stdout",
     "output_type": "stream",
     "text": [
      "Best total value found after tweak: 1646034.0\n",
      "Statistics over tweak runs (n = 50):\n",
      "  Min: 1632984.00\n",
      "  Max: 1646034.00\n",
      "  Mean: 1641562.66\n",
      "  Std: 3013.02\n",
      "Elapsed time: 0.0769 seconds\n"
     ]
    },
    {
     "name": "stderr",
     "output_type": "stream",
     "text": [
      " 72%|███████▏  | 36/50 [02:26<00:56,  4.05s/it]"
     ]
    },
    {
     "name": "stdout",
     "output_type": "stream",
     "text": [
      "Best total value found after tweak: 1649890.0\n",
      "Statistics over tweak runs (n = 50):\n",
      "  Min: 1638016.00\n",
      "  Max: 1649890.00\n",
      "  Mean: 1643487.48\n",
      "  Std: 2612.15\n",
      "Elapsed time: 0.0722 seconds\n"
     ]
    },
    {
     "name": "stderr",
     "output_type": "stream",
     "text": [
      " 74%|███████▍  | 37/50 [02:31<00:54,  4.22s/it]"
     ]
    },
    {
     "name": "stdout",
     "output_type": "stream",
     "text": [
      "Best total value found after tweak: 1652685.0\n",
      "Statistics over tweak runs (n = 50):\n",
      "  Min: 1638626.00\n",
      "  Max: 1652685.00\n",
      "  Mean: 1647302.28\n",
      "  Std: 3068.18\n",
      "Elapsed time: 0.0920 seconds\n"
     ]
    },
    {
     "name": "stderr",
     "output_type": "stream",
     "text": [
      " 76%|███████▌  | 38/50 [02:35<00:48,  4.02s/it]"
     ]
    },
    {
     "name": "stdout",
     "output_type": "stream",
     "text": [
      "Best total value found after tweak: 1656585.0\n",
      "Statistics over tweak runs (n = 50):\n",
      "  Min: 1642017.00\n",
      "  Max: 1656585.00\n",
      "  Mean: 1649375.60\n",
      "  Std: 3316.35\n",
      "Elapsed time: 0.0713 seconds\n"
     ]
    },
    {
     "name": "stderr",
     "output_type": "stream",
     "text": [
      " 78%|███████▊  | 39/50 [02:39<00:45,  4.18s/it]"
     ]
    },
    {
     "name": "stdout",
     "output_type": "stream",
     "text": [
      "Best total value found after tweak: 1661745.0\n",
      "Statistics over tweak runs (n = 50):\n",
      "  Min: 1642639.00\n",
      "  Max: 1661745.00\n",
      "  Mean: 1652625.14\n",
      "  Std: 3955.24\n",
      "Elapsed time: 0.0907 seconds\n"
     ]
    },
    {
     "name": "stderr",
     "output_type": "stream",
     "text": [
      " 80%|████████  | 40/50 [02:43<00:41,  4.17s/it]"
     ]
    },
    {
     "name": "stdout",
     "output_type": "stream",
     "text": [
      "Best total value found after tweak: 1666606.0\n",
      "Statistics over tweak runs (n = 50):\n",
      "  Min: 1646483.00\n",
      "  Max: 1666606.00\n",
      "  Mean: 1657751.54\n",
      "  Std: 3959.65\n",
      "Elapsed time: 0.0834 seconds\n"
     ]
    },
    {
     "name": "stderr",
     "output_type": "stream",
     "text": [
      " 82%|████████▏ | 41/50 [02:47<00:36,  4.10s/it]"
     ]
    },
    {
     "name": "stdout",
     "output_type": "stream",
     "text": [
      "Best total value found after tweak: 1668973.0\n",
      "Statistics over tweak runs (n = 50):\n",
      "  Min: 1652669.00\n",
      "  Max: 1668973.00\n",
      "  Mean: 1662394.70\n",
      "  Std: 3949.91\n",
      "Elapsed time: 0.0787 seconds\n"
     ]
    },
    {
     "name": "stderr",
     "output_type": "stream",
     "text": [
      " 84%|████████▍ | 42/50 [02:51<00:32,  4.09s/it]"
     ]
    },
    {
     "name": "stdout",
     "output_type": "stream",
     "text": [
      "Best total value found after tweak: 1673378.0\n",
      "Statistics over tweak runs (n = 50):\n",
      "  Min: 1660220.00\n",
      "  Max: 1673378.00\n",
      "  Mean: 1666535.96\n",
      "  Std: 3174.82\n",
      "Elapsed time: 0.0810 seconds\n"
     ]
    },
    {
     "name": "stderr",
     "output_type": "stream",
     "text": [
      " 86%|████████▌ | 43/50 [02:56<00:29,  4.19s/it]"
     ]
    },
    {
     "name": "stdout",
     "output_type": "stream",
     "text": [
      "Best total value found after tweak: 1677066.0\n",
      "Statistics over tweak runs (n = 50):\n",
      "  Min: 1660926.00\n",
      "  Max: 1677066.00\n",
      "  Mean: 1669685.64\n",
      "  Std: 3533.80\n",
      "Elapsed time: 0.0886 seconds\n"
     ]
    },
    {
     "name": "stderr",
     "output_type": "stream",
     "text": [
      " 88%|████████▊ | 44/50 [03:00<00:26,  4.34s/it]"
     ]
    },
    {
     "name": "stdout",
     "output_type": "stream",
     "text": [
      "Best total value found after tweak: 1680730.0\n",
      "Statistics over tweak runs (n = 50):\n",
      "  Min: 1667933.00\n",
      "  Max: 1680730.00\n",
      "  Mean: 1674439.62\n",
      "  Std: 2819.19\n",
      "Elapsed time: 0.0936 seconds\n"
     ]
    },
    {
     "name": "stderr",
     "output_type": "stream",
     "text": [
      " 90%|█████████ | 45/50 [03:05<00:21,  4.38s/it]"
     ]
    },
    {
     "name": "stdout",
     "output_type": "stream",
     "text": [
      "Best total value found after tweak: 1683705.0\n",
      "Statistics over tweak runs (n = 50):\n",
      "  Min: 1671539.00\n",
      "  Max: 1683705.00\n",
      "  Mean: 1677191.26\n",
      "  Std: 3301.34\n",
      "Elapsed time: 0.0897 seconds\n"
     ]
    },
    {
     "name": "stderr",
     "output_type": "stream",
     "text": [
      " 92%|█████████▏| 46/50 [03:09<00:17,  4.31s/it]"
     ]
    },
    {
     "name": "stdout",
     "output_type": "stream",
     "text": [
      "Best total value found after tweak: 1686395.0\n",
      "Statistics over tweak runs (n = 50):\n",
      "  Min: 1669335.00\n",
      "  Max: 1686395.00\n",
      "  Mean: 1679607.24\n",
      "  Std: 3845.85\n",
      "Elapsed time: 0.0824 seconds\n"
     ]
    },
    {
     "name": "stderr",
     "output_type": "stream",
     "text": [
      " 94%|█████████▍| 47/50 [03:13<00:12,  4.05s/it]"
     ]
    },
    {
     "name": "stdout",
     "output_type": "stream",
     "text": [
      "Best total value found after tweak: 1689047.0\n",
      "Statistics over tweak runs (n = 50):\n",
      "  Min: 1672673.00\n",
      "  Max: 1689047.00\n",
      "  Mean: 1683230.08\n",
      "  Std: 3654.30\n",
      "Elapsed time: 0.0688 seconds\n"
     ]
    },
    {
     "name": "stderr",
     "output_type": "stream",
     "text": [
      " 96%|█████████▌| 48/50 [03:17<00:08,  4.10s/it]"
     ]
    },
    {
     "name": "stdout",
     "output_type": "stream",
     "text": [
      "Best total value found after tweak: 1691319.0\n",
      "Statistics over tweak runs (n = 50):\n",
      "  Min: 1678558.00\n",
      "  Max: 1691319.00\n",
      "  Mean: 1685676.68\n",
      "  Std: 2945.14\n",
      "Elapsed time: 0.0845 seconds\n"
     ]
    },
    {
     "name": "stderr",
     "output_type": "stream",
     "text": [
      " 98%|█████████▊| 49/50 [03:21<00:04,  4.25s/it]"
     ]
    },
    {
     "name": "stdout",
     "output_type": "stream",
     "text": [
      "Best total value found after tweak: 1696169.0\n",
      "Statistics over tweak runs (n = 50):\n",
      "  Min: 1678152.00\n",
      "  Max: 1696169.00\n",
      "  Mean: 1687745.66\n",
      "  Std: 3642.85\n",
      "Elapsed time: 0.0922 seconds\n"
     ]
    },
    {
     "name": "stderr",
     "output_type": "stream",
     "text": [
      "100%|██████████| 50/50 [03:25<00:00,  4.12s/it]"
     ]
    },
    {
     "name": "stdout",
     "output_type": "stream",
     "text": [
      "Best total value found after tweak: 1700867.0\n",
      "Statistics over tweak runs (n = 50):\n",
      "  Min: 1682583.00\n",
      "  Max: 1700867.00\n",
      "  Mean: 1694242.54\n",
      "  Std: 3410.91\n",
      "Elapsed time: 0.0786 seconds\n",
      "1700867\n"
     ]
    },
    {
     "name": "stderr",
     "output_type": "stream",
     "text": [
      "\n"
     ]
    }
   ],
   "source": [
    "first_solution = benchmark_solution(find_first_solution, n_runs=10)\n",
    "first_solution.total_value\n",
    "tweaked_solution = first_solution\n",
    "for _ in tqdm(range(50)):\n",
    "    tweaked_solution = benchmark_tweak(tweaked_solution, tweak_solution, n_runs=50)\n",
    "print(tweaked_solution.total_value)"
   ]
  }
 ],
 "metadata": {
  "kernelspec": {
   "display_name": "labs",
   "language": "python",
   "name": "python3"
  },
  "language_info": {
   "codemirror_mode": {
    "name": "ipython",
    "version": 3
   },
   "file_extension": ".py",
   "mimetype": "text/x-python",
   "name": "python",
   "nbconvert_exporter": "python",
   "pygments_lexer": "ipython3",
   "version": "3.13.2"
  }
 },
 "nbformat": 4,
 "nbformat_minor": 5
}
